{
 "cells": [
  {
   "cell_type": "code",
   "execution_count": 6,
   "id": "7f733187",
   "metadata": {},
   "outputs": [
    {
     "name": "stdout",
     "output_type": "stream",
     "text": [
      "[]\n",
      "<class 'list'>\n"
     ]
    }
   ],
   "source": [
    "# list data types\n",
    "\n",
    "list = []\n",
    "\n",
    "print(list)\n",
    "print(type(list))\n",
    "\n"
   ]
  },
  {
   "cell_type": "code",
   "execution_count": 12,
   "id": "21805594",
   "metadata": {},
   "outputs": [
    {
     "name": "stdout",
     "output_type": "stream",
     "text": [
      "['Datta', 'Amma', 'bammnaa', 'illamama', 1, 2, 3, 4, 5]\n"
     ]
    }
   ],
   "source": [
    "list = [\"Datta\",\"Amma\",\"bammnaa\",\"illamama\",1,2,3,4,5]\n",
    "\n",
    "\n",
    "print(list)"
   ]
  },
  {
   "cell_type": "code",
   "execution_count": 17,
   "id": "07aa0f39",
   "metadata": {},
   "outputs": [
    {
     "name": "stdout",
     "output_type": "stream",
     "text": [
      "mango\n"
     ]
    }
   ],
   "source": [
    "# accessing list elements indexing method\n",
    "\n",
    "fruits = [\"Apple\",\"banana\",\"cherry\",\"mango\"]\n",
    "\n",
    "fruits[1]\n",
    "print(fruits[3])\n"
   ]
  },
  {
   "cell_type": "code",
   "execution_count": 25,
   "id": "65666c8c",
   "metadata": {},
   "outputs": [
    {
     "name": "stdout",
     "output_type": "stream",
     "text": [
      "mango\n",
      "banana\n",
      "mango\n",
      "['mango']\n",
      "['mango']\n"
     ]
    },
    {
     "data": {
      "text/plain": [
       "['cherry', 'mango']"
      ]
     },
     "execution_count": 25,
     "metadata": {},
     "output_type": "execute_result"
    }
   ],
   "source": [
    "print(fruits[3])\n",
    "print(fruits[1])\n",
    "print(fruits[-1])\n",
    "print(fruits[-1:])\n",
    "print(fruits[3:])\n",
    "fruits[:2]\n",
    "fruits[2:]"
   ]
  },
  {
   "cell_type": "code",
   "execution_count": 26,
   "id": "570d2446",
   "metadata": {},
   "outputs": [
    {
     "name": "stdout",
     "output_type": "stream",
     "text": [
      "['Apple', 'banana', 'cherry', 'mango', 'papaya']\n"
     ]
    }
   ],
   "source": [
    "# modified list elements\n",
    "\n",
    "fruits.append(\"papaya\")\n",
    "\n",
    "print(fruits)"
   ]
  },
  {
   "cell_type": "code",
   "execution_count": 29,
   "id": "a11eef49",
   "metadata": {},
   "outputs": [
    {
     "data": {
      "text/plain": [
       "['Apple', 'safarchand', 'cherry', 'mango', 'peru']"
      ]
     },
     "execution_count": 29,
     "metadata": {},
     "output_type": "execute_result"
    }
   ],
   "source": [
    "# replace values in list\n",
    "\n",
    "fruits[4] = \"peru\"\n",
    "fruits\n",
    "\n",
    "fruits[1] = \"safarchand\"\n",
    "fruits"
   ]
  },
  {
   "cell_type": "code",
   "execution_count": null,
   "id": "fd0a67c5",
   "metadata": {},
   "outputs": [
    {
     "data": {
      "text/plain": [
       "['Apple', 'safarchand', 'cherry', 'mango', 'peru', 'Orango']"
      ]
     },
     "execution_count": 30,
     "metadata": {},
     "output_type": "execute_result"
    }
   ],
   "source": [
    "# list Method\n",
    "\n",
    "fruits.append(\"Orango\") # add item in the end\n",
    "fruits"
   ]
  },
  {
   "cell_type": "code",
   "execution_count": 31,
   "id": "48f6ad46",
   "metadata": {},
   "outputs": [
    {
     "data": {
      "text/plain": [
       "['Apple', 'safarchand', 'cherry', 'bora', 'mango', 'peru', 'Orango']"
      ]
     },
     "execution_count": 31,
     "metadata": {},
     "output_type": "execute_result"
    }
   ],
   "source": [
    "# list item need to add as per indexing number\n",
    "\n",
    "fruits.insert(3,\"bora\")\n",
    "fruits"
   ]
  },
  {
   "cell_type": "code",
   "execution_count": 32,
   "id": "27823b22",
   "metadata": {},
   "outputs": [
    {
     "data": {
      "text/plain": [
       "['Apple', 'safarchand', 'cherry', 'mango', 'peru', 'Orango']"
      ]
     },
     "execution_count": 32,
     "metadata": {},
     "output_type": "execute_result"
    }
   ],
   "source": [
    "# remove list item\n",
    "\n",
    "fruits.remove(\"bora\")\n",
    "fruits"
   ]
  },
  {
   "cell_type": "code",
   "execution_count": 36,
   "id": "b84c5f5f",
   "metadata": {},
   "outputs": [
    {
     "name": "stdout",
     "output_type": "stream",
     "text": [
      "safarchand\n",
      "['Apple']\n"
     ]
    }
   ],
   "source": [
    "# remove an return last item\n",
    "\n",
    "popped_fruits = fruits.pop()\n",
    "print(popped_fruits)\n",
    "print(fruits)\n",
    "\n"
   ]
  },
  {
   "cell_type": "code",
   "execution_count": null,
   "id": "fe6a14e9",
   "metadata": {},
   "outputs": [],
   "source": [
    "fruits.pop()\n",
    "fruits"
   ]
  },
  {
   "cell_type": "code",
   "execution_count": null,
   "id": "0a9a7fc6",
   "metadata": {},
   "outputs": [
    {
     "data": {
      "text/plain": [
       "0"
      ]
     },
     "execution_count": 40,
     "metadata": {},
     "output_type": "execute_result"
    }
   ],
   "source": [
    "# i want to know the index number as per fruit name\n",
    "\n",
    "fruits.index(\"Apple\")\n",
    "\n",
    "\n"
   ]
  },
  {
   "cell_type": "code",
   "execution_count": 41,
   "id": "3a479fba",
   "metadata": {},
   "outputs": [
    {
     "name": "stdout",
     "output_type": "stream",
     "text": [
      "0\n"
     ]
    }
   ],
   "source": [
    "Index = fruits.index(\"Apple\")\n",
    "print(Index)"
   ]
  },
  {
   "cell_type": "code",
   "execution_count": null,
   "id": "4318b638",
   "metadata": {},
   "outputs": [
    {
     "name": "stdout",
     "output_type": "stream",
     "text": [
      "['Apple', 'Banana', 'Kiwi', 'Mango']\n"
     ]
    },
    {
     "data": {
      "text/plain": [
       "['Apple', 'Banana', 'Kiwi', 'Mango']"
      ]
     },
     "execution_count": 51,
     "metadata": {},
     "output_type": "execute_result"
    }
   ],
   "source": [
    "# sorting the fruits elements\n",
    "\n",
    "fruits.sort()\n",
    "print(fruits)\n",
    "fruits"
   ]
  },
  {
   "cell_type": "code",
   "execution_count": null,
   "id": "49cb9e41",
   "metadata": {},
   "outputs": [],
   "source": [
    "# reverse \n",
    "\n",
    "fruits.reverse()\n"
   ]
  },
  {
   "cell_type": "code",
   "execution_count": 56,
   "id": "008a1607",
   "metadata": {},
   "outputs": [
    {
     "data": {
      "text/plain": [
       "['Mango', 'Kiwi', 'Banana', 'Apple']"
      ]
     },
     "execution_count": 56,
     "metadata": {},
     "output_type": "execute_result"
    }
   ],
   "source": [
    "fruits"
   ]
  },
  {
   "cell_type": "code",
   "execution_count": 57,
   "id": "ca6d33a6",
   "metadata": {},
   "outputs": [],
   "source": [
    "# how to clear list elements\n",
    "\n",
    "fruits.clear()"
   ]
  },
  {
   "cell_type": "code",
   "execution_count": 58,
   "id": "01ef8056",
   "metadata": {},
   "outputs": [
    {
     "data": {
      "text/plain": [
       "[]"
      ]
     },
     "execution_count": 58,
     "metadata": {},
     "output_type": "execute_result"
    }
   ],
   "source": [
    "fruits"
   ]
  },
  {
   "cell_type": "code",
   "execution_count": 61,
   "id": "db3e66be",
   "metadata": {},
   "outputs": [
    {
     "name": "stdout",
     "output_type": "stream",
     "text": [
      "[3, 4, 5, 6, 7, 8, 9, 10]\n",
      "[4, 5, 6, 7]\n",
      "[6, 7, 8, 9, 10]\n",
      "[1, 2, 3, 4, 5]\n",
      "[5, 6, 7, 8, 9, 10]\n",
      "[1, 6]\n",
      "[8, 9, 10]\n",
      "[10, 6, 2]\n"
     ]
    }
   ],
   "source": [
    "# slicing list\n",
    "numbers= [1,2,3,4,5,6,7,8,9,10]\n",
    "\n",
    "print(numbers[2:])\n",
    "print(numbers[3:7])\n",
    "print(numbers[5:])\n",
    "print(numbers[:5])\n",
    "print(numbers[4::])\n",
    "print(numbers[::5])\n",
    "print(numbers[-3:])\n",
    "print(numbers[::-4])\n"
   ]
  },
  {
   "cell_type": "code",
   "execution_count": 72,
   "id": "30f6c59f",
   "metadata": {},
   "outputs": [
    {
     "ename": "TypeError",
     "evalue": "'int' object is not iterable",
     "output_type": "error",
     "traceback": [
      "\u001b[1;31m---------------------------------------------------------------------------\u001b[0m",
      "\u001b[1;31mTypeError\u001b[0m                                 Traceback (most recent call last)",
      "Cell \u001b[1;32mIn[72], line 3\u001b[0m\n\u001b[0;32m      1\u001b[0m \u001b[38;5;66;03m# iterate over list\u001b[39;00m\n\u001b[1;32m----> 3\u001b[0m \u001b[38;5;28;01mfor\u001b[39;00m number \u001b[38;5;129;01min\u001b[39;00m numbers:\n\u001b[0;32m      4\u001b[0m     \u001b[38;5;28mprint\u001b[39m(number)\n",
      "\u001b[1;31mTypeError\u001b[0m: 'int' object is not iterable"
     ]
    }
   ],
   "source": [
    "# iterate over list\n",
    "\n",
    "for number in numbers:\n",
    "    print(number)"
   ]
  },
  {
   "cell_type": "code",
   "execution_count": 76,
   "id": "7285f125",
   "metadata": {},
   "outputs": [
    {
     "data": {
      "text/plain": [
       "[1, 2, 3, 4, 5, 6, 7, 8, 9, 10]"
      ]
     },
     "execution_count": 76,
     "metadata": {},
     "output_type": "execute_result"
    }
   ],
   "source": [
    "numbers = [1,2,3,4,5,6,7,8,9,10]\n",
    "numbers\n",
    "    "
   ]
  },
  {
   "cell_type": "code",
   "execution_count": 77,
   "id": "58bf8fbf",
   "metadata": {},
   "outputs": [
    {
     "name": "stdout",
     "output_type": "stream",
     "text": [
      "1\n",
      "2\n",
      "3\n",
      "4\n",
      "5\n",
      "6\n",
      "7\n",
      "8\n",
      "9\n",
      "10\n"
     ]
    }
   ],
   "source": [
    "for num in numbers:\n",
    "    print(num)"
   ]
  },
  {
   "cell_type": "code",
   "execution_count": 78,
   "id": "234c6b4f",
   "metadata": {},
   "outputs": [
    {
     "name": "stdout",
     "output_type": "stream",
     "text": [
      "0 [1, 2, 3, 4, 5, 6, 7, 8, 9, 10]\n",
      "1 [1, 2, 3, 4, 5, 6, 7, 8, 9, 10]\n",
      "2 [1, 2, 3, 4, 5, 6, 7, 8, 9, 10]\n",
      "3 [1, 2, 3, 4, 5, 6, 7, 8, 9, 10]\n",
      "4 [1, 2, 3, 4, 5, 6, 7, 8, 9, 10]\n",
      "5 [1, 2, 3, 4, 5, 6, 7, 8, 9, 10]\n",
      "6 [1, 2, 3, 4, 5, 6, 7, 8, 9, 10]\n",
      "7 [1, 2, 3, 4, 5, 6, 7, 8, 9, 10]\n",
      "8 [1, 2, 3, 4, 5, 6, 7, 8, 9, 10]\n",
      "9 [1, 2, 3, 4, 5, 6, 7, 8, 9, 10]\n"
     ]
    }
   ],
   "source": [
    "for index,number in enumerate(numbers):\n",
    "    print(index,numbers)"
   ]
  },
  {
   "cell_type": "code",
   "execution_count": 81,
   "id": "1f149515",
   "metadata": {},
   "outputs": [
    {
     "name": "stdout",
     "output_type": "stream",
     "text": [
      "[0, 1, 4, 9, 16, 25, 36, 49, 64, 81, 100, 121]\n"
     ]
    }
   ],
   "source": [
    "# list Comprehensive\n",
    "\n",
    "lst = []\n",
    "\n",
    "for x in  range (12):\n",
    "    lst.append(x**2)\n",
    "    \n",
    "print(lst)"
   ]
  },
  {
   "cell_type": "code",
   "execution_count": 84,
   "id": "aac76557",
   "metadata": {},
   "outputs": [
    {
     "data": {
      "text/plain": [
       "[0, 1, 8, 27, 64, 125, 216, 343, 512, 729, 1000, 1331]"
      ]
     },
     "execution_count": 84,
     "metadata": {},
     "output_type": "execute_result"
    }
   ],
   "source": [
    "# list Comprehensive aletrnative\n",
    "\n",
    "[x**3 for x in range(12)]\n",
    "\n"
   ]
  },
  {
   "cell_type": "code",
   "execution_count": 86,
   "id": "9c6d9644",
   "metadata": {},
   "outputs": [
    {
     "name": "stdout",
     "output_type": "stream",
     "text": [
      "[0, 1, 4, 9, 16, 25, 36, 49, 64, 81, 100, 121]\n"
     ]
    }
   ],
   "source": [
    "### list Comprehensive\n",
    "square = [x**2 for x in range(12)]\n",
    "print(square)"
   ]
  },
  {
   "cell_type": "code",
   "execution_count": 94,
   "id": "22519650",
   "metadata": {},
   "outputs": [
    {
     "name": "stdout",
     "output_type": "stream",
     "text": [
      "[0, 2, 4, 6, 8, 10, 12]\n"
     ]
    }
   ],
   "source": [
    "lst = []\n",
    "\n",
    "for i in range(14):\n",
    "    if i % 2 == 0:\n",
    "        lst.append(i)\n",
    "print(lst)"
   ]
  },
  {
   "cell_type": "code",
   "execution_count": 100,
   "id": "caab642a",
   "metadata": {},
   "outputs": [
    {
     "name": "stdout",
     "output_type": "stream",
     "text": [
      "[10, 10, 10, 10, 10, 10, 10, 10, 10, 10, 10, 10, 10, 10, 10, 10, 10, 10, 10, 10, 10, 10, 10, 10, 10, 10, 10, 10, 10, 10]\n"
     ]
    }
   ],
   "source": [
    "even_number = [num for i in range (30) if num % 2 == 0]\n",
    "print(even_number)"
   ]
  },
  {
   "cell_type": "code",
   "execution_count": 106,
   "id": "45df5afd",
   "metadata": {},
   "outputs": [
    {
     "name": "stdout",
     "output_type": "stream",
     "text": [
      "[[1, 'som'], [1, 'mangal'], [1, 'buth'], [1, 'guru'], [1, 'shukra'], [1, 'shani'], [2, 'som'], [2, 'mangal'], [2, 'buth'], [2, 'guru'], [2, 'shukra'], [2, 'shani'], [3, 'som'], [3, 'mangal'], [3, 'buth'], [3, 'guru'], [3, 'shukra'], [3, 'shani'], [4, 'som'], [4, 'mangal'], [4, 'buth'], [4, 'guru'], [4, 'shukra'], [4, 'shani'], [5, 'som'], [5, 'mangal'], [5, 'buth'], [5, 'guru'], [5, 'shukra'], [5, 'shani']]\n"
     ]
    },
    {
     "data": {
      "text/plain": [
       "[[1, 'som'],\n",
       " [1, 'mangal'],\n",
       " [1, 'buth'],\n",
       " [1, 'guru'],\n",
       " [1, 'shukra'],\n",
       " [1, 'shani'],\n",
       " [2, 'som'],\n",
       " [2, 'mangal'],\n",
       " [2, 'buth'],\n",
       " [2, 'guru'],\n",
       " [2, 'shukra'],\n",
       " [2, 'shani'],\n",
       " [3, 'som'],\n",
       " [3, 'mangal'],\n",
       " [3, 'buth'],\n",
       " [3, 'guru'],\n",
       " [3, 'shukra'],\n",
       " [3, 'shani'],\n",
       " [4, 'som'],\n",
       " [4, 'mangal'],\n",
       " [4, 'buth'],\n",
       " [4, 'guru'],\n",
       " [4, 'shukra'],\n",
       " [4, 'shani'],\n",
       " [5, 'som'],\n",
       " [5, 'mangal'],\n",
       " [5, 'buth'],\n",
       " [5, 'guru'],\n",
       " [5, 'shukra'],\n",
       " [5, 'shani']]"
      ]
     },
     "execution_count": 106,
     "metadata": {},
     "output_type": "execute_result"
    }
   ],
   "source": [
    "# nested List Comprehensive\n",
    "\n",
    "lst1 = [1,2,3,4,5]\n",
    "lst2 = ['som','mangal','buth','guru','shukra','shani']\n",
    "\n",
    "pair = [[i,j]for i in lst1 for j in lst2]\n",
    "print(pair)\n",
    "pair"
   ]
  },
  {
   "cell_type": "code",
   "execution_count": 107,
   "id": "824880b3",
   "metadata": {},
   "outputs": [
    {
     "name": "stdout",
     "output_type": "stream",
     "text": [
      "[14, 6, 8, 6, 6]\n"
     ]
    }
   ],
   "source": [
    "# list Comprehensive with function calls\n",
    "word =  [\"brahma rakshas\", \"chetuk\",\"visfotak\",\"chakwa\",\"khaise\"]\n",
    "\n",
    "lenght = [len(word) for word in word]\n",
    "\n",
    "print(lenght)\n"
   ]
  }
 ],
 "metadata": {
  "kernelspec": {
   "display_name": "Python 3",
   "language": "python",
   "name": "python3"
  },
  "language_info": {
   "codemirror_mode": {
    "name": "ipython",
    "version": 3
   },
   "file_extension": ".py",
   "mimetype": "text/x-python",
   "name": "python",
   "nbconvert_exporter": "python",
   "pygments_lexer": "ipython3",
   "version": "3.10.0"
  }
 },
 "nbformat": 4,
 "nbformat_minor": 5
}
