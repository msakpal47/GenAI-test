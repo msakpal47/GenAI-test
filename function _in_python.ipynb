{
 "cells": [
  {
   "cell_type": "code",
   "execution_count": 8,
   "id": "b08caa73",
   "metadata": {},
   "outputs": [],
   "source": [
    "# function paramter \n",
    "# syntex\n",
    "def function_name (paramter):\n",
    "# code body\n",
    "    return expression "
   ]
  },
  {
   "cell_type": "code",
   "execution_count": 3,
   "id": "c22fce09",
   "metadata": {},
   "outputs": [],
   "source": [
    "# Define a function with a parameter\n",
    "def function_name(parameter):\n",
    "    # code body\n",
    "    return parameter * 2  # example return expression\n"
   ]
  },
  {
   "cell_type": "code",
   "execution_count": 18,
   "id": "68d2380f",
   "metadata": {},
   "outputs": [
    {
     "name": "stdout",
     "output_type": "stream",
     "text": [
      "('hello it is nice evening', 'monish')\n"
     ]
    }
   ],
   "source": [
    "def greet(name):\n",
    "    return \"hello it is nice evening\" , name\n",
    "print(greet('monish'))"
   ]
  },
  {
   "cell_type": "code",
   "execution_count": 20,
   "id": "98dc8582",
   "metadata": {},
   "outputs": [
    {
     "name": "stdout",
     "output_type": "stream",
     "text": [
      "number is odd\n"
     ]
    }
   ],
   "source": [
    "number = 5\n",
    "\n",
    "if number % 2 == 0:\n",
    "    print(\"number is even\")\n",
    "else:\n",
    "    print(\"number is odd\")"
   ]
  },
  {
   "cell_type": "code",
   "execution_count": 21,
   "id": "2fe28d75",
   "metadata": {},
   "outputs": [
    {
     "name": "stdout",
     "output_type": "stream",
     "text": [
      "number is even\n"
     ]
    }
   ],
   "source": [
    "number = int(input(\"please input desire number\"))\n",
    "\n",
    "if number % 2 == 0:\n",
    "    print(\"number is even\")\n",
    "else:\n",
    "    print(\"number is odd\")"
   ]
  },
  {
   "cell_type": "code",
   "execution_count": null,
   "id": "244df3d3",
   "metadata": {},
   "outputs": [],
   "source": [
    "# make a function\n",
    "def check_even_add(number):\n",
    "    if number % 2 == 0:\n",
    "        print(\"number is even\")\n",
    "    else:\n",
    "        print(\"number is odd\")"
   ]
  },
  {
   "cell_type": "code",
   "execution_count": 23,
   "id": "05dddb98",
   "metadata": {},
   "outputs": [
    {
     "name": "stdout",
     "output_type": "stream",
     "text": [
      "number is odd\n"
     ]
    }
   ],
   "source": [
    "# how to use the function\n",
    "\n",
    "values_number = int(input(\"please enter desire values\"))\n",
    "\n",
    "check_even_add(values_number)\n",
    "\n"
   ]
  },
  {
   "cell_type": "code",
   "execution_count": 24,
   "id": "d9680c14",
   "metadata": {},
   "outputs": [
    {
     "name": "stdout",
     "output_type": "stream",
     "text": [
      "this is even number\n",
      "this is even values\n"
     ]
    }
   ],
   "source": [
    "# make full function code\n",
    "\n",
    "number = int(input(\"please enter desire values\"))\n",
    "\n",
    "if number % 2 == 0:\n",
    "    print(\"this is even number\")\n",
    "else:\n",
    "    print(\"this is odd number\")\n",
    "\n",
    "\n",
    "# how to make a function\n",
    "\n",
    "def even_odd_number(number):\n",
    "    if number % 2 == 0:\n",
    "        print(\"this is even values\")\n",
    "    else:\n",
    "        print(\"this is odd values\")\n",
    "\n",
    "\n",
    "# how to reuse this code\n",
    "\n",
    "even_odd_number(number)"
   ]
  },
  {
   "cell_type": "code",
   "execution_count": 25,
   "id": "0784e2d3",
   "metadata": {},
   "outputs": [
    {
     "name": "stdout",
     "output_type": "stream",
     "text": [
      "this is odd number\n"
     ]
    }
   ],
   "source": [
    "# code def function\n",
    "\n",
    "def even_odd_number(number):\n",
    "    if number % 2 == 0:\n",
    "        print(\"this is even number\")\n",
    "    else:\n",
    "        print(\"this is odd number\")\n",
    "\n",
    "number = int(input(\"please enter desire values\"))\n",
    "\n",
    "even_odd_number(number)"
   ]
  },
  {
   "cell_type": "code",
   "execution_count": null,
   "id": "3f0e17ec",
   "metadata": {},
   "outputs": [
    {
     "name": "stdout",
     "output_type": "stream",
     "text": [
      "number is even\n",
      "number is even\n",
      "number is odd\n"
     ]
    }
   ],
   "source": [
    "# please make a function with multiple parameter\n",
    "\n",
    "def check_multiple_number(num1,num2,num3):\n",
    "    for number in [num1,num2,num3]:\n",
    "        if number % 2 == 0:\n",
    "            print(\"number is even\")\n",
    "        else:\n",
    "            print(\"number is odd\")\n",
    "            \n",
    "# giving paramter \n",
    "a = int(input(\"please enter desire values\"))\n",
    "b = int(input(\"please enter desire values\"))\n",
    "c = int(input(\"please enter desire values\"))\n",
    "\n",
    "\n",
    "# how to reuse the code\n",
    " \n",
    "check_multiple_number(a,b,c)\n"
   ]
  },
  {
   "cell_type": "code",
   "execution_count": 37,
   "id": "ebf2b9c4",
   "metadata": {},
   "outputs": [
    {
     "name": "stdout",
     "output_type": "stream",
     "text": [
      "add: 18\n",
      "substraction: 6\n",
      "multiplication: 72\n",
      "dividetion: 2.0\n",
      "module: 0\n",
      "exponentioal: 2985984\n",
      "floor_divion: 2\n"
     ]
    }
   ],
   "source": [
    "# please make a function with multiple parameter\n",
    "# mathmetical function\n",
    "\n",
    "def add (a,b):\n",
    "    return a + b\n",
    "def substraction (a,b):\n",
    "    return a - b\n",
    "def multiplication (a,b):\n",
    "    return a * b\n",
    "def dividetion (a,b):\n",
    "    return a / b\n",
    "def module (a ,b):\n",
    "    return a % b\n",
    "def exponentioal (a,b):\n",
    "    return a ** b\n",
    "def floor_divion (a,b):\n",
    "    return a // b\n",
    "\n",
    "# giving input values\n",
    "\n",
    "a = int(input(\"please enter even number\"))\n",
    "b = int(input(\"please enter even number\"))\n",
    "\n",
    "# giving paramter\n",
    "add_result = add(a,b)\n",
    "substraction_result = substraction(a,b)\n",
    "multiplication_result = multiplication(a,b)\n",
    "dividetion_result = dividetion(a,b)\n",
    "module_result = module(a,b)\n",
    "exponentioal_result = exponentioal(a,b)\n",
    "floor_divion_result = floor_divion(a,b)\n",
    "\n",
    "# how to excute function\n",
    "\n",
    "print(\"add:\",add_result)\n",
    "print(\"substraction:\", substraction_result)\n",
    "print(\"multiplication:\", multiplication_result)\n",
    "print(\"dividetion:\", dividetion_result)\n",
    "print(\"module:\", module_result)\n",
    "print(\"exponentioal:\", exponentioal_result)\n",
    "print(\"floor_divion:\", floor_divion_result)\n",
    "\n",
    "\n",
    "\n",
    "\n",
    "\n",
    "\n"
   ]
  },
  {
   "cell_type": "code",
   "execution_count": 38,
   "id": "754d437c",
   "metadata": {},
   "outputs": [
    {
     "name": "stdout",
     "output_type": "stream",
     "text": [
      "addition: 18\n",
      "substraction: 18\n",
      "multiplication: 18\n",
      "dividetion: 18\n",
      "module: 18\n",
      "exponentioal: 18\n",
      "floor_divion: 18\n"
     ]
    }
   ],
   "source": [
    "def addition(a,b):\n",
    "    return a + b\n",
    "def substraction(a,b):\n",
    "    return a + b\n",
    "def multiplication(a,b):\n",
    "    return a + b\n",
    "def dividetion(a,b):\n",
    "    return a + b\n",
    "def module(a,b):\n",
    "    return a + b\n",
    "def exponentioal(a,b):\n",
    "    return a + b\n",
    "def floor_divion(a,b):\n",
    "    return a + b\n",
    "\n",
    "\n",
    "a = int(input(\"Please enter desire values\"))\n",
    "b = int(input(\"please enter desire values\"))\n",
    "\n",
    "\n",
    "add_result = add(a,b)\n",
    "substraction_result = substraction(a,b)\n",
    "multiplication_result = multiplication(a,b)\n",
    "dividetion_result = dividetion(a,b)\n",
    "module_result = module(a,b)\n",
    "exponentioal_result = exponentioal(a,b)\n",
    "floor_divion_result = floor_divion(a,b)\n",
    "\n",
    "\n",
    "print(\"addition:\", add_result)\n",
    "print(\"substraction:\", substraction_result)\n",
    "print(\"multiplication:\",  multiplication_result)\n",
    "print(\"dividetion:\", dividetion_result)\n",
    "print(\"module:\", module_result)\n",
    "print(\"exponentioal:\", exponentioal_result)\n",
    "print(\"floor_divion:\", floor_divion_result)\n",
    "\n",
    "\n",
    "\n",
    "\n"
   ]
  },
  {
   "cell_type": "code",
   "execution_count": 48,
   "id": "c057ee95",
   "metadata": {},
   "outputs": [],
   "source": [
    "# default paramter\n",
    "\n",
    "def greet(name=\"monish\"):\n",
    "    print(\"Hello champ,\", name)"
   ]
  },
  {
   "cell_type": "code",
   "execution_count": 49,
   "id": "10f0a594",
   "metadata": {},
   "outputs": [
    {
     "name": "stdout",
     "output_type": "stream",
     "text": [
      "Hello champ, monish\n",
      "Hello champ, monish\n"
     ]
    }
   ],
   "source": [
    "greet()\n",
    "greet(\"monish\")\n"
   ]
  },
  {
   "cell_type": "code",
   "execution_count": 50,
   "id": "c795f094",
   "metadata": {},
   "outputs": [],
   "source": [
    "def add(a,b=10):\n",
    "    return a+b"
   ]
  },
  {
   "cell_type": "code",
   "execution_count": 56,
   "id": "ddb075e7",
   "metadata": {},
   "outputs": [
    {
     "name": "stdout",
     "output_type": "stream",
     "text": [
      "15\n",
      "11\n"
     ]
    }
   ],
   "source": [
    "print(add(5))\n",
    "print(add(5,6))"
   ]
  },
  {
   "cell_type": "code",
   "execution_count": null,
   "id": "93a8aeba",
   "metadata": {},
   "outputs": [
    {
     "name": "stdout",
     "output_type": "stream",
     "text": [
      "1\n",
      "2\n",
      "3\n",
      "4\n",
      "5\n",
      "6\n",
      "7\n",
      "8\n",
      "8\n",
      "9\n",
      "monish\n"
     ]
    }
   ],
   "source": [
    "# veriable length argument\n",
    "# position and keywords arguments\n",
    "# positional Arguments\n",
    "\n",
    "def print_numbers(*args):\n",
    "    for numbers in args:\n",
    "        print(numbers)\n",
    "\n",
    "\n",
    "print_numbers(1,2,3,4,5,6,7,8,8,9,\"monish\")"
   ]
  },
  {
   "cell_type": "code",
   "execution_count": 69,
   "id": "27ed46bd",
   "metadata": {},
   "outputs": [
    {
     "name": "stdout",
     "output_type": "stream",
     "text": [
      "name:monish\n",
      "age:35\n",
      "location:malysia\n"
     ]
    }
   ],
   "source": [
    "# keyword argumen98ts\n",
    "def print_details(**kwargs):\n",
    "    for key, value in kwargs.items():\n",
    "        print(f\"{key}:{value}\")\n",
    "\n",
    "\n",
    "print_details(name='monish',age=35,location= \"malysia\")"
   ]
  },
  {
   "cell_type": "code",
   "execution_count": 72,
   "id": "61da428f",
   "metadata": {},
   "outputs": [
    {
     "name": "stdout",
     "output_type": "stream",
     "text": [
      "postional argument: {1}\n",
      "postional argument: {2}\n",
      "postional argument: {3}\n",
      "postional argument: {4}\n",
      "postional argument: {5}\n",
      "postional argument: {6}\n",
      "postional argument: {7}\n",
      "postional argument: {7}\n",
      "postional argument: {8}\n",
      "postional argument: {9}\n",
      "postional argument: {'monish'}\n",
      "name:monish\n",
      "age:35\n",
      "location:malysia\n"
     ]
    }
   ],
   "source": [
    "\n",
    "def print_details(*args,**kwargs):\n",
    "    for value in args:\n",
    "        print(f\"postional argument:\",{value})\n",
    "\n",
    "    for key, value in kwargs.items():\n",
    "        print(f\"{key}:{value}\")\n",
    "\n",
    "    \n",
    "print_details(1,2,3,4,5,6,7,7,8,9,\"monish\",name='monish',age=35,location= \"malysia\")"
   ]
  },
  {
   "cell_type": "code",
   "execution_count": 74,
   "id": "25a95822",
   "metadata": {},
   "outputs": [
    {
     "name": "stdout",
     "output_type": "stream",
     "text": [
      "True\n"
     ]
    }
   ],
   "source": [
    "# return statement\n",
    "\n",
    "def is_even (n):\n",
    "    if n % 2 == 0:\n",
    "        return True\n",
    "    else:\n",
    "        return False\n",
    "    \n",
    "print(is_even(4))"
   ]
  },
  {
   "cell_type": "code",
   "execution_count": null,
   "id": "365303ab",
   "metadata": {},
   "outputs": [],
   "source": []
  }
 ],
 "metadata": {
  "kernelspec": {
   "display_name": "Python 3",
   "language": "python",
   "name": "python3"
  },
  "language_info": {
   "codemirror_mode": {
    "name": "ipython",
    "version": 3
   },
   "file_extension": ".py",
   "mimetype": "text/x-python",
   "name": "python",
   "nbconvert_exporter": "python",
   "pygments_lexer": "ipython3",
   "version": "3.10.0"
  }
 },
 "nbformat": 4,
 "nbformat_minor": 5
}
