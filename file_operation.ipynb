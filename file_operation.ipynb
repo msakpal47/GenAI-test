{
 "cells": [
  {
   "cell_type": "code",
   "execution_count": 3,
   "id": "bf98ac68",
   "metadata": {},
   "outputs": [
    {
     "name": "stdout",
     "output_type": "stream",
     "text": [
      "In the late 1500s, Siddis of Janjira built the Belapur Killa located atop a small hill near the mouth of the Panvel Creek. In 1682, the fort was captured by the Portuguese, who had managed to annex the regions controlled by the Siddis.\n",
      "\n",
      "In 1733, the Marathas, led by Chimaji Appa, wrested control of the fort from the Portuguese. Appa had made a vow that if it were to be successfully recaptured from the Portuguese, he would place a garland of beli leaves in a nearby Amruthaishwar temple, and after the victory the fort was christened as Belapur Fort. The Marathas ruled the area until 23 June 1817, when it was captured by Captain Charles Gray of the British East India Company. The British partially destroyed the fort under their policy of razing any Maratha stronghold in the area.\n",
      "\n",
      "Navi Mumbaiâ€™s journey began in the early 1970s when the Maharashtra government recognized the need for an alternative urban area to relieve the growing pressure on Mumbai, which was then struggling with issues like overcrowding, inadequate housing, and strained infrastructure.\n"
     ]
    }
   ],
   "source": [
    "# file operation = read and write files\n",
    "\n",
    "# read whole file\n",
    "\n",
    "with open(\"source.txt\",\"r\") as file:\n",
    "    container = file.read()\n",
    "    print(container)"
   ]
  },
  {
   "cell_type": "code",
   "execution_count": 4,
   "id": "5496ef73",
   "metadata": {},
   "outputs": [
    {
     "name": "stdout",
     "output_type": "stream",
     "text": [
      "In the late 1500s, Siddis of Janjira built the Belapur Killa located atop a small hill near the mouth of the Panvel Creek. In 1682, the fort was captured by the Portuguese, who had managed to annex the regions controlled by the Siddis.\n",
      "\n",
      "\n",
      "\n",
      "In 1733, the Marathas, led by Chimaji Appa, wrested control of the fort from the Portuguese. Appa had made a vow that if it were to be successfully recaptured from the Portuguese, he would place a garland of beli leaves in a nearby Amruthaishwar temple, and after the victory the fort was christened as Belapur Fort. The Marathas ruled the area until 23 June 1817, when it was captured by Captain Charles Gray of the British East India Company. The British partially destroyed the fort under their policy of razing any Maratha stronghold in the area.\n",
      "\n",
      "\n",
      "\n",
      "Navi Mumbaiâ€™s journey began in the early 1970s when the Maharashtra government recognized the need for an alternative urban area to relieve the growing pressure on Mumbai, which was then struggling with issues like overcrowding, inadequate housing, and strained infrastructure.\n"
     ]
    }
   ],
   "source": [
    "# read the file line by line\n",
    "\n",
    "with open(\"source.txt\",\"r\") as file:\n",
    "    for rows in file:\n",
    "        print(rows)"
   ]
  },
  {
   "cell_type": "code",
   "execution_count": null,
   "id": "3b16e02a",
   "metadata": {},
   "outputs": [
    {
     "name": "stdout",
     "output_type": "stream",
     "text": [
      "In the late 1500s, Siddis of Janjira built the Belapur Killa located atop a small hill near the mouth of the Panvel Creek. In 1682, the fort was captured by the Portuguese, who had managed to annex the regions controlled by the Siddis.\n",
      "\n",
      "In 1733, the Marathas, led by Chimaji Appa, wrested control of the fort from the Portuguese. Appa had made a vow that if it were to be successfully recaptured from the Portuguese, he would place a garland of beli leaves in a nearby Amruthaishwar temple, and after the victory the fort was christened as Belapur Fort. The Marathas ruled the area until 23 June 1817, when it was captured by Captain Charles Gray of the British East India Company. The British partially destroyed the fort under their policy of razing any Maratha stronghold in the area.\n",
      "\n",
      "Navi Mumbaiâ€™s journey began in the early 1970s when the Maharashtra government recognized the need for an alternative urban area to relieve the growing pressure on Mumbai, which was then struggling with issues like overcrowding, inadequate housing, and strained infrastructure.\n"
     ]
    }
   ],
   "source": [
    "# read the file line by line\n",
    "\n",
    "with open(\"source.txt\",\"r\") as file:\n",
    "    for rows in file:\n",
    "        print(rows.strip())  # remove the extra space"
   ]
  },
  {
   "cell_type": "code",
   "execution_count": 12,
   "id": "0788eece",
   "metadata": {},
   "outputs": [
    {
     "name": "stdout",
     "output_type": "stream",
     "text": [
      "In the late 1500s, Siddis of Janjira built the Belapur Killa located atop a small hill near the mouth of the Panvel Creek. In 1682, the fort was captured by the Portuguese, who had managed to annex the regions controlled by the Siddis.\n",
      "\n",
      "In 1733, the Marathas, led by Chimaji Appa, wrested control of the fort from the Portuguese. Appa had made a vow that if it were to be successfully recaptured from the Portuguese, he would place a garland of beli leaves in a nearby Amruthaishwar temple, and after the victory the fort was christened as Belapur Fort. The Marathas ruled the area until 23 June 1817, when it was captured by Captain Charles Gray of the British East India Company. The British partially destroyed the fort under their policy of razing any Maratha stronghold in the area.\n",
      "\n",
      "Navi Mumbaiâ€™s journey began in the early 1970s when the Maharashtra government recognized the need for an alternative urban area to relieve the growing pressure on Mumbai, which was then struggling with issues like overcrowding, inadequate housing, and strained infrastructure.\n"
     ]
    }
   ],
   "source": [
    "# read the file line by line\n",
    "\n",
    "with open(\"source.txt\",\"r\") as file:\n",
    "    for line in file:\n",
    "        print(line.strip())"
   ]
  },
  {
   "cell_type": "code",
   "execution_count": 19,
   "id": "0a74f05d",
   "metadata": {},
   "outputs": [
    {
     "name": "stdout",
     "output_type": "stream",
     "text": [
      "hello Kharghar\n",
      "\n",
      "!come to new mumbai.she miss you\n"
     ]
    }
   ],
   "source": [
    "# writing file (overwrite file)\n",
    "\n",
    "with open(\"source.txt\",\"w\") as file:\n",
    "    file.write(\"hello Kharghar\\n!\")\n",
    "    file.write(\"come to new mumbai.she miss you\")\n",
    "    \n",
    "with open(\"source.txt\",\"r\") as file:\n",
    "    for line in file:\n",
    "        print(line)"
   ]
  },
  {
   "cell_type": "code",
   "execution_count": 20,
   "id": "75c2f6c6",
   "metadata": {},
   "outputs": [],
   "source": [
    "# writing file (overwrite file) without changes append = a\n",
    "\n",
    "with open (\"source.txt\",\"a\") as file:\n",
    "    file.write(\"come to new bombay\\n!\")"
   ]
  },
  {
   "cell_type": "code",
   "execution_count": 23,
   "id": "9ea23574",
   "metadata": {},
   "outputs": [],
   "source": [
    "# writting a list of lines\n",
    "\n",
    "lines = ['my first line \\n','my secound line \\n','my last lime \\n']\n",
    "\n",
    "with open(\"source.txt\",\"a\") as file:\n",
    "    file.writelines(line)"
   ]
  },
  {
   "cell_type": "code",
   "execution_count": 26,
   "id": "8fcacbb4",
   "metadata": {},
   "outputs": [],
   "source": [
    "# BINARY FILES\n",
    "\n",
    "data = b'\\x00\\x30\\x00\\x30\\x02\\x04' \n",
    "\n",
    "with open(\"ext.bin\",\"wb\") as file:\n",
    "    file.write(data)"
   ]
  },
  {
   "cell_type": "code",
   "execution_count": 29,
   "id": "a5170924",
   "metadata": {},
   "outputs": [
    {
     "name": "stdout",
     "output_type": "stream",
     "text": [
      "b'\\x000\\x000\\x02\\x04'\n"
     ]
    }
   ],
   "source": [
    "# BINARY FILES read\n",
    "data = b'\\x00\\x30\\x00\\x30\\x02\\x04' \n",
    "\n",
    "with open(\"ext.bin\",'rb') as file:\n",
    "    container = file.read()\n",
    "    print(container)"
   ]
  },
  {
   "cell_type": "code",
   "execution_count": 32,
   "id": "af43cf2d",
   "metadata": {},
   "outputs": [
    {
     "name": "stdout",
     "output_type": "stream",
     "text": [
      "hello Kharghar\n",
      "!come to new mumbai.she miss youcome to new bombay\n",
      "!my first line \n",
      "my secound line \n",
      "my last line \n",
      "my first line \n",
      "my secound line \n",
      "my last line \n",
      "\n"
     ]
    }
   ],
   "source": [
    "## read the content from source text file and write to a destination file\n",
    "\n",
    "with open('source.txt','r') as source_file:\n",
    "    cont = source_file.read()\n",
    "    print(cont)\n",
    "    \n",
    "with open(\"source.txt\",'w') as destination_file:\n",
    "    destination_file.write(cont)\n",
    "    "
   ]
  },
  {
   "cell_type": "code",
   "execution_count": 39,
   "id": "559cd312",
   "metadata": {},
   "outputs": [
    {
     "name": "stdout",
     "output_type": "stream",
     "text": [
      "line: 8\n",
      "words: 29\n",
      "char: 159\n"
     ]
    }
   ],
   "source": [
    "# assignment\n",
    "\n",
    "# read the text file and count the number of lines, words and characters\n",
    "\n",
    "with open(\"source.txt\",'r') as file:\n",
    "    text = file.read()\n",
    "    \n",
    "    \n",
    "lines  = text.splitlines()\n",
    "words  = text.split()\n",
    "char = text\n",
    "\n",
    "print(\"line:\",len(lines))\n",
    "print(\"words:\",len(words))\n",
    "print(\"char:\",len(char))"
   ]
  },
  {
   "cell_type": "code",
   "execution_count": 40,
   "id": "539b3da5",
   "metadata": {},
   "outputs": [
    {
     "name": "stdout",
     "output_type": "stream",
     "text": [
      "Hello, Monish!\n",
      "Welcome to file handling in Python.\n"
     ]
    }
   ],
   "source": [
    "# writting then reading file\n",
    "\n",
    "with open(\"source.txt\",\"w\") as file:\n",
    "    file.write(\"Hello, Monish!\\nWelcome to file handling in Python.\")\n",
    "    \n",
    "with open(\"source.txt\",\"r\") as file:\n",
    "    cont_read = file.read()\n",
    "    \n",
    "print(cont_read)"
   ]
  },
  {
   "cell_type": "code",
   "execution_count": 43,
   "id": "ea131966",
   "metadata": {},
   "outputs": [
    {
     "name": "stdout",
     "output_type": "stream",
     "text": [
      "Directory'package','Create'\n"
     ]
    }
   ],
   "source": [
    "# create a new directory\n",
    "\n",
    "import os\n",
    "new_directory = \"package\"\n",
    "os.mkdir(new_directory)\n",
    "\n",
    "print(f\"Directory'{new_directory}','Create'\")\n",
    "\n"
   ]
  },
  {
   "cell_type": "code",
   "execution_count": 46,
   "id": "65031c05",
   "metadata": {},
   "outputs": [
    {
     "name": "stdout",
     "output_type": "stream",
     "text": [
      "condition_statement.ipynb\n",
      "data.json\n",
      "datatypes.ipynb\n",
      "Data_Structures.ipynb\n",
      "destnation.txt\n",
      "Dictionaries.ipynb\n",
      "examples.ipynb\n",
      "exap.csv\n",
      "exmp.csv\n",
      "ext.bin\n",
      "file_operation.ipynb\n",
      "function _in_python.ipynb\n",
      "lambda_function.ipynb\n",
      "loop.ipynb\n",
      "map.ipynb\n",
      "operator.ipynb\n",
      "package\n",
      "real_world.ipynb\n",
      "sample.txt\n",
      "source.txt\n",
      "standerdlib.ipynb\n",
      "test.ipynb\n",
      "tuples.ipynb\n",
      "Variables.ipynb\n"
     ]
    }
   ],
   "source": [
    "# list the fils and directories\n",
    "\n",
    "for name in os.listdir():\n",
    "    print(name)"
   ]
  },
  {
   "cell_type": "code",
   "execution_count": 48,
   "id": "ef8c4e6f",
   "metadata": {},
   "outputs": [
    {
     "name": "stdout",
     "output_type": "stream",
     "text": [
      "['condition_statement.ipynb', 'data.json', 'datatypes.ipynb', 'Data_Structures.ipynb', 'destnation.txt', 'Dictionaries.ipynb', 'examples.ipynb', 'exap.csv', 'exmp.csv', 'ext.bin', 'file_operation.ipynb', 'function _in_python.ipynb', 'lambda_function.ipynb', 'loop.ipynb', 'map.ipynb', 'operator.ipynb', 'package', 'real_world.ipynb', 'sample.txt', 'source.txt', 'standerdlib.ipynb', 'test.ipynb', 'tuples.ipynb', 'Variables.ipynb']\n"
     ]
    }
   ],
   "source": [
    "# list the fils and directories\n",
    "\n",
    "import os\n",
    "\n",
    "# List files and directories in the current working directory\n",
    "item = os.listdir(\".\")  # Use \".\" for current directory\n",
    "print(item)"
   ]
  },
  {
   "cell_type": "code",
   "execution_count": 52,
   "id": "b7a0dcd0",
   "metadata": {},
   "outputs": [
    {
     "name": "stdout",
     "output_type": "stream",
     "text": [
      "c:\\Users\\FINRISE\\Desktop\\Django\\mygenai\\test\\package\\source.txt\n"
     ]
    }
   ],
   "source": [
    "# joining path\n",
    "\n",
    "dir_package = \"package\"\n",
    "file_name = \"source.txt\"\n",
    "\n",
    "full_path = os.path.join(os.getcwd(),dir_package,file_name)\n",
    "print(full_path)"
   ]
  },
  {
   "cell_type": "code",
   "execution_count": 54,
   "id": "e07e165f",
   "metadata": {},
   "outputs": [
    {
     "name": "stdout",
     "output_type": "stream",
     "text": [
      "The path'source.txt' exist\n"
     ]
    }
   ],
   "source": [
    "path = 'source.txt'\n",
    "\n",
    "if os.path.exists(path):\n",
    "    print(f\"The path'{path}' exist\")\n",
    "else:\n",
    "    print(f\"The file '{path}' does not exist\")    "
   ]
  },
  {
   "cell_type": "code",
   "execution_count": 2,
   "id": "62e5127a",
   "metadata": {},
   "outputs": [
    {
     "name": "stdout",
     "output_type": "stream",
     "text": [
      "Directory 'dock, created'\n"
     ]
    }
   ],
   "source": [
    "# create new directory \n",
    "import os\n",
    "\n",
    "new_dict = \"dock\"\n",
    "os.mkdir(new_dict)\n",
    "print(f\"Directory '{new_dict}, created'\")"
   ]
  },
  {
   "cell_type": "code",
   "execution_count": 6,
   "id": "10371e10",
   "metadata": {},
   "outputs": [
    {
     "name": "stdout",
     "output_type": "stream",
     "text": [
      "['condition_statement.ipynb', 'data.json', 'datatypes.ipynb', 'Data_Structures.ipynb', 'destnation.txt', 'Dictionaries.ipynb', 'dock', 'examples.ipynb', 'exap.csv', 'exmp.csv', 'ext.bin', 'file_operation.ipynb', 'function _in_python.ipynb', 'lambda_function.ipynb', 'loop.ipynb', 'map.ipynb', 'operator.ipynb', 'package', 'real_world.ipynb', 'sample.txt', 'source.txt', 'standerdlib.ipynb', 'test.ipynb', 'tuples.ipynb', 'Variables.ipynb']\n"
     ]
    }
   ],
   "source": [
    "#  listing and fuile and directories\n",
    "all_file_dir = os.listdir('.')\n",
    "print(all_file_dir)"
   ]
  },
  {
   "cell_type": "code",
   "execution_count": 10,
   "id": "d015a03f",
   "metadata": {},
   "outputs": [
    {
     "name": "stdout",
     "output_type": "stream",
     "text": [
      "package\\source.txt\n"
     ]
    }
   ],
   "source": [
    "# joining paths\n",
    "\n",
    "\n",
    "dir_package = \"package\"\n",
    "file_name = \"source.txt\"\n",
    "\n",
    "combine = os.path.join(dir_package,file_name )\n",
    "print(combine)"
   ]
  },
  {
   "cell_type": "code",
   "execution_count": 11,
   "id": "dc1eb310",
   "metadata": {},
   "outputs": [
    {
     "name": "stdout",
     "output_type": "stream",
     "text": [
      "c:\\Users\\FINRISE\\Desktop\\Django\\mygenai\\test\\package\\source.txt\n"
     ]
    }
   ],
   "source": [
    "ir_package = \"package\"\n",
    "file_name = \"source.txt\"\n",
    "\n",
    "combine = os.path.join(os.getcwd(),dir_package,file_name )\n",
    "print(combine)"
   ]
  },
  {
   "cell_type": "code",
   "execution_count": 15,
   "id": "a8677d46",
   "metadata": {},
   "outputs": [
    {
     "name": "stdout",
     "output_type": "stream",
     "text": [
      "this'source.txt' is exist\n"
     ]
    }
   ],
   "source": [
    "path = 'source.txt'\n",
    "\n",
    "if os.path.exists(path):\n",
    "    print(f\"this'{path}' is exist\")\n",
    "else:\n",
    "    print(\"this '{path}'is not exist\")"
   ]
  },
  {
   "cell_type": "code",
   "execution_count": 17,
   "id": "cb8ae7cf",
   "metadata": {},
   "outputs": [
    {
     "name": "stdout",
     "output_type": "stream",
     "text": [
      "The path 'source.txt' is file\n"
     ]
    }
   ],
   "source": [
    "# check the path is a dir or file\n",
    "path = 'source.txt'\n",
    "\n",
    "if os.path.isfile(path):\n",
    "    print(f\"The path '{path}' is file\")\n",
    "elif os.path.isdir(path):\n",
    "    print(f\"The file '{path}' is directory\")\n",
    "else:\n",
    "    print(f\"the file '{path}' is neigher file or directory\")"
   ]
  },
  {
   "cell_type": "code",
   "execution_count": 18,
   "id": "7db86f3b",
   "metadata": {},
   "outputs": [
    {
     "name": "stdout",
     "output_type": "stream",
     "text": [
      " the file 'dock'is a directory\n"
     ]
    }
   ],
   "source": [
    "path = 'source.txt'\n",
    "path2 = 'dock'\n",
    "\n",
    "if os.path.isfile(path2):\n",
    "    print(f\"the file '{path2} is a file\")\n",
    "elif os.path.isdir(path2):\n",
    "    print(f\" the file '{path2}'is a directory\")\n",
    "else:\n",
    "    print(f\"the file '{path2}' is nighter file or directory\")"
   ]
  },
  {
   "cell_type": "code",
   "execution_count": null,
   "id": "4386229f",
   "metadata": {},
   "outputs": [
    {
     "name": "stdout",
     "output_type": "stream",
     "text": [
      " the file 'dock'is a directory\n",
      "the file 'source.txt is a file\n"
     ]
    },
    {
     "ename": "",
     "evalue": "",
     "output_type": "error",
     "traceback": [
      "\u001b[1;31mThe Kernel crashed while executing code in the current cell or a previous cell. \n",
      "\u001b[1;31mPlease review the code in the cell(s) to identify a possible cause of the failure. \n",
      "\u001b[1;31mClick <a href='https://aka.ms/vscodeJupyterKernelCrash'>here</a> for more info. \n",
      "\u001b[1;31mView Jupyter <a href='command:jupyter.viewOutput'>log</a> for further details."
     ]
    }
   ],
   "source": [
    "path2 = ['dock','source.txt']\n",
    "\n",
    "for path2 in path2:\n",
    "     \n",
    "    if os.path.isfile(path2):\n",
    "        print(f\"the file '{path2} is a file\")\n",
    "    elif os.path.isdir(path2):\n",
    "        print(f\" the file '{path2}'is a directory\")\n",
    "    else:\n",
    "        print(f\"the file '{path2}' is nighter file or directory\")"
   ]
  }
 ],
 "metadata": {
  "kernelspec": {
   "display_name": "Python 3",
   "language": "python",
   "name": "python3"
  },
  "language_info": {
   "codemirror_mode": {
    "name": "ipython",
    "version": 3
   },
   "file_extension": ".py",
   "mimetype": "text/x-python",
   "name": "python",
   "nbconvert_exporter": "python",
   "pygments_lexer": "ipython3",
   "version": "3.10.0"
  }
 },
 "nbformat": 4,
 "nbformat_minor": 5
}
