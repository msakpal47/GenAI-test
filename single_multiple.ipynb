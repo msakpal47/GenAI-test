{
 "cells": [
  {
   "cell_type": "code",
   "execution_count": null,
   "id": "7e9eca83",
   "metadata": {},
   "outputs": [
    {
     "name": "stdout",
     "output_type": "stream",
     "text": [
      "The person is driving the Disel engine bus with 17 doors and 2 windows.\n",
      "The person is driving the Disel engine bus with 17 doors and 2 windows.\n",
      "None\n"
     ]
    }
   ],
   "source": [
    "# inheritance in python\n",
    "# single inheritance\n",
    "\n",
    "\n",
    "# parent class\n",
    "\n",
    "class Bus :\n",
    "    \n",
    "    def __init__(self,EngineType,window,door,truck_make):\n",
    "        self.EngineType = EngineType\n",
    "        self.window = window\n",
    "        self.door = door\n",
    "        self.truck_make = truck_make\n",
    "    \n",
    "    def drive(self):\n",
    "        print(f\"The person is driving the {self.EngineType} engine bus with {self.window} doors and {self.door} windows.\")\n",
    "        \n",
    "Ashok_leyland = Bus(\"Disel\",17,2)\n",
    "\n",
    "Ashok_leyland.drive()\n",
    "\n",
    "print(Ashok_leyland.drive())\n",
    "\n"
   ]
  },
  {
   "cell_type": "code",
   "execution_count": 22,
   "id": "30891f4b",
   "metadata": {},
   "outputs": [
    {
     "name": "stdout",
     "output_type": "stream",
     "text": [
      "The person is driving a loader truck with a Petrol engine, 2 doors, and 10 tyres and Ashok_leyland.\n"
     ]
    }
   ],
   "source": [
    "# inheritance in python\n",
    "# single inheritance\n",
    "\n",
    "# parent class\n",
    "\n",
    "class Trucks:\n",
    "    def __init__(self,Engine_Type,Truck_Type,Door,Tyres,truck_make):\n",
    "        self.Engine_Type = Engine_Type\n",
    "        self.Truck_Type = Truck_Type\n",
    "        self.Door =  Door\n",
    "        self.Tyres = Tyres\n",
    "        self.truck_make = truck_make\n",
    "        \n",
    "    def Drive(self):\n",
    "        print(f\"The person is driving a {self.Truck_Type} truck with a {self.Engine_Type} engine, {self.Door} doors, and {self.Tyres} tyres and {self.truck_make}.\")\n",
    "\n",
    "Ashok_leyland  = Trucks(\"Petrol\",\"loader\",2,10,\"Ashok_leyland\")\n",
    "\n",
    "Ashok_leyland.Drive()\n",
    "\n",
    "\n"
   ]
  },
  {
   "cell_type": "code",
   "execution_count": 27,
   "id": "cf3c5f31",
   "metadata": {},
   "outputs": [
    {
     "name": "stdout",
     "output_type": "stream",
     "text": [
      "Ashok_leyland Support True while automation\n"
     ]
    }
   ],
   "source": [
    "class Ashok_leyland(Trucks):\n",
    "    def __init__(self, Engine_Type, Truck_Type, Door, Tyres, truck_make,auto_drive):\n",
    "        super().__init__(Engine_Type, Truck_Type, Door, Tyres, truck_make)\n",
    "        self.auto_drive= auto_drive\n",
    "        \n",
    "    def auto_drive_mode(self):\n",
    "        print(f\"Ashok_leyland Support {self.auto_drive} while automation\")\n",
    "\n",
    "Loader_truck = Ashok_leyland(\"Petrol\",\"loader\",2,10,\"Ashok_leyland\",True)\n",
    "Loader_truck.auto_drive_mode()"
   ]
  },
  {
   "cell_type": "code",
   "execution_count": 75,
   "id": "73a06863",
   "metadata": {},
   "outputs": [],
   "source": [
    "# Super Parent Class\n",
    "\n",
    "class TATA(Bus):\n",
    "    \n",
    "    def __init__(self, EngineType, window, door,auto_drive):\n",
    "        super().__init__(EngineType, window, door)\n",
    "        self.is_auto_drive= auto_drive\n",
    "        \n",
    "    def auto_drive_mode(self):\n",
    "        print(f\"TATA Support {self.is_auto_drive} while automation\")\n",
    "    \n",
    "        \n",
    "    "
   ]
  },
  {
   "cell_type": "code",
   "execution_count": 76,
   "id": "6567153a",
   "metadata": {},
   "outputs": [
    {
     "name": "stdout",
     "output_type": "stream",
     "text": [
      "TATA Support True while automation\n"
     ]
    }
   ],
   "source": [
    "low_floor_bus = TATA(17, 2, \"CNG\", True)\n",
    "low_floor_bus.auto_drive_mode()\n"
   ]
  },
  {
   "cell_type": "code",
   "execution_count": 77,
   "id": "d8a0c0f6",
   "metadata": {},
   "outputs": [
    {
     "name": "stdout",
     "output_type": "stream",
     "text": [
      "TATA Support False while automation\n"
     ]
    }
   ],
   "source": [
    "double_decker_bus = TATA(\"Petrol\",35,1,False)\n",
    "double_decker_bus.auto_drive_mode()"
   ]
  },
  {
   "cell_type": "code",
   "execution_count": 78,
   "id": "85e0b9e2",
   "metadata": {},
   "outputs": [],
   "source": [
    "# multiple inheritance \n",
    "# more then 1 base class\n",
    "\n",
    "# 1st Base Class\n",
    "\n",
    "class animal :\n",
    "    \n",
    "    def __init__(self,name):\n",
    "        self.name =name\n",
    "    \n",
    "    def speak(self):\n",
    "        print(f\"Subclass must implement this method\") \n",
    "        \n",
    "\n",
    "# 2n d base class     \n",
    "\n",
    "class Pet:\n",
    "    \n",
    "    def __init__(self,owner):\n",
    "        self.owner = owner\n",
    "        \n",
    "# derived class\n",
    "\n",
    "class dog(animal,Pet):\n",
    "    \n",
    "    def __init__(self,name,owner):\n",
    "        animal.__init__(self,name)\n",
    "        Pet.__init__(self,owner)\n",
    "    \n",
    "    def speak(self):\n",
    "        return f\"{self.name} Says wooooof\"\n",
    "        \n"
   ]
  },
  {
   "cell_type": "code",
   "execution_count": 79,
   "id": "5deea356",
   "metadata": {},
   "outputs": [
    {
     "data": {
      "text/plain": [
       "'chihauhau Says wooooof'"
      ]
     },
     "execution_count": 79,
     "metadata": {},
     "output_type": "execute_result"
    }
   ],
   "source": [
    "# create an object\n",
    "\n",
    "My_dogy = dog(\"chihauhau\",\"chandan\")\n",
    "My_dogy.speak()"
   ]
  },
  {
   "cell_type": "code",
   "execution_count": 80,
   "id": "5bd30529",
   "metadata": {},
   "outputs": [],
   "source": [
    "# 1 st class\n",
    "class Animal:\n",
    "    \n",
    "    def __init__(self,name):\n",
    "        self.name = name\n",
    "    \n",
    "    def  speak(self):\n",
    "        print(f\"Subclass must implement this method\") \n",
    "    \n",
    "# 2nd class    \n",
    "\n",
    "class Pet:\n",
    "    \n",
    "    def __init__(self,owner):\n",
    "        self.owner = owner\n",
    "    \n",
    "\n",
    "# derived class\n",
    "\n",
    "class Dog(Animal, Pet):\n",
    "    \n",
    "    def __init__(self,name,owner):\n",
    "        \n",
    "        Animal.__init__(self,name)\n",
    "        Pet.__init__(self,owner)\n",
    "        \n",
    "    def speak(self):\n",
    "        return f\"{self.name} say woof\"\n",
    "\n",
    "class Cat (Animal, Pet):\n",
    "    \n",
    "    def __init__(self,name,owner):\n",
    "        Animal.__init__(self,name)\n",
    "        Pet.__init__(self,owner)        \n",
    "    \n",
    "    def speak(self):\n",
    "        return f\"{self.name} says meow\"\n",
    "        \n",
    "        "
   ]
  },
  {
   "cell_type": "code",
   "execution_count": 81,
   "id": "93bd5fe4",
   "metadata": {},
   "outputs": [
    {
     "name": "stdout",
     "output_type": "stream",
     "text": [
      "nitin say woof\n"
     ]
    }
   ],
   "source": [
    "chihuhua_Dog = Dog(\"nitin\",\"savitri\")\n",
    "print(chihuhua_Dog.speak())\n",
    "\n",
    "\n",
    "\n",
    "\n",
    "\n"
   ]
  },
  {
   "cell_type": "code",
   "execution_count": 82,
   "id": "e8a278a5",
   "metadata": {},
   "outputs": [
    {
     "name": "stdout",
     "output_type": "stream",
     "text": [
      "Savitri says meow\n"
     ]
    }
   ],
   "source": [
    "road_cat = Cat(\"Savitri\",\"nitin\")\n",
    "print(road_cat.speak())\n"
   ]
  },
  {
   "cell_type": "code",
   "execution_count": 83,
   "id": "aed1c156",
   "metadata": {},
   "outputs": [
    {
     "name": "stdout",
     "output_type": "stream",
     "text": [
      "Owner: nitin\n",
      "Owner: savitri\n"
     ]
    }
   ],
   "source": [
    "print(f\"Owner: {road_cat.owner}\")\n",
    "\n",
    "print(f\"Owner: {chihuhua_Dog.owner}\")\n",
    "\n"
   ]
  },
  {
   "cell_type": "code",
   "execution_count": 89,
   "id": "ae728c1d",
   "metadata": {},
   "outputs": [
    {
     "name": "stdout",
     "output_type": "stream",
     "text": [
      "<__main__.Book object at 0x0000025339CB1600>\n",
      "Monish borrowed 'Python'\n"
     ]
    }
   ],
   "source": [
    "# practice use case\n",
    "\n",
    "# modelling a compleat laibrary \n",
    "\n",
    "# Base class\n",
    "\n",
    "class person:\n",
    "    \n",
    "    def __init__(self,name):\n",
    "        self.name = name\n",
    "\n",
    "# Borrowing  and return functionality\n",
    "\n",
    "class Borrowing:\n",
    "    \n",
    "    def __init__(self):\n",
    "        self.Borrowing_books = []\n",
    "    \n",
    "    def Borrow_Book(self,book):\n",
    "        print(book)\n",
    "        if book.copies > 0:\n",
    "            book.copies -= 1\n",
    "            self.Borrowing_books.append(book)\n",
    "            print(f\"{self.name} borrowed '{book.title}'\")\n",
    "        else:\n",
    "            print(f\"{self.name} return '{book.title}'\")\n",
    "            \n",
    "    def return_book(self, book):\n",
    "        if book in self.borrowed_books:\n",
    "            book.copies += 1\n",
    "            self.borrowed_books.remove(book)\n",
    "            print(f\"{self.name} returned '{book.title}'\")\n",
    "        \n",
    "\n",
    "\n",
    "# Book class\n",
    "\n",
    "class Book:\n",
    "    \n",
    "    def __init__(self,title,author,copies):\n",
    "        self.title = title\n",
    "        self.author = author\n",
    "        self.copies = copies\n",
    "        \n",
    "        \n",
    "\n",
    "# Member class using multiple inheritance\n",
    "\n",
    "class member (person,Borrowing):\n",
    "    \n",
    "    def __init__(self,name):\n",
    "        person.__init__(self,name)\n",
    "        Borrowing.__init__(self)\n",
    "        \n",
    "        \n",
    "# Sample usage\n",
    "\n",
    "Book1 = Book(\"Python\",\"Guido\",7)\n",
    "\n",
    "m1 = member(\"Monish\")\n",
    "\n",
    "\n",
    "m1.Borrow_Book(Book1)\n"
   ]
  },
  {
   "cell_type": "code",
   "execution_count": 122,
   "id": "76bfb261",
   "metadata": {},
   "outputs": [
    {
     "name": "stdout",
     "output_type": "stream",
     "text": [
      "paresh Borrowed 'Marathi\n",
      "Goga Borrowed 'English\n",
      "Rani Borrowed 'history\n",
      "Shivaji Borrowed 'Maths\n",
      "paresh return Marathi\n",
      "<bound method Borrowing.Borrow_Book of <__main__.Member object at 0x0000025339D9B3D0>>\n"
     ]
    }
   ],
   "source": [
    "# Base Class\n",
    "\n",
    "class Person:\n",
    "    \n",
    "    def __init__(self,name):\n",
    "        self.name = name\n",
    "\n",
    "# Borrowing functionality\n",
    "\n",
    "class Borrowing:\n",
    "    \n",
    "    def __init__(self):\n",
    "        self.Borrowed_Books = []\n",
    "        \n",
    "    def Borrow_Book(self,Book):\n",
    "        if Book.copies > 0:\n",
    "            Book.copies -= 1\n",
    "            self.Borrowed_Books.append(Book)\n",
    "            print(f\"{self.name} Borrowed '{Book.title}\")\n",
    "        else:\n",
    "            print(f\"{Book.title}' is not available\")\n",
    "            \n",
    "    def Return_Book (self,Book):\n",
    "        if Book in self.Borrowed_Books:\n",
    "            Book.copies +=1\n",
    "            self.Borrowed_Books.remove(Book)\n",
    "            print(f\"{self.name} return {Book.title}\")\n",
    "        \n",
    "        print(self.Borrow_Book)\n",
    "            \n",
    "            \n",
    "# Book class\n",
    "\n",
    "class Book:\n",
    "    def __init__(self, title,author, copies ):\n",
    "        self.title = title\n",
    "        self.author = author\n",
    "        self.copies = copies\n",
    "        \n",
    "# Member class using multiple inheritance\n",
    "\n",
    "class Member (Person,Borrowing):\n",
    "    \n",
    "    def __init__(self, name):\n",
    "        person.__init__(self,name)\n",
    "        Borrowing.__init__(self)\n",
    "        \n",
    "    \n",
    "# Sample usage\n",
    "\n",
    "Book1 = Book(\"Marathi\",\"deshpande\",7)\n",
    "Book2 = Book(\"English\",\"Victoria\",8)\n",
    "Book3 = Book(\"Maths\",\"Aryabhatta\",7)\n",
    "Book4 = Book(\"history\",\"chatrapati\",10)\n",
    "\n",
    "\n",
    "m1 = Member(\"paresh\")\n",
    "m2 = Member(\"Rani\")\n",
    "m3 = Member(\"Goga\")\n",
    "m4 = Member(\"Shivaji\")\n",
    "\n",
    "\n",
    "m1.Borrow_Book(Book1)\n",
    "m3.Borrow_Book(Book2)\n",
    "m2.Borrow_Book(Book4)\n",
    "m4.Borrow_Book(Book3)\n",
    "m1.Return_Book(Book1)\n",
    "# print(m1.name)\n",
    "# m2.Return_Book(Book1)\n",
    "# m4.Borrow_Book(Book1)\n",
    "\n",
    "\n",
    "\n",
    "\n",
    "\n",
    "        "
   ]
  },
  {
   "cell_type": "code",
   "execution_count": 131,
   "id": "9b1e9238",
   "metadata": {},
   "outputs": [
    {
     "name": "stdout",
     "output_type": "stream",
     "text": [
      "Maxico Booked a seat on 'Vijay nagar to Doordarshan'(Bus No:35)\n",
      "monish Booked a seat on 'Ghatkoper to Kalmboli'(Bus No:53)\n"
     ]
    }
   ],
   "source": [
    "class Person:\n",
    "    def __init__(self,name):\n",
    "        self.name = name\n",
    "        \n",
    "class Booking :\n",
    "    def __init__(self):\n",
    "        self.Booking_buses = []\n",
    "        \n",
    "    def Book_seat (self,Bus):\n",
    "        if Bus.seats > 0:\n",
    "            Bus.seats -= 1\n",
    "            self.Booking_buses.append(Bus)\n",
    "            print(f\"{self.name} Booked a seat on '{Bus.route}'(Bus No:{Bus.BusNumber})\")\n",
    "        else:\n",
    "            print(f\"No seat is available on '{bus.route}' (Bus No: {bus.BusNumber})\")\n",
    "            \n",
    "    def cancel_seat (self, bus):\n",
    "        if Bus in self.Booked_buses:\n",
    "            Bus.seat += 1\n",
    "            self.Booking_buses.remove(Bus)\n",
    "            print(f\"{self.name} canceled the booking on '{bus.route}' (Bus No: {bus.BusNumber})\")\n",
    "        else:\n",
    "            print(f\"{self.name} has no booking on '{bus.route}' (Bus No: {bus.BusNumber})\")\n",
    "            \n",
    "class Bus:\n",
    "    def __init__(self,route,seats,BusNumber):\n",
    "        self.route = route\n",
    "        self.seats = seats\n",
    "        self.BusNumber = BusNumber\n",
    "        \n",
    "class passenger (Person, Booking):\n",
    "    def __init__(self, name):\n",
    "        Person.__init__(self,name)\n",
    "        Booking.__init__(self)\n",
    "\n",
    "\n",
    "Bus53 = Bus(\"Ghatkoper to Kalmboli\",2,53)\n",
    "Bus35 = Bus(\"Vijay nagar to Doordarshan\",4,35)\n",
    "\n",
    "\n",
    "P1 = passenger(\"Maxico\")\n",
    "p2 =  passenger(\"monish\")        \n",
    "\n",
    "P1.Book_seat(Bus35)\n",
    "p2.Book_seat(Bus53)"
   ]
  }
 ],
 "metadata": {
  "kernelspec": {
   "display_name": "Python 3",
   "language": "python",
   "name": "python3"
  },
  "language_info": {
   "codemirror_mode": {
    "name": "ipython",
    "version": 3
   },
   "file_extension": ".py",
   "mimetype": "text/x-python",
   "name": "python",
   "nbconvert_exporter": "python",
   "pygments_lexer": "ipython3",
   "version": "3.10.0"
  }
 },
 "nbformat": 4,
 "nbformat_minor": 5
}
