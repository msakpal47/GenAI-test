{
 "cells": [
  {
   "cell_type": "code",
   "execution_count": null,
   "id": "01fbf366",
   "metadata": {},
   "outputs": [],
   "source": [
    "# Encapsulation and Abstraction\n",
    "\n"
   ]
  },
  {
   "cell_type": "code",
   "execution_count": 1,
   "id": "59b0c9af",
   "metadata": {},
   "outputs": [
    {
     "name": "stdout",
     "output_type": "stream",
     "text": [
      "('Mon', 22)\n"
     ]
    }
   ],
   "source": [
    "\n",
    "class person:\n",
    "    def __init__(self,name,age):\n",
    "        self.name = name\n",
    "        self.age = age\n",
    "        \n",
    "        \n",
    "    def get_name(person):\n",
    "        return person.name,person.age\n",
    "\n",
    "Heman = person(\"Mon\",22)\n",
    "print(Heman.get_name())       \n",
    "        "
   ]
  },
  {
   "cell_type": "code",
   "execution_count": 2,
   "id": "5785d014",
   "metadata": {},
   "outputs": [
    {
     "name": "stdout",
     "output_type": "stream",
     "text": [
      "['__class__', '__delattr__', '__dict__', '__dir__', '__doc__', '__eq__', '__format__', '__ge__', '__getattribute__', '__gt__', '__hash__', '__init__', '__init_subclass__', '__le__', '__lt__', '__module__', '__ne__', '__new__', '__reduce__', '__reduce_ex__', '__repr__', '__setattr__', '__sizeof__', '__str__', '__subclasshook__', '__weakref__', 'get_name']\n",
      "['__class__', '__delattr__', '__dict__', '__dir__', '__doc__', '__eq__', '__format__', '__ge__', '__getattribute__', '__gt__', '__hash__', '__init__', '__init_subclass__', '__le__', '__lt__', '__module__', '__ne__', '__new__', '__reduce__', '__reduce_ex__', '__repr__', '__setattr__', '__sizeof__', '__str__', '__subclasshook__', '__weakref__', 'age', 'get_name', 'name']\n",
      "<class '__main__.person'>\n"
     ]
    }
   ],
   "source": [
    "print(dir(person))\n",
    "print(dir(Heman))\n",
    "print(person)"
   ]
  },
  {
   "cell_type": "code",
   "execution_count": 3,
   "id": "eb2dd934",
   "metadata": {},
   "outputs": [
    {
     "data": {
      "text/plain": [
       "['__class__',\n",
       " '__delattr__',\n",
       " '__dict__',\n",
       " '__dir__',\n",
       " '__doc__',\n",
       " '__eq__',\n",
       " '__format__',\n",
       " '__ge__',\n",
       " '__getattribute__',\n",
       " '__gt__',\n",
       " '__hash__',\n",
       " '__init__',\n",
       " '__init_subclass__',\n",
       " '__le__',\n",
       " '__lt__',\n",
       " '__module__',\n",
       " '__ne__',\n",
       " '__new__',\n",
       " '__reduce__',\n",
       " '__reduce_ex__',\n",
       " '__repr__',\n",
       " '__setattr__',\n",
       " '__sizeof__',\n",
       " '__str__',\n",
       " '__subclasshook__',\n",
       " '__weakref__',\n",
       " 'age',\n",
       " 'gender',\n",
       " 'name']"
      ]
     },
     "execution_count": 3,
     "metadata": {},
     "output_type": "execute_result"
    }
   ],
   "source": [
    "\n",
    "class person:\n",
    "    def __init__(self,name,age,gender):\n",
    "        self.name = name\n",
    "        self.age = age\n",
    "        self.gender = gender\n",
    "        \n",
    "        \n",
    "        \n",
    "Person = person(\"Mon\",22,\"Male\")\n",
    "dir(Person)"
   ]
  },
  {
   "cell_type": "code",
   "execution_count": 6,
   "id": "7580f592",
   "metadata": {},
   "outputs": [],
   "source": [
    "\n",
    "class person:\n",
    "    def __init__(self,name,age,gender):\n",
    "        self.__name = name\n",
    "        self.__age = age\n",
    "        self.gender = gender\n",
    "        \n",
    "    def get_name(person):\n",
    "        return person.__name\n",
    "        \n",
    "    def get_age(person):\n",
    "        return person.__age\n",
    "    \n",
    "    def gender(person):\n",
    "        return person.gender\n",
    "\n"
   ]
  },
  {
   "cell_type": "code",
   "execution_count": 7,
   "id": "879bed66",
   "metadata": {},
   "outputs": [],
   "source": [
    "p = person(\"Mon\", 22, \"Male\")"
   ]
  },
  {
   "cell_type": "code",
   "execution_count": 16,
   "id": "3718bf74",
   "metadata": {},
   "outputs": [
    {
     "ename": "NameError",
     "evalue": "name 'get_name' is not defined",
     "output_type": "error",
     "traceback": [
      "\u001b[1;31m---------------------------------------------------------------------------\u001b[0m",
      "\u001b[1;31mNameError\u001b[0m                                 Traceback (most recent call last)",
      "Cell \u001b[1;32mIn[16], line 1\u001b[0m\n\u001b[1;32m----> 1\u001b[0m \u001b[43mget_name\u001b[49m(p) \u001b[38;5;66;03m# we can not access private veribale insight the class\u001b[39;00m\n",
      "\u001b[1;31mNameError\u001b[0m: name 'get_name' is not defined"
     ]
    }
   ],
   "source": [
    "get_name(p) # we can not access private veribale insight the class\n"
   ]
  },
  {
   "cell_type": "code",
   "execution_count": 8,
   "id": "1db220db",
   "metadata": {},
   "outputs": [
    {
     "name": "stdout",
     "output_type": "stream",
     "text": [
      "Mon\n",
      "22\n",
      "Male\n"
     ]
    }
   ],
   "source": [
    "print(p.get_name())   # → Mon\n",
    "print(p.get_age())    # → 22\n",
    "print(p.gender)       # → Male (public variable)"
   ]
  },
  {
   "cell_type": "code",
   "execution_count": 9,
   "id": "62f147dc",
   "metadata": {},
   "outputs": [
    {
     "name": "stdout",
     "output_type": "stream",
     "text": [
      "Mon\n",
      "22\n",
      "Male\n"
     ]
    }
   ],
   "source": [
    "print(p.get_name())\n",
    "print(p.get_age())\n",
    "print(p.gender)"
   ]
  },
  {
   "cell_type": "code",
   "execution_count": 10,
   "id": "cb03223b",
   "metadata": {},
   "outputs": [],
   "source": [
    "class person:\n",
    "    def __init__(self,name,age,gender):\n",
    "        self.__name = name\n",
    "        self.__age = age\n",
    "        self.gender = gender\n",
    "        \n",
    "    \n",
    "    def get_name(person):\n",
    "        return person.__name\n",
    "        \n",
    "    def get_age(person):\n",
    "        return person.__age\n",
    "    \n",
    "    def gender(person):\n",
    "        return person.gender\n",
    "    \n",
    "    \n",
    "        \n",
    "class employee(person):\n",
    "    def __init__(self,name,age,gender,location):\n",
    "        super().__init__(name,age,gender)\n",
    "        self.__location = location\n",
    "    \n",
    "    def get_location(person):\n",
    "        return person.__location\n",
    "        \n",
    "        \n",
    "\n",
    "\n"
   ]
  },
  {
   "cell_type": "code",
   "execution_count": 11,
   "id": "e228b06a",
   "metadata": {},
   "outputs": [
    {
     "name": "stdout",
     "output_type": "stream",
     "text": [
      "22\n",
      "Monish\n",
      "male\n",
      "Kharghar\n"
     ]
    }
   ],
   "source": [
    "Emp = employee('Monish', 22, \"male\", \"Kharghar\")\n",
    "\n",
    "print(Emp.get_age())       # → 22\n",
    "print(Emp.get_name())      # → Monish\n",
    "print(Emp.gender)          # → male (public attribute)\n",
    "print(Emp.get_location())  # → Kharghar\n"
   ]
  },
  {
   "cell_type": "code",
   "execution_count": 12,
   "id": "c80f64be",
   "metadata": {},
   "outputs": [],
   "source": [
    "class person:\n",
    "    def __init__(self,name,age,gender,location):\n",
    "        self.__name = name\n",
    "        self.__age = age\n",
    "        self.gender = gender\n",
    "        self.__location = location\n",
    "        \n",
    "    \n",
    "    def get_name(self):\n",
    "        return self.__name\n",
    "        \n",
    "    def get_age(self):\n",
    "        return self.__age\n",
    "    \n",
    "    def get_gender(self):\n",
    "        return self.gender\n",
    "    \n",
    "    def get_location(self):\n",
    "        return self.__location\n",
    "    \n",
    "    \n",
    "    \n",
    "        \n",
    "class employee(person):\n",
    "    def __init__(self,name,age,gender,location):\n",
    "        super().__init__(name,age,gender,location)\n",
    "        \n",
    "    "
   ]
  },
  {
   "cell_type": "code",
   "execution_count": 13,
   "id": "7d6e6bb8",
   "metadata": {},
   "outputs": [
    {
     "name": "stdout",
     "output_type": "stream",
     "text": [
      "22\n",
      "Monish\n",
      "male\n",
      "Kharghar\n"
     ]
    }
   ],
   "source": [
    "Emp = employee('Monish', 22, \"male\", \"Kharghar\")\n",
    "\n",
    "print(Emp.get_age())        # 22\n",
    "print(Emp.get_name())       # Monish\n",
    "print(Emp.get_gender())     # male\n",
    "print(Emp.get_location())   # Kharghar\n",
    "\n"
   ]
  },
  {
   "cell_type": "code",
   "execution_count": 14,
   "id": "3ca184cd",
   "metadata": {},
   "outputs": [],
   "source": [
    "# Encapsulated with Getter and Setter\n",
    "\n",
    "\n",
    "class person:\n",
    "    def __init__(self, name, age):\n",
    "        self.__name = name\n",
    "        self.__age = age\n",
    "\n",
    "\n",
    "# for order to access veriable insight the class\n",
    "    # getter method name and age\n",
    "    \n",
    "    def get_name(self):\n",
    "        return self.__name\n",
    "\n",
    "    ## getter method\n",
    "\n",
    "    def get_age(self):\n",
    "        return self.__age\n",
    "    \n",
    "    ## setter method\n",
    "    def set_age(self, new_age):\n",
    "        if new_age > 0:\n",
    "            self.__age = new_age\n",
    "        else:\n",
    "            print(\"Invalid age! Age must be a positive number.\")\n"
   ]
  },
  {
   "cell_type": "code",
   "execution_count": 15,
   "id": "1b2a8545",
   "metadata": {},
   "outputs": [],
   "source": [
    "class person:\n",
    "    def __init__(self,name,age):\n",
    "        self.__name = name\n",
    "        self.__age =  age\n",
    "        \n",
    "    \n",
    "    def get_name(self):\n",
    "        return self.__name\n",
    "    \n",
    "    def get_age(self):\n",
    "        return self.__age\n",
    "\n",
    "    def set_age(self,new_age):\n",
    "        if new_age < 0:\n",
    "            self.__age = new_age\n",
    "        else:\n",
    "            print(\"Invalid age! Age must be a positive number.\")\n",
    "            \n",
    "            \n",
    "    "
   ]
  },
  {
   "cell_type": "code",
   "execution_count": 16,
   "id": "dba3bdc2",
   "metadata": {},
   "outputs": [
    {
     "name": "stdout",
     "output_type": "stream",
     "text": [
      "rock\n",
      "34\n"
     ]
    }
   ],
   "source": [
    "Person = person(\"rock\", 34)\n",
    "\n",
    "# Access private variables using getters\n",
    "print(Person.get_name())    # rock\n",
    "print(Person.get_age())     # 34\n",
    "\n"
   ]
  },
  {
   "cell_type": "code",
   "execution_count": 17,
   "id": "a166f634",
   "metadata": {},
   "outputs": [
    {
     "name": "stdout",
     "output_type": "stream",
     "text": [
      "Invalid age! Age must be a positive number.\n",
      "34\n"
     ]
    }
   ],
   "source": [
    "# Modify age using setter\n",
    "Person.set_age(35)\n",
    "print(Person.get_age())     # 35"
   ]
  },
  {
   "cell_type": "code",
   "execution_count": 18,
   "id": "a38ef1b2",
   "metadata": {},
   "outputs": [
    {
     "name": "stdout",
     "output_type": "stream",
     "text": [
      "-8\n"
     ]
    }
   ],
   "source": [
    "# Try to set a negative age\n",
    "Person.set_age(-8)          # Invalid age!\n",
    "print(Person.get_age())     # 35 (unchanged)"
   ]
  },
  {
   "cell_type": "code",
   "execution_count": 24,
   "id": "0d5cb382",
   "metadata": {},
   "outputs": [],
   "source": [
    "class person:\n",
    "    def __init__(self,name,age):\n",
    "        self.__name = name\n",
    "        self.__age = age\n",
    "        \n",
    "    def get_name(self):\n",
    "        return self.__name\n",
    "    \n",
    "    def get_age(self):\n",
    "        return self.__age\n",
    "    \n",
    "    def set_age(self,age):\n",
    "        if age > 0:\n",
    "            self.__age = age\n",
    "        else:\n",
    "            print(\"Age is not a negative\")"
   ]
  },
  {
   "cell_type": "code",
   "execution_count": 30,
   "id": "63c6445a",
   "metadata": {},
   "outputs": [
    {
     "name": "stdout",
     "output_type": "stream",
     "text": [
      "maitri\n",
      "32\n",
      "35\n",
      "Age is not a negative\n",
      "35\n"
     ]
    }
   ],
   "source": [
    "Person =  person('maitri',32)\n",
    "\n",
    "print(Person.get_name())\n",
    "print(Person.get_age())\n",
    "\n",
    "Person.set_age(35)\n",
    "print(Person.get_age())\n",
    "\n",
    "Person.set_age(-5)\n",
    "print(Person.get_age())"
   ]
  }
 ],
 "metadata": {
  "kernelspec": {
   "display_name": "Python 3",
   "language": "python",
   "name": "python3"
  },
  "language_info": {
   "codemirror_mode": {
    "name": "ipython",
    "version": 3
   },
   "file_extension": ".py",
   "mimetype": "text/x-python",
   "name": "python",
   "nbconvert_exporter": "python",
   "pygments_lexer": "ipython3",
   "version": "3.10.0"
  }
 },
 "nbformat": 4,
 "nbformat_minor": 5
}
