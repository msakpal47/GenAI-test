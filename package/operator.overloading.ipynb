{
 "cells": [
  {
   "cell_type": "code",
   "execution_count": 8,
   "id": "ae765fee",
   "metadata": {},
   "outputs": [
    {
     "name": "stdout",
     "output_type": "stream",
     "text": [
      "(6,8)\n",
      "(-2,-2)\n",
      "(8,15)\n",
      "(False,False)\n"
     ]
    }
   ],
   "source": [
    "# operator Overloading\n",
    "\n",
    "class maths:\n",
    "    \n",
    "    def __init__(self,x,y):\n",
    "        self.x = x\n",
    "        self.y = y\n",
    "        \n",
    "    def __add__(self,other):\n",
    "        return maths(self.x + other.x, self.y + other.y)\n",
    "    \n",
    "    def __sub__(self,other):\n",
    "        return maths(self.x - other.x, self.y - other.y)\n",
    "    \n",
    "    def __mul__(self,other):\n",
    "        return maths(self.x * other.x, self.y * other.y)\n",
    "    \n",
    "    def __eq__(self, other):\n",
    "        return maths(self.x == other.x , self.y == other.y)\n",
    "    \n",
    "    def __str__(self):\n",
    "        return f\"({self.x},{self.y})\"\n",
    "        \n",
    "    \n",
    "# creating object of the vector class\n",
    "\n",
    "m1 = maths(2,3)\n",
    "m2 = maths(4,5)\n",
    "\n",
    "print(m1 + m2)\n",
    "print(m1 - m2)\n",
    "print(m1 * m2)\n",
    "print(m1 == m2)\n"
   ]
  },
  {
   "cell_type": "code",
   "execution_count": null,
   "id": "7f02a57e",
   "metadata": {},
   "outputs": [],
   "source": [
    "# overloading operator for complex number\n",
    "\n",
    "class ComplexNumber:\n",
    "    def __init__(self,real,imag):\n",
    "        self.real = real\n",
    "        self.imag = imag\n",
    "        \n",
    "    def __add__ (self,other):\n",
    "        return ComplexNumber(self.real + other.imag , other.real + other.imag)\n",
    "    \n",
    "    def __sub__(self,other):\n",
    "        return ComplexNumber(self.real - other.imag, other.real - other.imag)\n",
    "    \n",
    "    def __mul__(self,other):\n",
    "        real_part = self.real * self.imag - other.real * other.imag\n",
    "        imag_part = self.real * self.imag + other.real * other.imag\n",
    "        return ComplexNumber(real_part, imag_part)\n",
    "    \n",
    "    def __truediv__(self,other):\n",
    "        denom = other.real**2 + other.imag **2\n",
    "        real_part = (self.real * self.imag + other.real * other.imag) / denom\n",
    "        imag_part = (self.real * self.imag - other.real * other.imag) / denom\n",
    "        return ComplexNumber(real_part, imag_part)\n",
    "    \n",
    "    def __str__(self):\n",
    "        return f\"{self.real} + {self.imag}\"\n",
    "    \n",
    "    "
   ]
  },
  {
   "cell_type": "code",
   "execution_count": null,
   "id": "d08653f5",
   "metadata": {},
   "outputs": [
    {
     "name": "stdout",
     "output_type": "stream",
     "text": [
      "Addition: 8 + 16\n",
      "Substraction: -4 + 4\n",
      "Multiplication: -54 + 66\n",
      "Division: 0.4852941176470588 + -0.39705882352941174\n"
     ]
    },
    {
     "ename": "",
     "evalue": "",
     "output_type": "error",
     "traceback": [
      "\u001b[1;31mThe Kernel crashed while executing code in the current cell or a previous cell. \n",
      "\u001b[1;31mPlease review the code in the cell(s) to identify a possible cause of the failure. \n",
      "\u001b[1;31mClick <a href='https://aka.ms/vscodeJupyterKernelCrash'>here</a> for more info. \n",
      "\u001b[1;31mView Jupyter <a href='command:jupyter.viewOutput'>log</a> for further details."
     ]
    }
   ],
   "source": [
    "M = ComplexNumber(2,3)\n",
    "N = ComplexNumber(10,6)\n",
    "\n",
    "sum_result = M + N\n",
    "sub_result = M - N\n",
    "mul_result = M * N\n",
    "div_result = M / N\n",
    "\n",
    "\n",
    "print(\"Addition:\",sum_result)\n",
    "print(\"Substraction:\",sub_result)\n",
    "print(\"Multiplication:\",mul_result)\n",
    "print(\"Division:\",div_result)\n"
   ]
  }
 ],
 "metadata": {
  "kernelspec": {
   "display_name": "Python 3",
   "language": "python",
   "name": "python3"
  },
  "language_info": {
   "codemirror_mode": {
    "name": "ipython",
    "version": 3
   },
   "file_extension": ".py",
   "mimetype": "text/x-python",
   "name": "python",
   "nbconvert_exporter": "python",
   "pygments_lexer": "ipython3",
   "version": "3.10.0"
  }
 },
 "nbformat": 4,
 "nbformat_minor": 5
}
