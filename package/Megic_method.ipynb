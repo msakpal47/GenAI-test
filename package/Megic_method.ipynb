{
 "cells": [
  {
   "cell_type": "code",
   "execution_count": 5,
   "id": "7a32699d",
   "metadata": {},
   "outputs": [
    {
     "data": {
      "text/plain": [
       "['__class__',\n",
       " '__delattr__',\n",
       " '__dict__',\n",
       " '__dir__',\n",
       " '__doc__',\n",
       " '__eq__',\n",
       " '__format__',\n",
       " '__ge__',\n",
       " '__getattribute__',\n",
       " '__gt__',\n",
       " '__hash__',\n",
       " '__init__',\n",
       " '__init_subclass__',\n",
       " '__le__',\n",
       " '__lt__',\n",
       " '__module__',\n",
       " '__ne__',\n",
       " '__new__',\n",
       " '__reduce__',\n",
       " '__reduce_ex__',\n",
       " '__repr__',\n",
       " '__setattr__',\n",
       " '__sizeof__',\n",
       " '__str__',\n",
       " '__subclasshook__',\n",
       " '__weakref__']"
      ]
     },
     "execution_count": 5,
     "metadata": {},
     "output_type": "execute_result"
    }
   ],
   "source": [
    "# Magic Methods\n",
    "\n",
    "# dhundar method = double under score method\n",
    "\n",
    "class Robot:\n",
    "    pass\n",
    "\n",
    "terminator = Robot()\n",
    "dir(Robot)\n",
    "\n",
    "\n"
   ]
  },
  {
   "cell_type": "code",
   "execution_count": 4,
   "id": "4a4beba5",
   "metadata": {},
   "outputs": [
    {
     "name": "stdout",
     "output_type": "stream",
     "text": [
      "<__main__.Robot object at 0x00000235D565E7D0>\n"
     ]
    }
   ],
   "source": [
    "print(terminator)"
   ]
  },
  {
   "cell_type": "code",
   "execution_count": null,
   "id": "52cf4b11",
   "metadata": {},
   "outputs": [
    {
     "name": "stdout",
     "output_type": "stream",
     "text": [
      "<__main__.soldier object at 0x00000235D56267A0>\n"
     ]
    }
   ],
   "source": [
    "## Basic Method\n",
    "# initializes a new instance of a class in __init__ method\n",
    "\n",
    "class soldier:\n",
    "    def __init__(self, name,age):\n",
    "        self.name = name\n",
    "        self.age = age\n",
    "    \n",
    "Navy = soldier('sargent shiva',22)\n",
    "print(Navy)\n",
    "\n"
   ]
  },
  {
   "cell_type": "code",
   "execution_count": null,
   "id": "a5b0df6e",
   "metadata": {},
   "outputs": [
    {
     "name": "stdout",
     "output_type": "stream",
     "text": [
      "sargent shiva, 22 Years old\n"
     ]
    }
   ],
   "source": [
    "# change the memory Location \n",
    "\n",
    "# return string representetion of an object with __str__ method\n",
    "\n",
    "class soldier:\n",
    "    def __init__(self,name,age):\n",
    "        self.name = name\n",
    "        self.age = age\n",
    "\n",
    "    def __str__(self):\n",
    "        return f\"{self.name}, {self.age} Years old\"\n",
    "    \n",
    "    \n",
    "Navy = soldier('sargent shiva',22)\n",
    "print(Navy)\n"
   ]
  },
  {
   "cell_type": "code",
   "execution_count": null,
   "id": "ffdb5dd5",
   "metadata": {},
   "outputs": [
    {
     "name": "stdout",
     "output_type": "stream",
     "text": [
      "sargent shiva, 22 Years old\n"
     ]
    }
   ],
   "source": [
    "class soldier:\n",
    "    def __init__(self,name,age):\n",
    "        self.name = name\n",
    "        self.age = age\n",
    "\n",
    "    def __str__(self):\n",
    "        return f\"{self.name}, {self.age} Years old\"\n",
    "    \n",
    "    def __repr__(self):\n",
    "        return f\"person(name={self.name},age={self.age})\"\n",
    "    \n",
    "    def __eq__(self,other):\n",
    "        return self.name == other.name and self.age == other.age\n",
    "    \n",
    "    def __lt__(self,other):\n",
    "        return self.age < other.age\n",
    "    \n",
    "    def __call__(self):\n",
    "        print(f\"{self.name} reporting for duty!\")\n",
    "\n",
    "    def __len__(self):\n",
    "        return len(self.name)        \n",
    "    \n",
    "    \n"
   ]
  },
  {
   "cell_type": "code",
   "execution_count": null,
   "id": "0c21a31c",
   "metadata": {},
   "outputs": [
    {
     "name": "stdout",
     "output_type": "stream",
     "text": [
      "shiva, 22 Years old\n",
      "person(name=shiva,age=22)\n",
      "False\n",
      "True\n",
      "shiva reporting for duty!\n",
      "5\n"
     ]
    },
    {
     "ename": "",
     "evalue": "",
     "output_type": "error",
     "traceback": [
      "\u001b[1;31mThe Kernel crashed while executing code in the current cell or a previous cell. \n",
      "\u001b[1;31mPlease review the code in the cell(s) to identify a possible cause of the failure. \n",
      "\u001b[1;31mClick <a href='https://aka.ms/vscodeJupyterKernelCrash'>here</a> for more info. \n",
      "\u001b[1;31mView Jupyter <a href='command:jupyter.viewOutput'>log</a> for further details."
     ]
    }
   ],
   "source": [
    "a = soldier(\"shiva\", 22)\n",
    "b = soldier(\"Ram\",32)\n",
    "\n",
    "print(str(a))\n",
    "print(repr(a))\n",
    "print(a==b)\n",
    "print(a < b)\n",
    "a()\n",
    "print(len(a))"
   ]
  }
 ],
 "metadata": {
  "kernelspec": {
   "display_name": "Python 3",
   "language": "python",
   "name": "python3"
  },
  "language_info": {
   "codemirror_mode": {
    "name": "ipython",
    "version": 3
   },
   "file_extension": ".py",
   "mimetype": "text/x-python",
   "name": "python",
   "nbconvert_exporter": "python",
   "pygments_lexer": "ipython3",
   "version": "3.10.0"
  }
 },
 "nbformat": 4,
 "nbformat_minor": 5
}
