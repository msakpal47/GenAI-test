{
 "cells": [
  {
   "cell_type": "code",
   "execution_count": null,
   "id": "43568bf1",
   "metadata": {},
   "outputs": [
    {
     "name": "stdout",
     "output_type": "stream",
     "text": [
      "8\n"
     ]
    }
   ],
   "source": [
    "#lambda function in python\n",
    "\n",
    "\n",
    "addtion = lambda a,b:a + b\n",
    "\n",
    "type(addtion)\n",
    "\n",
    "print(addtion(2,6))"
   ]
  },
  {
   "cell_type": "code",
   "execution_count": 5,
   "id": "79ad1d2c",
   "metadata": {},
   "outputs": [
    {
     "name": "stdout",
     "output_type": "stream",
     "text": [
      "False\n"
     ]
    }
   ],
   "source": [
    "def even(num):\n",
    "    if num % 2 == 0:\n",
    "        return True\n",
    "    else:\n",
    "        return False\n",
    "    \n",
    "print(even(3))"
   ]
  },
  {
   "cell_type": "code",
   "execution_count": 7,
   "id": "f60efb0d",
   "metadata": {},
   "outputs": [
    {
     "name": "stdout",
     "output_type": "stream",
     "text": [
      "True\n"
     ]
    }
   ],
   "source": [
    "# make in lamba\n",
    "\n",
    "even1 = lambda num : num % 2 == 0\n",
    "\n",
    "print(even1(4))"
   ]
  },
  {
   "cell_type": "code",
   "execution_count": 8,
   "id": "265ead09",
   "metadata": {},
   "outputs": [
    {
     "name": "stdout",
     "output_type": "stream",
     "text": [
      "19\n"
     ]
    }
   ],
   "source": [
    "def additional(x,y,z):\n",
    "    return x+y+z\n",
    "\n",
    "print(additional(12,3,4))"
   ]
  },
  {
   "cell_type": "code",
   "execution_count": 11,
   "id": "f8efd265",
   "metadata": {},
   "outputs": [
    {
     "name": "stdout",
     "output_type": "stream",
     "text": [
      "19\n"
     ]
    }
   ],
   "source": [
    "additional_lambda = lambda  x,y,z: x+y+z\n",
    "\n",
    "print(additional_lambda(12,3,4))\n"
   ]
  },
  {
   "cell_type": "code",
   "execution_count": 14,
   "id": "c7a3dca0",
   "metadata": {},
   "outputs": [
    {
     "name": "stdout",
     "output_type": "stream",
     "text": [
      "49\n"
     ]
    }
   ],
   "source": [
    "number = [1,2,3,4,5,6,7,8,9]\n",
    "def squeare (number):\n",
    "    return number ** 2\n",
    "\n",
    "print(squeare(7))"
   ]
  },
  {
   "cell_type": "code",
   "execution_count": 17,
   "id": "f6e297dd",
   "metadata": {},
   "outputs": [
    {
     "data": {
      "text/plain": [
       "[1, 4, 9, 16, 25, 36, 49, 64, 81]"
      ]
     },
     "execution_count": 17,
     "metadata": {},
     "output_type": "execute_result"
    }
   ],
   "source": [
    "list(map(lambda x:x ** 2 ,(number)))"
   ]
  }
 ],
 "metadata": {
  "kernelspec": {
   "display_name": "Python 3",
   "language": "python",
   "name": "python3"
  },
  "language_info": {
   "codemirror_mode": {
    "name": "ipython",
    "version": 3
   },
   "file_extension": ".py",
   "mimetype": "text/x-python",
   "name": "python",
   "nbconvert_exporter": "python",
   "pygments_lexer": "ipython3",
   "version": "3.10.0"
  }
 },
 "nbformat": 4,
 "nbformat_minor": 5
}
