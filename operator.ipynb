{
 "cells": [
  {
   "cell_type": "code",
   "execution_count": 1,
   "id": "62bbdd19",
   "metadata": {},
   "outputs": [
    {
     "name": "stdout",
     "output_type": "stream",
     "text": [
      "18\n",
      "6\n",
      "72\n",
      "2.0\n",
      "2\n",
      "2985984\n"
     ]
    }
   ],
   "source": [
    "x = 12\n",
    "y = 6 \n",
    "\n",
    "addtion_operation = x+y\n",
    "substraction_operation = x-y\n",
    "multiplication_operation = x*y\n",
    "dividetion_operation = x/y\n",
    "floor_division_operation = x//y\n",
    "modules_result_operation = x**y\n",
    "\n",
    "print(addtion_operation)\n",
    "print(substraction_operation)\n",
    "print(multiplication_operation)\n",
    "print(dividetion_operation)\n",
    "print(floor_division_operation)\n",
    "print(modules_result_operation)"
   ]
  },
  {
   "cell_type": "code",
   "execution_count": null,
   "id": "d0373651",
   "metadata": {},
   "outputs": [
    {
     "data": {
      "text/plain": [
       "False"
      ]
     },
     "execution_count": 4,
     "metadata": {},
     "output_type": "execute_result"
    }
   ],
   "source": [
    "x = 12\n",
    "y = 6\n",
    "\n",
    "x!=y\n",
    "\n"
   ]
  },
  {
   "cell_type": "code",
   "execution_count": 6,
   "id": "49debf0e",
   "metadata": {},
   "outputs": [
    {
     "name": "stdout",
     "output_type": "stream",
     "text": [
      "addition 8\n",
      "substraction -4\n",
      "multiplication 12\n",
      "division 0.3333333333333333\n",
      "Floor_Division 0\n",
      "Modulus 2\n",
      "Exponent 64\n"
     ]
    }
   ],
   "source": [
    "# simple calculator \n",
    "num1 = int(input(\"Please enter desire values\"))\n",
    "num2 = int(input(\"Please enter desire value\"))\n",
    "\n",
    "\n",
    "addtion = num1 + num2\n",
    "substraction = num1 - num2\n",
    "multiplication = num1 * num2\n",
    "division = num1 / num2\n",
    "Floor_Division\t= num1//num2\n",
    "Modulus = num1 % num2\n",
    "Exponent = num1 ** num2\n",
    "\n",
    "\n",
    "\n",
    "\n",
    "\n",
    "print(\"addition\", addtion)\n",
    "print(\"substraction\",substraction)\n",
    "print(\"multiplication\",multiplication)\n",
    "print(\"division\",division)\n",
    "print(\"Floor_Division\",Floor_Division)\n",
    "print(\"Modulus\",Modulus)\n",
    "print(\"Exponent\",Exponent)\n",
    "\n"
   ]
  },
  {
   "cell_type": "code",
   "execution_count": 10,
   "id": "7f60bfbd",
   "metadata": {},
   "outputs": [
    {
     "name": "stdout",
     "output_type": "stream",
     "text": [
      "Equal: False\n",
      "not_Equal: True\n",
      "Greater then: True\n",
      "equal to greater then: True\n",
      "Lesser then equal to: False\n"
     ]
    }
   ],
   "source": [
    "# 3. Comparison (Relational) Operators\n",
    "\n",
    "\n",
    "x = 6\n",
    "y = 2\n",
    "\n",
    "print(\"Equal:\", x==y)\n",
    "print(\"not_Equal:\", x!=y)\n",
    "print(\"Greater then:\",x>y)\n",
    "print(\"equal to greater then:\",x>=y)\n",
    "print(\"Lesser then equal to:\",x<=y)\n"
   ]
  },
  {
   "cell_type": "code",
   "execution_count": null,
   "id": "3f490ade",
   "metadata": {},
   "outputs": [],
   "source": [
    "x = 10\n",
    "y = 5\n",
    "\n",
    "print(\"AND Example:\", x > 5 and y < 10)  # True\n",
    "print(\"OR Example:\", x < 5 or y < 10)    # True\n",
    "print(\"NOT Example:\", not(x < 5))        # True"
   ]
  },
  {
   "cell_type": "code",
   "execution_count": 14,
   "id": "73522d48",
   "metadata": {},
   "outputs": [
    {
     "name": "stdout",
     "output_type": "stream",
     "text": [
      "and: True\n",
      "Or: True\n",
      "not: True\n"
     ]
    }
   ],
   "source": [
    "a = 10\n",
    "b = 8\n",
    "\n",
    "print(\"and:\", a > 7 and b < 10)\n",
    "print(\"Or:\",a > 10 or b > 7)\n",
    "print(\"not:\", not(a > 15))"
   ]
  },
  {
   "cell_type": "code",
   "execution_count": 38,
   "id": "7b58cbb8",
   "metadata": {},
   "outputs": [
    {
     "name": "stdout",
     "output_type": "stream",
     "text": [
      "This is positive number\n",
      "This is Even Number\n"
     ]
    }
   ],
   "source": [
    "# nested If condition\n",
    "\n",
    "# make even,odd,negative,positive\n",
    "\n",
    "number = int(input(\"Please enter desire values\"))\n",
    "\n",
    "if number > 0:\n",
    "    print(\"This is positive number\")\n",
    "    if number%2==0:\n",
    "        print(\"This is Even Number\")\n",
    "    else:\n",
    "        print(\"This is Odd value\")\n",
    "else:\n",
    "    print(\"This is Negative number\")"
   ]
  },
  {
   "cell_type": "code",
   "execution_count": 52,
   "id": "c748df82",
   "metadata": {},
   "outputs": [
    {
     "name": "stdout",
     "output_type": "stream",
     "text": [
      "generated magical value is Even\n"
     ]
    }
   ],
   "source": [
    "\n",
    "\n",
    "number = int(input(\"Please enter desire values\"))\n",
    "\n",
    "result = [\"Odd\",\"Even\"] [number%2==0]\n",
    "print(\"generated magical value is\", result)"
   ]
  },
  {
   "cell_type": "code",
   "execution_count": 33,
   "id": "93c4b682",
   "metadata": {},
   "outputs": [
    {
     "name": "stdout",
     "output_type": "stream",
     "text": [
      "This is Magical Values is Even\n"
     ]
    }
   ],
   "source": [
    "number = int(input(\"Please enter desire values\"))\n",
    "\n",
    "result_mine = [\"Even\",\"odd\"]\n",
    "print(\"This is Magical Values is\",result_mine[number & 1])"
   ]
  },
  {
   "cell_type": "code",
   "execution_count": null,
   "id": "3412b4d7",
   "metadata": {},
   "outputs": [
    {
     "name": "stdout",
     "output_type": "stream",
     "text": [
      "This is not leap year\n"
     ]
    }
   ],
   "source": [
    "## practicles examples\n",
    "\n",
    "# determine ifa year is a leap year using nested condition statement\n",
    "\n",
    "year = int(input(\"please enter year:\"))\n",
    "\n",
    "if year % 4 == 0:\n",
    "    if year % 100 == 0:\n",
    "        if year % 400 == 0:\n",
    "            print(Year,\"this is a leap year\")\n",
    "        else:\n",
    "            print(Year,\"this is not leap year\")\n",
    "    else:\n",
    "        print(Year,\"this is leap year\")\n",
    "else:\n",
    "    print(Year,\"This is not leap year\")"
   ]
  },
  {
   "cell_type": "code",
   "execution_count": null,
   "id": "60c5451c",
   "metadata": {},
   "outputs": [
    {
     "name": "stdout",
     "output_type": "stream",
     "text": [
      "This is not leap year\n"
     ]
    }
   ],
   "source": [
    "year = int(input(\"Please enter the year:\"))\n",
    "\n",
    "if (year % 4 == 0 and year % 100 == 0 or year % 400 == 0):\n",
    "    print(\"This is a leap year\")\n",
    "else:\n",
    "    print(\"This is not leap year\")\n",
    "\n"
   ]
  },
  {
   "cell_type": "code",
   "execution_count": 56,
   "id": "fccb0298",
   "metadata": {},
   "outputs": [
    {
     "name": "stdout",
     "output_type": "stream",
     "text": [
      "This is leap year\n"
     ]
    }
   ],
   "source": [
    "year = int(input(\"please enter year\"))\n",
    "\n",
    "is_leap = (year % 4 == 0 and year % 100 != 0 or year % 400 == 0)\n",
    "result = (\"This is leap year\", \"this is not leap Year\")[is_leap]\n",
    "\n",
    "print(result)"
   ]
  },
  {
   "cell_type": "code",
   "execution_count": 57,
   "id": "7ca60526",
   "metadata": {},
   "outputs": [
    {
     "name": "stdout",
     "output_type": "stream",
     "text": [
      "21\n",
      "7\n",
      "98\n",
      "2.0\n",
      "0\n",
      "105413504\n",
      "2\n"
     ]
    }
   ],
   "source": [
    "# simple calculator\n",
    "\n",
    "numbo1 = int(input(\"please enter desire values\"))\n",
    "numbo2 = int(input(\"please enter desire values\"))\n",
    "\n",
    "addtion = numbo1 + numbo2\n",
    "substraction = numbo1 - numbo2\n",
    "multiplication =  numbo1 * numbo2\n",
    "division = numbo1 / numbo2\n",
    "modules = numbo1 % numbo2\n",
    "Exponent = numbo1 ** numbo2\n",
    "floor_division = numbo1 // numbo2\n",
    "\n",
    "print(addtion)\n",
    "print(substraction)\n",
    "print(multiplication)\n",
    "print(division)\n",
    "print(modules)\n",
    "print(Exponent)\n",
    "print(floor_division)"
   ]
  },
  {
   "cell_type": "code",
   "execution_count": 59,
   "id": "61957061",
   "metadata": {},
   "outputs": [
    {
     "name": "stdout",
     "output_type": "stream",
     "text": [
      "Simple Calculator\n",
      "Result: 2.0\n"
     ]
    }
   ],
   "source": [
    "print(\"Simple Calculator\")\n",
    "#print(\"1: +  2: -  3: *  4: /  5: %  6: **  7: //\")\n",
    "\n",
    "num1 = int(input(\"Enter first number: \"))\n",
    "num2 = int(input(\"Enter second number: \"))\n",
    "choice = input(\"Choose operation (1-7): \")\n",
    "\n",
    "if choice == '1':\n",
    "    result = num1 + num2\n",
    "elif choice == '2':\n",
    "    result = num1 - num2\n",
    "elif choice == '3':\n",
    "    result = num1 * num2\n",
    "elif choice == '4':\n",
    "    result = \"Error: Division by zero\" if num2 == 0 else num1 / num2\n",
    "elif choice == '5':\n",
    "    result = \"Error: Modulus by zero\" if num2 == 0 else num1 % num2\n",
    "elif choice == '6':\n",
    "    result = num1 ** num2\n",
    "elif choice == '7':\n",
    "    result = \"Error: Floor division by zero\" if num2 == 0 else num1 // num2\n",
    "else:\n",
    "    result = \"Invalid choice\"\n",
    "\n",
    "print(\"Result:\", result)\n"
   ]
  },
  {
   "cell_type": "code",
   "execution_count": 62,
   "id": "6d048af5",
   "metadata": {},
   "outputs": [
    {
     "name": "stdout",
     "output_type": "stream",
     "text": [
      "Chanda Mama Calculator\n",
      "1:+ 2:- 3: * 4: / 5: % 6: ** 7: //\n",
      "result: invalid\n"
     ]
    }
   ],
   "source": [
    "print(\"Chanda Mama Calculator\")\n",
    "print(\"1:+ 2:- 3: * 4: / 5: % 6: ** 7: //\")\n",
    "\n",
    "value1 = int(input(\"Please enter desire values\"))\n",
    "value2 = int(input(\"please enter desire values\"))\n",
    "choice = input(\"choose choice (1-7):\")\n",
    "\n",
    "if choice == 1:\n",
    "     result = value1 + value2\n",
    "elif choice == 2:\n",
    "     result = value1 - value2\n",
    "elif choice == 3:\n",
    "     result = value1  * value2\n",
    "elif choice == 4:\n",
    "     result = value1 / value2\n",
    "elif choice == 5:\n",
    "     result = value1 % value2\n",
    "elif choice == 6:\n",
    "     result = value1 ** value2\n",
    "elif choice == 7:\n",
    "     result = value1 // value2\n",
    "else:\n",
    "    result = \"invalid\"\n",
    "\n",
    "\n",
    "print(\"result:\", result)"
   ]
  },
  {
   "cell_type": "code",
   "execution_count": 63,
   "id": "bf21b990",
   "metadata": {},
   "outputs": [
    {
     "name": "stdout",
     "output_type": "stream",
     "text": [
      "Your ticket price is ₹100\n"
     ]
    }
   ],
   "source": [
    "# ticket pricing based on age and student status\n",
    "\n",
    "\n",
    "age = int(input(\"Enter your age: \"))\n",
    "is_student = input(\"Are you a student? (yes/no): \").strip().lower()\n",
    "\n",
    "if age <= 5:\n",
    "    price = 0\n",
    "elif 6 <= age <= 17:\n",
    "    price = 50 if is_student == \"yes\" else 80\n",
    "elif 18 <= age <= 60:\n",
    "    price = 100 if is_student == \"yes\" else 150\n",
    "else:\n",
    "    price = 70\n",
    "\n",
    "print(f\"Your ticket price is ₹{price}\")\n"
   ]
  }
 ],
 "metadata": {
  "kernelspec": {
   "display_name": "Python 3",
   "language": "python",
   "name": "python3"
  },
  "language_info": {
   "codemirror_mode": {
    "name": "ipython",
    "version": 3
   },
   "file_extension": ".py",
   "mimetype": "text/x-python",
   "name": "python",
   "nbconvert_exporter": "python",
   "pygments_lexer": "ipython3",
   "version": "3.10.0"
  }
 },
 "nbformat": 4,
 "nbformat_minor": 5
}
