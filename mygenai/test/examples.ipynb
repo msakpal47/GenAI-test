{
 "cells": [
  {
   "cell_type": "code",
   "execution_count": null,
   "id": "b039aaa0",
   "metadata": {},
   "outputs": [
    {
     "name": "stdout",
     "output_type": "stream",
     "text": [
      "71.6\n",
      "-9.444444444444445\n"
     ]
    }
   ],
   "source": [
    "#make tempreture converter function in python\n",
    "\n",
    "def convert_tempreture(temp,unit):\n",
    "    if unit == \"C\":\n",
    "        return temp *9/5 + 32\n",
    "    elif unit == \"F\":\n",
    "        return (temp -32) *5/9\n",
    "    else:\n",
    "        return None\n",
    "    \n",
    "print(convert_tempreture(22,\"C\"))\n",
    "print(convert_tempreture(15,\"F\"))"
   ]
  },
  {
   "cell_type": "code",
   "execution_count": 3,
   "id": "21f47fc7",
   "metadata": {},
   "outputs": [
    {
     "name": "stdout",
     "output_type": "stream",
     "text": [
      "False\n",
      "True\n"
     ]
    }
   ],
   "source": [
    "# Password Strength Checker\n",
    "\n",
    "def is_strong_password(password):\n",
    "    \n",
    "    if len(password) < 8:\n",
    "        return False\n",
    "    if not any (char.isdigit() for char in password):\n",
    "        return False\n",
    "    if not any (char.islower() for char in password):\n",
    "        return False\n",
    "    if not any (char.isupper() for char in password):\n",
    "        return False\n",
    "    if not any(char in \"!@#$%^&*()_+\" for char in password):\n",
    "        return False\n",
    "    return True\n",
    "\n",
    "print(is_strong_password(\"Password\"))\n",
    "print(is_strong_password('St1234!@#$'))"
   ]
  },
  {
   "cell_type": "code",
   "execution_count": 12,
   "id": "2769a118",
   "metadata": {},
   "outputs": [
    {
     "name": "stdout",
     "output_type": "stream",
     "text": [
      "28.8\n"
     ]
    }
   ],
   "source": [
    "# calculate the total number of items in a shopping cart\n",
    "\n",
    "def calculate_total_number(cart):\n",
    "    total_cost = 0\n",
    "    for item in cart:\n",
    "        total_cost += item['price']* item['quantity']\n",
    "    return total_cost\n",
    "\n",
    "cost = [\n",
    "    {'name': 'apple', 'price': 0.5, 'quantity': 4},\n",
    "    {'name': 'Mango', 'price': 0.2, 'quantity': 6},\n",
    "    {'name': 'banana', 'price': 0.7, 'quantity': 6},\n",
    "    {'name': 'kiwi', 'price': 0.8, 'quantity': 8},\n",
    "    {'name': 'beet', 'price': 1.5, 'quantity': 10},\n",
    "]  \n",
    "\n",
    "total_cost = calculate_total_number(cost)\n",
    "print(total_cost)"
   ]
  },
  {
   "cell_type": "code",
   "execution_count": 16,
   "id": "123795b3",
   "metadata": {},
   "outputs": [
    {
     "name": "stdout",
     "output_type": "stream",
     "text": [
      "28.8\n"
     ]
    }
   ],
   "source": [
    "# calculate the total number of items in a shopping cart\n",
    "\n",
    "def calculate_total_number(cart):\n",
    "    total_cost = 0\n",
    "    for item in cart:\n",
    "        total_cost += item['price']*item['quantity']\n",
    "    return total_cost\n",
    "\n",
    "cost = [\n",
    "    {'name': 'apple', 'price': 0.5, 'quantity': 4},\n",
    "    {'name': 'Mango', 'price': 0.2, 'quantity': 6},\n",
    "    {'name': 'banana', 'price': 0.7, 'quantity': 6},\n",
    "    {'name': 'kiwi', 'price': 0.8, 'quantity': 8},\n",
    "    {'name': 'beet', 'price': 1.5, 'quantity': 10},\n",
    "    \n",
    "]\n",
    "\n",
    "#total_cost = calculate_total_number(cost)\n",
    "#print(total_cost)\n",
    "\n",
    "\n",
    "total_cost = calculate_total_number(cost)\n",
    "print(total_cost)"
   ]
  },
  {
   "cell_type": "code",
   "execution_count": 30,
   "id": "01b0836d",
   "metadata": {},
   "outputs": [
    {
     "name": "stdout",
     "output_type": "stream",
     "text": [
      "True\n",
      "True\n"
     ]
    }
   ],
   "source": [
    "# check if string is palindrome\n",
    "\n",
    "def is_palindrome(s):\n",
    "    s=s.lower().replace(\"\",\"\")\n",
    "    return s==s[::-1]\n",
    "\n",
    "print(is_palindrome('oyo'))\n",
    "print(is_palindrome('peep'))"
   ]
  },
  {
   "cell_type": "code",
   "execution_count": 5,
   "id": "2bb2f4d3",
   "metadata": {},
   "outputs": [
    {
     "name": "stdout",
     "output_type": "stream",
     "text": [
      "479001600\n"
     ]
    }
   ],
   "source": [
    "# calculate the factorials of a number using recursive\n",
    "\n",
    "def factorial(n):\n",
    "    if n == 0:\n",
    "        return 1\n",
    "    else:\n",
    "        return n * factorial(n-1)\n",
    "\n",
    "print(factorial(12))"
   ]
  }
 ],
 "metadata": {
  "kernelspec": {
   "display_name": "Python 3",
   "language": "python",
   "name": "python3"
  },
  "language_info": {
   "codemirror_mode": {
    "name": "ipython",
    "version": 3
   },
   "file_extension": ".py",
   "mimetype": "text/x-python",
   "name": "python",
   "nbconvert_exporter": "python",
   "pygments_lexer": "ipython3",
   "version": "3.10.0"
  }
 },
 "nbformat": 4,
 "nbformat_minor": 5
}
