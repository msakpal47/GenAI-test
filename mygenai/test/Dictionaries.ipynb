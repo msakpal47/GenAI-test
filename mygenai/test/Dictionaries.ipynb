{
 "cells": [
  {
   "cell_type": "code",
   "execution_count": 3,
   "id": "fb691e05",
   "metadata": {},
   "outputs": [],
   "source": [
    "# creating dictionaries\n",
    "\n",
    "dict_vajreshwari = {\n",
    "    \"bus\" : \"taloja_to_kharghar_station\",\n",
    "    \"train\" : \"kharghar_vadala\",\n",
    "    \"train2\": \"vadala_bandra\",\n",
    "    \"train3\" : \"bandra_virar\",\n",
    "    \"bus\": 'virar_station_to_vajreshawari',\n",
    "}"
   ]
  },
  {
   "cell_type": "code",
   "execution_count": 4,
   "id": "1e51b8c1",
   "metadata": {},
   "outputs": [
    {
     "name": "stdout",
     "output_type": "stream",
     "text": [
      "{'bus': 'virar_station_to_vajreshawari', 'train': 'kharghar_vadala', 'train2': 'vadala_bandra', 'train3': 'bandra_virar'}\n"
     ]
    }
   ],
   "source": [
    "print(dict_vajreshwari)"
   ]
  },
  {
   "cell_type": "code",
   "execution_count": 5,
   "id": "8fe5efdd",
   "metadata": {},
   "outputs": [
    {
     "data": {
      "text/plain": [
       "dict"
      ]
     },
     "execution_count": 5,
     "metadata": {},
     "output_type": "execute_result"
    }
   ],
   "source": [
    "type(dict_vajreshwari)"
   ]
  },
  {
   "cell_type": "code",
   "execution_count": 9,
   "id": "d3e09650",
   "metadata": {},
   "outputs": [
    {
     "data": {
      "text/plain": [
       "dict"
      ]
     },
     "execution_count": 9,
     "metadata": {},
     "output_type": "execute_result"
    }
   ],
   "source": [
    "dict= {}\n",
    "type(dict)"
   ]
  },
  {
   "cell_type": "code",
   "execution_count": 11,
   "id": "58682b8c",
   "metadata": {},
   "outputs": [
    {
     "name": "stdout",
     "output_type": "stream",
     "text": [
      "{'name': 'Donely', 'location': 'japan', 'number': 24}\n"
     ]
    }
   ],
   "source": [
    "mine_dict = {\"name\":\"Donely\",\"location\":\"japan\",\"number\":24}\n",
    "print(mine_dict)"
   ]
  },
  {
   "cell_type": "code",
   "execution_count": null,
   "id": "c77f50bf",
   "metadata": {},
   "outputs": [
    {
     "name": "stdout",
     "output_type": "stream",
     "text": [
      "{'name': 24, 'location': 'japan'}\n"
     ]
    }
   ],
   "source": [
    "mine_dict = {\"name\":\"Donely\",\"location\":\"japan\",\"name\":24}\n",
    "print(mine_dict)"
   ]
  },
  {
   "cell_type": "code",
   "execution_count": 16,
   "id": "b5da366a",
   "metadata": {},
   "outputs": [
    {
     "name": "stdout",
     "output_type": "stream",
     "text": [
      "japan\n",
      "Donely\n"
     ]
    }
   ],
   "source": [
    "# accesssing dict elements\n",
    "mine_dict = {\"name\":\"Donely\",\"location\":\"japan\",\"number\":24}\n",
    "\n",
    "print(mine_dict[\"location\"])\n",
    "print(mine_dict[\"name\"])"
   ]
  },
  {
   "cell_type": "code",
   "execution_count": 23,
   "id": "4f32468d",
   "metadata": {},
   "outputs": [
    {
     "name": "stdout",
     "output_type": "stream",
     "text": [
      "Donely\n",
      "japan\n",
      "None\n",
      "india\n"
     ]
    }
   ],
   "source": [
    "# accesssing dict elements by get method\n",
    "\n",
    "mine_dict = {\"name\":\"Donely\",\"location\":\"japan\",\"number\":24}\n",
    "\n",
    "print(mine_dict.get('name'))\n",
    "print(mine_dict.get('location'))\n",
    "print(mine_dict.get(\"country\"))\n",
    "print(mine_dict.get(\"country\",\"india\"))\n",
    "\n",
    "\n"
   ]
  },
  {
   "cell_type": "code",
   "execution_count": 24,
   "id": "85d23703",
   "metadata": {},
   "outputs": [
    {
     "data": {
      "text/plain": [
       "{'name': 'Donely', 'location': 'india', 'number': 24}"
      ]
     },
     "execution_count": 24,
     "metadata": {},
     "output_type": "execute_result"
    }
   ],
   "source": [
    "# update the values ofg dict\n",
    "\n",
    "mine_dict['location'] =  \"india\"\n",
    "\n",
    "mine_dict"
   ]
  },
  {
   "cell_type": "code",
   "execution_count": null,
   "id": "446867de",
   "metadata": {},
   "outputs": [
    {
     "data": {
      "text/plain": [
       "{'name': 'Donely', 'location': 'india', 'number': 24, 'pin_code': 41210}"
      ]
     },
     "execution_count": 27,
     "metadata": {},
     "output_type": "execute_result"
    }
   ],
   "source": [
    "# add  the Key and values ofg dict\n",
    "\n",
    "mine_dict[\"pin_code\"] = 41210\n",
    "mine_dict"
   ]
  },
  {
   "cell_type": "code",
   "execution_count": 32,
   "id": "2122652f",
   "metadata": {},
   "outputs": [
    {
     "ename": "KeyError",
     "evalue": "'number'",
     "output_type": "error",
     "traceback": [
      "\u001b[1;31m---------------------------------------------------------------------------\u001b[0m",
      "\u001b[1;31mKeyError\u001b[0m                                  Traceback (most recent call last)",
      "Cell \u001b[1;32mIn[32], line 3\u001b[0m\n\u001b[0;32m      1\u001b[0m \u001b[38;5;66;03m## delete the Key and values of dict\u001b[39;00m\n\u001b[1;32m----> 3\u001b[0m \u001b[38;5;28;01mdel\u001b[39;00m mine_dict[\u001b[38;5;124m'\u001b[39m\u001b[38;5;124mnumber\u001b[39m\u001b[38;5;124m'\u001b[39m]\n\u001b[0;32m      5\u001b[0m \u001b[38;5;28mprint\u001b[39m(mine_dict)\n",
      "\u001b[1;31mKeyError\u001b[0m: 'number'"
     ]
    }
   ],
   "source": [
    "## delete the Key and values of dict\n",
    "\n",
    "del mine_dict['number']\n",
    "\n",
    "print(mine_dict)\n"
   ]
  },
  {
   "cell_type": "code",
   "execution_count": 33,
   "id": "a91e3041",
   "metadata": {},
   "outputs": [
    {
     "name": "stdout",
     "output_type": "stream",
     "text": [
      "{'name': 'Donely', 'location': 'india', 'pin_code': 41210}\n"
     ]
    }
   ],
   "source": [
    "print(mine_dict)\n"
   ]
  },
  {
   "cell_type": "code",
   "execution_count": 41,
   "id": "bf2ba6ca",
   "metadata": {},
   "outputs": [
    {
     "name": "stdout",
     "output_type": "stream",
     "text": [
      "dict_keys(['name', 'location', 'pin_code'])\n",
      "dict_values(['Donely', 'india', 41210])\n",
      "dict_items([('name', 'Donely'), ('location', 'india'), ('pin_code', 41210)])\n"
     ]
    }
   ],
   "source": [
    "# common dict method\n",
    "\n",
    "key = mine_dict.keys() # collect all Keys\n",
    "print(key)\n",
    "\n",
    "value = mine_dict.values() # collect all values\n",
    "print(value)\n",
    "\n",
    "item = mine_dict.items() # collect all key values pair\n",
    "print(item)"
   ]
  },
  {
   "cell_type": "code",
   "execution_count": 46,
   "id": "d5d9d7f8",
   "metadata": {},
   "outputs": [
    {
     "name": "stdout",
     "output_type": "stream",
     "text": [
      "{'name': 'jacky', 'location': 'india', 'pin_code': 41210}\n",
      "{'name': 'jacky', 'location': 'india', 'pin_code': 41210}\n",
      "{'name': 'jacky', 'location': 'india', 'pin_code': 41210}\n",
      "1337751848640\n",
      "1337753145216\n"
     ]
    }
   ],
   "source": [
    "# shallow copy creation\n",
    "\n",
    "mine_dict_copy = mine_dict.copy()\n",
    "print(mine_dict_copy)\n",
    "\n",
    "mine_dict[\"name\"]= \"jacky\"\n",
    "print(mine_dict)\n",
    "print(mine_dict_copy)\n",
    "\n",
    "\n",
    "# how check memory id\n",
    "\n",
    "print(id(mine_dict))\n",
    "print(id(mine_dict_copy))\n"
   ]
  },
  {
   "cell_type": "code",
   "execution_count": 47,
   "id": "431dfc5a",
   "metadata": {},
   "outputs": [
    {
     "name": "stdout",
     "output_type": "stream",
     "text": [
      "{'name': 'jacky', 'location': 'india', 'pin_code': 41210}\n",
      "{'name': 'jacky', 'location': 'Bombay_dock', 'pin_code': 41210}\n"
     ]
    }
   ],
   "source": [
    "mine_dict[\"location\"] = \"Bombay_dock\"\n",
    "print(mine_dict_copy)\n",
    "print(mine_dict)"
   ]
  },
  {
   "cell_type": "code",
   "execution_count": null,
   "id": "7d98707e",
   "metadata": {},
   "outputs": [
    {
     "name": "stdout",
     "output_type": "stream",
     "text": [
      "name\n",
      "location\n",
      "pin_code\n",
      "jacky\n",
      "Bombay_dock\n",
      "41210\n"
     ]
    }
   ],
   "source": [
    "# iterate the dict\n",
    "for keys in mine_dict.keys(): # iterate the keys\n",
    "    print(keys)\n",
    "    \n",
    "    \n",
    "for values in mine_dict.values(): # iterate the values\n",
    "    print(values)\n",
    "    \n",
    "    \n",
    "\n",
    "    \n",
    "    "
   ]
  },
  {
   "cell_type": "code",
   "execution_count": 63,
   "id": "9cee57bb",
   "metadata": {},
   "outputs": [
    {
     "name": "stdout",
     "output_type": "stream",
     "text": [
      " keys: name, values : jacky\n",
      " keys: location, values : Bombay_dock\n",
      " keys: pin_code, values : 41210\n"
     ]
    }
   ],
   "source": [
    "for keys, values in mine_dict.items():\n",
    "    print(f\" keys: {keys}, values : {values}\")"
   ]
  },
  {
   "cell_type": "code",
   "execution_count": 67,
   "id": "190ebabe",
   "metadata": {},
   "outputs": [],
   "source": [
    "# nested disctionaries\n",
    "\n",
    "students = {\n",
    "    \"stduents1\":{\"name\":\"johny\", \"std\" : 7, \"location\":\"beckbay\"},\n",
    "    \"students2\" :{\"name\":\"rocky\", \"std\": 8, \"location\":\"mahim\"},\n",
    "    \"students3\" :{\"name\":\"sanjay\", \"std\":4,\"location\":\"andheri\"},\n",
    "}\n"
   ]
  },
  {
   "cell_type": "code",
   "execution_count": 68,
   "id": "976b0ac1",
   "metadata": {},
   "outputs": [
    {
     "data": {
      "text/plain": [
       "{'stduents1': {'name': 'johny', 'std': 7, 'location': 'beckbay'},\n",
       " 'students2': {'name': 'rocky', 'std': 8, 'location': 'mahim'},\n",
       " 'students3': {'name': 'sanjay', 'std': 4, 'location': 'andheri'}}"
      ]
     },
     "execution_count": 68,
     "metadata": {},
     "output_type": "execute_result"
    }
   ],
   "source": [
    "students"
   ]
  },
  {
   "cell_type": "code",
   "execution_count": 79,
   "id": "993f88ce",
   "metadata": {},
   "outputs": [
    {
     "name": "stdout",
     "output_type": "stream",
     "text": [
      "{'apple': 3, 'banana': 2, 'orange': 1}\n"
     ]
    }
   ],
   "source": [
    "# practice task\n",
    "## use a dictionary to count the frequency of elements in list\n",
    "\n",
    "\n",
    "my_list = ['apple', 'banana', 'apple', 'orange', 'banana', 'apple']\n",
    "\n",
    "freq_dict = {}\n",
    "\n",
    "for item in my_list:\n",
    "    if item in freq_dict:\n",
    "        freq_dict[item] += 1\n",
    "    else:\n",
    "        freq_dict[item] = 1\n",
    "        \n",
    "print(freq_dict)"
   ]
  },
  {
   "cell_type": "code",
   "execution_count": 80,
   "id": "3f8660fe",
   "metadata": {},
   "outputs": [
    {
     "name": "stdout",
     "output_type": "stream",
     "text": [
      "Counter({'apple': 3, 'banana': 2, 'orange': 1})\n"
     ]
    }
   ],
   "source": [
    "## use a dictionary to count the frequency of elements in list\n",
    "\n",
    "from collections import Counter\n",
    "\n",
    "my_list = ['apple', 'banana', 'apple', 'orange', 'banana', 'apple']\n",
    "\n",
    "freq_dict = Counter(my_list)\n",
    "\n",
    "print(freq_dict)"
   ]
  },
  {
   "cell_type": "code",
   "execution_count": 84,
   "id": "4b9085a0",
   "metadata": {},
   "outputs": [
    {
     "name": "stdout",
     "output_type": "stream",
     "text": [
      "{1: 4, 2: 6, 3: 4, 4: 4, 5: 4, 6: 2, 7: 2, 8: 2, 9: 2, 32: 1}\n"
     ]
    }
   ],
   "source": [
    "numbero =  [1,2,1,2,3,2,4,3,4,2,5,6,7,4,2,3,1,5,6,8,9,32,5,7,8,9,2,1,3,4,5]\n",
    "\n",
    "frequo = {}\n",
    "\n",
    "for item in numbero:\n",
    "    if item in frequo:\n",
    "        frequo[item] +=1\n",
    "    else:\n",
    "        frequo[item] = 1\n",
    "    \n",
    "print(frequo)"
   ]
  },
  {
   "cell_type": "code",
   "execution_count": 85,
   "id": "9d3b8c39",
   "metadata": {},
   "outputs": [
    {
     "name": "stdout",
     "output_type": "stream",
     "text": [
      "{'name': 'rocky', 'std': 8, 'location': 'mahim'}\n"
     ]
    }
   ],
   "source": [
    "# merge two dictionaries into one\n",
    "\n",
    "stduents1 = {\"name\":\"johny\", \"std\" : 7, \"location\":\"beckbay\"}\n",
    "students2 =  {\"name\":\"rocky\", \"std\": 8, \"location\":\"mahim\"}\n",
    "\n",
    "stduents1.update(students2)\n",
    "print(stduents1)\n",
    "\n"
   ]
  },
  {
   "cell_type": "code",
   "execution_count": 90,
   "id": "e7104018",
   "metadata": {},
   "outputs": [
    {
     "name": "stdout",
     "output_type": "stream",
     "text": [
      "{'a': 1, 'b': 2, 'c': 3, 'd': 4}\n"
     ]
    }
   ],
   "source": [
    "dict1 = {'a':1,'b':2}\n",
    "dict2 = {'c':3, 'd':4}\n",
    "\n",
    "\n",
    "dict1.update(dict2)\n",
    "\n",
    "print(dict1)"
   ]
  }
 ],
 "metadata": {
  "kernelspec": {
   "display_name": "Python 3",
   "language": "python",
   "name": "python3"
  },
  "language_info": {
   "codemirror_mode": {
    "name": "ipython",
    "version": 3
   },
   "file_extension": ".py",
   "mimetype": "text/x-python",
   "name": "python",
   "nbconvert_exporter": "python",
   "pygments_lexer": "ipython3",
   "version": "3.10.0"
  }
 },
 "nbformat": 4,
 "nbformat_minor": 5
}
