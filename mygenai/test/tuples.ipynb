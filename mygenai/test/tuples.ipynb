{
 "cells": [
  {
   "cell_type": "code",
   "execution_count": 2,
   "id": "d3a73717",
   "metadata": {},
   "outputs": [
    {
     "name": "stdout",
     "output_type": "stream",
     "text": [
      "()\n",
      "<class 'tuple'>\n"
     ]
    }
   ],
   "source": [
    "# Tuples\n",
    "\n",
    "empty_tuple = ()\n",
    "print(empty_tuple)\n",
    "print(type(empty_tuple))"
   ]
  },
  {
   "cell_type": "code",
   "execution_count": 3,
   "id": "9693d551",
   "metadata": {},
   "outputs": [
    {
     "name": "stdout",
     "output_type": "stream",
     "text": [
      "<class 'list'>\n",
      "<class 'type'>\n"
     ]
    }
   ],
   "source": [
    "lst = list()\n",
    "print(type(lst))\n",
    "\n",
    "tpl = tuple()\n",
    "print(type(tuple))"
   ]
  },
  {
   "cell_type": "code",
   "execution_count": 9,
   "id": "086193b0",
   "metadata": {},
   "outputs": [
    {
     "data": {
      "text/plain": [
       "(1, 2, 3, 4, 5, 6, 7, 8, 9)"
      ]
     },
     "execution_count": 9,
     "metadata": {},
     "output_type": "execute_result"
    }
   ],
   "source": [
    "# tuples to list conversion\n",
    "\n",
    "numbers = tuple([1,2,3,4,5,6,7,8,9])\n",
    "numbers"
   ]
  },
  {
   "cell_type": "code",
   "execution_count": 12,
   "id": "5af7aeeb",
   "metadata": {},
   "outputs": [
    {
     "data": {
      "text/plain": [
       "[1, 2, 3, 4, 5, 6, 7, 8, 9, 10]"
      ]
     },
     "execution_count": 12,
     "metadata": {},
     "output_type": "execute_result"
    }
   ],
   "source": [
    "# list to tuples conversion\n",
    "\n",
    "list((1,2,3,4,5,6,7,8,9,10))\n",
    "\n"
   ]
  },
  {
   "cell_type": "code",
   "execution_count": 13,
   "id": "d6d99176",
   "metadata": {},
   "outputs": [
    {
     "name": "stdout",
     "output_type": "stream",
     "text": [
      "[1, 2, 3, 4, 5, 'john', 'rocky']\n"
     ]
    }
   ],
   "source": [
    "#  mix tuples\n",
    "\n",
    "mixed_tupes = [1,2,3,4,5,\"john\",\"rocky\"]\n",
    "\n",
    "print(mixed_tupes)"
   ]
  },
  {
   "cell_type": "code",
   "execution_count": 20,
   "id": "73f6f081",
   "metadata": {},
   "outputs": [
    {
     "name": "stdout",
     "output_type": "stream",
     "text": [
      "3\n",
      "5\n"
     ]
    }
   ],
   "source": [
    "# accessing tuples elements\n",
    "numbers\n",
    "print(numbers[2])\n",
    "print(numbers[4])"
   ]
  },
  {
   "cell_type": "code",
   "execution_count": 1,
   "id": "fc7ec5e3",
   "metadata": {},
   "outputs": [],
   "source": [
    "# Example variables\n",
    "numbers = [1, 2, 3]\n",
    "mixed_tuples = (4, 'a', 5.5)"
   ]
  },
  {
   "cell_type": "code",
   "execution_count": 3,
   "id": "e08840c2",
   "metadata": {},
   "outputs": [
    {
     "name": "stdout",
     "output_type": "stream",
     "text": [
      "(1, 2, 3, 4, 'a', 5.5)\n"
     ]
    }
   ],
   "source": [
    "# CONCATENATION OPERATION \n",
    "Concat_tuples = tuple(numbers) + mixed_tuples\n",
    "print(Concat_tuples )"
   ]
  },
  {
   "cell_type": "code",
   "execution_count": null,
   "id": "8df60423",
   "metadata": {},
   "outputs": [
    {
     "data": {
      "text/plain": [
       "0"
      ]
     },
     "execution_count": 6,
     "metadata": {},
     "output_type": "execute_result"
    }
   ],
   "source": [
    "# tuples method \n",
    "numbers.count(1)\n",
    "\n"
   ]
  },
  {
   "cell_type": "code",
   "execution_count": 7,
   "id": "bf7e1c66",
   "metadata": {},
   "outputs": [
    {
     "data": {
      "text/plain": [
       "0"
      ]
     },
     "execution_count": 7,
     "metadata": {},
     "output_type": "execute_result"
    }
   ],
   "source": [
    "# check tuples index\n",
    "numbers.index(1)"
   ]
  },
  {
   "cell_type": "code",
   "execution_count": 10,
   "id": "200acdcf",
   "metadata": {},
   "outputs": [
    {
     "name": "stdout",
     "output_type": "stream",
     "text": [
      "(1, 'vijay', 3.68)\n"
     ]
    }
   ],
   "source": [
    "# packing and unpacking tuples\n",
    "packed_tuple = 1,\"vijay\",3.68\n",
    "print(packed_tuple)"
   ]
  },
  {
   "cell_type": "code",
   "execution_count": 12,
   "id": "b43884ff",
   "metadata": {},
   "outputs": [
    {
     "name": "stdout",
     "output_type": "stream",
     "text": [
      "1\n",
      "vijay\n",
      "3.68\n"
     ]
    }
   ],
   "source": [
    "#  unpacking tuples\n",
    "\n",
    "a,b,c = packed_tuple\n",
    "print(a)\n",
    "print(b)\n",
    "print(c)\n"
   ]
  },
  {
   "cell_type": "code",
   "execution_count": 15,
   "id": "a16a0f91",
   "metadata": {},
   "outputs": [
    {
     "name": "stdout",
     "output_type": "stream",
     "text": [
      "11\n",
      "[12, 13, 14, 15, 16, 17, 18, 19]\n",
      "20\n"
     ]
    }
   ],
   "source": [
    "#  unpacking tuples by * method\n",
    "\n",
    "numbers21= (11,12,13,14,15,16,17,18,19,20)\n",
    "numbers21\n",
    "first, * middle, last = numbers21\n",
    "print(first)\n",
    "print(middle)\n",
    "print(last)"
   ]
  },
  {
   "cell_type": "code",
   "execution_count": null,
   "id": "aa5ca7f5",
   "metadata": {},
   "outputs": [
    {
     "data": {
      "text/plain": [
       "[[1, 2, 3], [4, 5, 6, 7], [8, 9, 10, 'Andheri']]"
      ]
     },
     "execution_count": 16,
     "metadata": {},
     "output_type": "execute_result"
    }
   ],
   "source": [
    "# nested list\n",
    "lst= [[1,2,3],[4,5,6,7],[8,9,10,\"Andheri\"]]\n",
    "lst\n"
   ]
  },
  {
   "cell_type": "code",
   "execution_count": 22,
   "id": "b5fdde8a",
   "metadata": {},
   "outputs": [
    {
     "name": "stdout",
     "output_type": "stream",
     "text": [
      "[[1, 2, 3]]\n",
      "[[4, 5, 6, 7]]\n",
      "[]\n"
     ]
    }
   ],
   "source": [
    "print(lst[0:1])\n",
    "print(lst[1:2])\n",
    "print(lst[2:1])"
   ]
  },
  {
   "cell_type": "code",
   "execution_count": 27,
   "id": "c3c29624",
   "metadata": {},
   "outputs": [
    {
     "data": {
      "text/plain": [
       "((2, 4, 6), (8, 6, 3), (11, 33, 44, 56))"
      ]
     },
     "execution_count": 27,
     "metadata": {},
     "output_type": "execute_result"
    }
   ],
   "source": [
    "# nested tuples\n",
    "\n",
    "Nested_tuples = ((2,4,6),(8,6,3),(11,33,44,56))\n",
    "Nested_tuples\n",
    "\n"
   ]
  },
  {
   "cell_type": "code",
   "execution_count": 31,
   "id": "ce47f5ee",
   "metadata": {},
   "outputs": [
    {
     "data": {
      "text/plain": [
       "3"
      ]
     },
     "execution_count": 31,
     "metadata": {},
     "output_type": "execute_result"
    }
   ],
   "source": [
    "Nested_tuples[0:1]\n",
    "Nested_tuples[1][2]"
   ]
  },
  {
   "cell_type": "code",
   "execution_count": 33,
   "id": "64084f79",
   "metadata": {},
   "outputs": [
    {
     "name": "stdout",
     "output_type": "stream",
     "text": [
      "2  \n",
      "4  \n",
      "6  \n",
      "\n",
      "8  \n",
      "6  \n",
      "3  \n",
      "\n",
      "11  \n",
      "33  \n",
      "44  \n",
      "56  \n",
      "\n"
     ]
    }
   ],
   "source": [
    "# interating over nested tuples\n",
    "\n",
    "for sub_total in Nested_tuples:\n",
    "    for items in sub_total:\n",
    "        print(items,\" \")\n",
    "    print()"
   ]
  }
 ],
 "metadata": {
  "kernelspec": {
   "display_name": "Python 3",
   "language": "python",
   "name": "python3"
  },
  "language_info": {
   "codemirror_mode": {
    "name": "ipython",
    "version": 3
   },
   "file_extension": ".py",
   "mimetype": "text/x-python",
   "name": "python",
   "nbconvert_exporter": "python",
   "pygments_lexer": "ipython3",
   "version": "3.10.0"
  }
 },
 "nbformat": 4,
 "nbformat_minor": 5
}
