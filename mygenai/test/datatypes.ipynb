{
 "cells": [
  {
   "cell_type": "code",
   "execution_count": 1,
   "id": "5372d9b6",
   "metadata": {},
   "outputs": [
    {
     "name": "stdout",
     "output_type": "stream",
     "text": [
      "<class 'int'>\n"
     ]
    }
   ],
   "source": [
    "age = 53\n",
    "\n",
    "print(type(age))"
   ]
  },
  {
   "cell_type": "code",
   "execution_count": 2,
   "id": "6e6a95f3",
   "metadata": {},
   "outputs": [
    {
     "name": "stdout",
     "output_type": "stream",
     "text": [
      "<class 'bool'>\n"
     ]
    }
   ],
   "source": [
    "age = bool(age)\n",
    "print(type(age))"
   ]
  },
  {
   "cell_type": "code",
   "execution_count": 5,
   "id": "7324cf44",
   "metadata": {},
   "outputs": [
    {
     "name": "stdout",
     "output_type": "stream",
     "text": [
      "<class 'float'>\n"
     ]
    }
   ],
   "source": [
    "distace  = 35.7 \n",
    "print(type(distace))"
   ]
  },
  {
   "cell_type": "code",
   "execution_count": 9,
   "id": "b754b2a2",
   "metadata": {},
   "outputs": [
    {
     "data": {
      "text/plain": [
       "False"
      ]
     },
     "execution_count": 9,
     "metadata": {},
     "output_type": "execute_result"
    }
   ],
   "source": [
    "a = 10\n",
    "b = 20\n",
    "\n",
    "a==b\n"
   ]
  },
  {
   "cell_type": "code",
   "execution_count": null,
   "id": "e1db9620",
   "metadata": {},
   "outputs": [
    {
     "name": "stdout",
     "output_type": "stream",
     "text": [
      "['Bandra', 'Khar', 'Malad', 'Andheri']\n"
     ]
    }
   ],
   "source": [
    "# LISTS – Practice Questions\n",
    "\n",
    "station = [\"Bandra\",\"Khar\",\"Malad\",\"Andheri\"]\n",
    "\n",
    "print(station)\n",
    "\n",
    "\n",
    "\n"
   ]
  },
  {
   "cell_type": "code",
   "execution_count": 14,
   "id": "1aa61c4b",
   "metadata": {},
   "outputs": [
    {
     "name": "stdout",
     "output_type": "stream",
     "text": [
      "['Bandra', 'goregaon', 'Malad', 'Andheri', 'malad', 'malad', 'Boriwali']\n"
     ]
    }
   ],
   "source": [
    "# add the content\n",
    "\n",
    "\n",
    "station.append(\"Boriwali\")\n",
    "\n",
    "print(station)"
   ]
  },
  {
   "cell_type": "code",
   "execution_count": 15,
   "id": "745c910d",
   "metadata": {},
   "outputs": [
    {
     "name": "stdout",
     "output_type": "stream",
     "text": [
      "['Bandra', 'goregaon', 'Malad', 'Andheri', 'malad', 'malad', 'Boriwali']\n"
     ]
    }
   ],
   "source": [
    "# replace the values\n",
    "\n",
    "station[1]= \"goregaon\"\n",
    "\n",
    "print(station)"
   ]
  },
  {
   "cell_type": "code",
   "execution_count": 16,
   "id": "b312fc1d",
   "metadata": {},
   "outputs": [
    {
     "name": "stdout",
     "output_type": "stream",
     "text": [
      "['Bandra', 'goregaon', 'Malad', 'Andheri', 'malad', 'malad']\n"
     ]
    }
   ],
   "source": [
    "# remove specific item\n",
    "\n",
    "station.remove(\"Boriwali\")\n",
    "print(station)\n"
   ]
  },
  {
   "cell_type": "code",
   "execution_count": 17,
   "id": "175104d5",
   "metadata": {},
   "outputs": [
    {
     "name": "stdout",
     "output_type": "stream",
     "text": [
      "['Bandra', 'goregaon', 'Andheri', 'malad', 'malad']\n"
     ]
    }
   ],
   "source": [
    "# remove specific index\n",
    "\n",
    "station.pop(2)\n",
    "print(station)\n"
   ]
  },
  {
   "cell_type": "code",
   "execution_count": 18,
   "id": "3c40076c",
   "metadata": {},
   "outputs": [
    {
     "name": "stdout",
     "output_type": "stream",
     "text": [
      "['Bandra', 'goregaon', 'Andheri', 'malad', 'malad', 'Boriwali']\n"
     ]
    }
   ],
   "source": [
    "station.append(\"Boriwali\")\n",
    "print(station)"
   ]
  },
  {
   "cell_type": "code",
   "execution_count": 26,
   "id": "eec91524",
   "metadata": {},
   "outputs": [
    {
     "name": "stdout",
     "output_type": "stream",
     "text": [
      "6\n"
     ]
    }
   ],
   "source": [
    "print(len(station))"
   ]
  },
  {
   "cell_type": "code",
   "execution_count": 36,
   "id": "b3b2709e",
   "metadata": {},
   "outputs": [
    {
     "name": "stdout",
     "output_type": "stream",
     "text": [
      "['Bandra', 'goregaon', 'Andheri', 'malad', 'malad', 'Boriwali']\n",
      "['Bandra', 'goregaon', 'Andheri']\n",
      "['Bandra', 'goregaon', 'Andheri', 'malad']\n"
     ]
    }
   ],
   "source": [
    "print(station)\n",
    "print(station[:3])\n",
    "print(station[:-2])"
   ]
  },
  {
   "cell_type": "code",
   "execution_count": null,
   "id": "848f6ab1",
   "metadata": {},
   "outputs": [],
   "source": [
    "#####  Sort and Slice"
   ]
  },
  {
   "cell_type": "code",
   "execution_count": 24,
   "id": "39bde0c6",
   "metadata": {},
   "outputs": [
    {
     "name": "stdout",
     "output_type": "stream",
     "text": [
      "[1, 2, 3, 4, 5, 6, 6, 7, 8, 9]\n"
     ]
    }
   ],
   "source": [
    "number = [1,2,3,6,5,4,8,9,7,6]\n",
    "\n",
    "## Accending Sort\n",
    "number.sort(reverse= False)\n",
    "\n",
    "print(number)\n"
   ]
  },
  {
   "cell_type": "code",
   "execution_count": 22,
   "id": "3c13c475",
   "metadata": {},
   "outputs": [
    {
     "name": "stdout",
     "output_type": "stream",
     "text": [
      "[9, 8, 7, 6, 6, 5, 4, 3, 2, 1]\n"
     ]
    }
   ],
   "source": [
    "## desending sorting\n",
    "\n",
    "number.sort(reverse= True)\n",
    "print(number)"
   ]
  },
  {
   "cell_type": "code",
   "execution_count": 29,
   "id": "ccea9454",
   "metadata": {},
   "outputs": [
    {
     "name": "stdout",
     "output_type": "stream",
     "text": [
      "[1, 2, 3, 4]\n"
     ]
    }
   ],
   "source": [
    "print(number[:4])"
   ]
  },
  {
   "cell_type": "code",
   "execution_count": 32,
   "id": "74b25114",
   "metadata": {},
   "outputs": [
    {
     "name": "stdout",
     "output_type": "stream",
     "text": [
      "[1, 2, 3, 4, 5]\n"
     ]
    }
   ],
   "source": [
    "print(number[:-5])"
   ]
  },
  {
   "cell_type": "code",
   "execution_count": 45,
   "id": "372c0cf5",
   "metadata": {},
   "outputs": [
    {
     "name": "stdout",
     "output_type": "stream",
     "text": [
      "(100, 200, 300, 400)\n",
      "(100, 200, 300)\n",
      "400\n",
      "300\n",
      "(100, 200)\n"
     ]
    }
   ],
   "source": [
    "# TUPLES – Practice Questions\n",
    "\n",
    "#Access Tuple Elements\n",
    "\n",
    "dimension = (100,200,300,400)\n",
    "\n",
    "print(dimension)\n",
    "\n",
    "print(dimension[:-1])\n",
    "\n",
    "print(dimension[-1])\n",
    "\n",
    "print(dimension[2])\n",
    "\n",
    "print(dimension[:2])"
   ]
  },
  {
   "cell_type": "code",
   "execution_count": null,
   "id": "e09f933d",
   "metadata": {},
   "outputs": [
    {
     "name": "stdout",
     "output_type": "stream",
     "text": [
      "('blue', 'Red', 'green')\n"
     ]
    },
    {
     "ename": "AttributeError",
     "evalue": "'tuple' object has no attribute 'append'",
     "output_type": "error",
     "traceback": [
      "\u001b[1;31m---------------------------------------------------------------------------\u001b[0m",
      "\u001b[1;31mAttributeError\u001b[0m                            Traceback (most recent call last)",
      "Cell \u001b[1;32mIn[49], line 7\u001b[0m\n\u001b[0;32m      3\u001b[0m colurs \u001b[38;5;241m=\u001b[39m (\u001b[38;5;124m\"\u001b[39m\u001b[38;5;124mblue\u001b[39m\u001b[38;5;124m\"\u001b[39m,\u001b[38;5;124m\"\u001b[39m\u001b[38;5;124mRed\u001b[39m\u001b[38;5;124m\"\u001b[39m, \u001b[38;5;124m\"\u001b[39m\u001b[38;5;124mgreen\u001b[39m\u001b[38;5;124m\"\u001b[39m)\n\u001b[0;32m      5\u001b[0m \u001b[38;5;28mprint\u001b[39m(colurs)\n\u001b[1;32m----> 7\u001b[0m \u001b[43mcolurs\u001b[49m\u001b[38;5;241;43m.\u001b[39;49m\u001b[43mappend\u001b[49m(\u001b[38;5;124m\"\u001b[39m\u001b[38;5;124mamber\u001b[39m\u001b[38;5;124m\"\u001b[39m)\n\u001b[0;32m      8\u001b[0m \u001b[38;5;28mprint\u001b[39m(colurs)\n\u001b[0;32m     10\u001b[0m \u001b[38;5;66;03m# solution\u001b[39;00m\n",
      "\u001b[1;31mAttributeError\u001b[0m: 'tuple' object has no attribute 'append'"
     ]
    }
   ],
   "source": [
    "#Convert Tuple to List and Back\n",
    "\n",
    "colurs = (\"blue\",\"Red\", \"green\")\n",
    "\n",
    "print(colurs)\n",
    "\n",
    "colurs.append(\"amber\")\n",
    "print(colurs)\n",
    "\n"
   ]
  },
  {
   "cell_type": "code",
   "execution_count": 51,
   "id": "c815ea76",
   "metadata": {},
   "outputs": [
    {
     "name": "stdout",
     "output_type": "stream",
     "text": [
      "('blue', 'Red', 'green', 'amber')\n"
     ]
    }
   ],
   "source": [
    "# solution\n",
    "colurs = (\"blue\",\"Red\", \"green\")\n",
    "colurs_list = list(colurs)\n",
    "colurs_list.append(\"amber\")\n",
    "colurs =tuple(colurs_list)\n",
    "print(colurs)"
   ]
  },
  {
   "cell_type": "code",
   "execution_count": 54,
   "id": "0fb07ee8",
   "metadata": {},
   "outputs": [
    {
     "name": "stdout",
     "output_type": "stream",
     "text": [
      "('Monago', 'Banana', 'Fig', 'Apple')\n",
      "('Monago', 'Banana', 'Fig', 'Apple', 'sitaphal')\n"
     ]
    }
   ],
   "source": [
    "Fruits = (\"Monago\",\"Banana\",\"Fig\",\"Apple\")\n",
    "print(Fruits)\n",
    "\n",
    "Fruits_list = list(Fruits)\n",
    "Fruits_list.append(\"sitaphal\")\n",
    "#Fruits.append(\"sitaphal\")\n",
    "Fruits = tuple(Fruits_list)\n",
    "print(Fruits)"
   ]
  },
  {
   "cell_type": "code",
   "execution_count": 56,
   "id": "c4d8771c",
   "metadata": {},
   "outputs": [
    {
     "name": "stdout",
     "output_type": "stream",
     "text": [
      "('BKC', 'Marol', 'pawai')\n",
      "('BKC', 'Marol', 'pawai', 'Gharkul')\n"
     ]
    }
   ],
   "source": [
    "busstop = (\"BKC\",\"Marol\",\"pawai\")\n",
    "print(busstop)\n",
    "\n",
    "busstop_list = list(busstop)\n",
    "busstop_list.append(\"Gharkul\")\n",
    "busstop= tuple(busstop_list)\n",
    "print(busstop)\n",
    "\n"
   ]
  },
  {
   "cell_type": "code",
   "execution_count": 58,
   "id": "ef7aa8d0",
   "metadata": {},
   "outputs": [
    {
     "name": "stdout",
     "output_type": "stream",
     "text": [
      "('jammu', 'mujjam', 'kunjam')\n",
      "('jammu', 'mujjam', 'kunjam', 'copergate')\n"
     ]
    }
   ],
   "source": [
    "place = ('jammu','mujjam','kunjam')\n",
    "print(place)\n",
    "\n",
    "place_list = list(place)\n",
    "place_list.append('copergate')\n",
    "place = tuple(place_list)\n",
    "print(place)"
   ]
  },
  {
   "cell_type": "code",
   "execution_count": 59,
   "id": "21947a4d",
   "metadata": {},
   "outputs": [],
   "source": [
    "# SETS – Practice Questions"
   ]
  },
  {
   "cell_type": "code",
   "execution_count": null,
   "id": "9c60a27e",
   "metadata": {},
   "outputs": [
    {
     "name": "stdout",
     "output_type": "stream",
     "text": [
      "[1, 2, 2, 3, 4, 4, 5, 6, 7, 8, 9, 2, 3, 5, 7, 7, 8]\n",
      "{1, 2, 3, 4, 5, 6, 7, 8, 9}\n"
     ]
    }
   ],
   "source": [
    "data = [1,2,2,3,4,4,5,6,7,8,9,2,3,5,7,7,8]\n",
    "\n",
    "print(data)\n",
    "\n",
    "\n",
    "\n",
    "\n",
    "print(set(data))"
   ]
  },
  {
   "cell_type": "code",
   "execution_count": 64,
   "id": "f2346234",
   "metadata": {},
   "outputs": [
    {
     "name": "stdout",
     "output_type": "stream",
     "text": [
      "{1, 2, 3, 4, 5, 6, 7, 8, 9}\n"
     ]
    }
   ],
   "source": [
    "unique_value = set(data)\n",
    "print(unique_value)"
   ]
  },
  {
   "cell_type": "code",
   "execution_count": null,
   "id": "52f7f993",
   "metadata": {},
   "outputs": [
    {
     "name": "stdout",
     "output_type": "stream",
     "text": [
      "30\n"
     ]
    }
   ],
   "source": [
    "# Set Operations\n",
    "\n",
    "x = {1,2,3,4}\n",
    "y = {4,6,7,9}\n",
    "\n",
    "\n",
    "print(a | b)  # unique\n",
    "\n",
    "print(a & b)  # intersection\n",
    "\n"
   ]
  },
  {
   "cell_type": "code",
   "execution_count": null,
   "id": "7156ce5f",
   "metadata": {},
   "outputs": [],
   "source": [
    "# DICTIONARIES – Practice Questions"
   ]
  },
  {
   "cell_type": "code",
   "execution_count": 73,
   "id": "15b90972",
   "metadata": {},
   "outputs": [
    {
     "name": "stdout",
     "output_type": "stream",
     "text": [
      "{'student_name': 'Monish', 'course': 'Data science', 'city': 'Navi Mumbai'}\n"
     ]
    }
   ],
   "source": [
    "student = {\n",
    "    'student_name' :'Monish',\n",
    "    'course' : 'Data science',\n",
    "    'city' : 'Navi Mumbai'\n",
    "}\n",
    "\n",
    "print(student)"
   ]
  },
  {
   "cell_type": "code",
   "execution_count": 76,
   "id": "dad2ac20",
   "metadata": {},
   "outputs": [
    {
     "name": "stdout",
     "output_type": "stream",
     "text": [
      "{'student_name': 'Monish', 'course': 'Data science', 'city': 'alibagh', 'Student_name': 'Mahadev'}\n"
     ]
    }
   ],
   "source": [
    "student[\"Student_name\"] = \"Mahadev\"\n",
    "\n",
    "student['city'] = 'alibagh'\n",
    "\n",
    "print(student)"
   ]
  },
  {
   "cell_type": "code",
   "execution_count": 2,
   "id": "822c5490",
   "metadata": {},
   "outputs": [
    {
     "name": "stdout",
     "output_type": "stream",
     "text": [
      "('TATA', 'AshokLeyland', 'Benz')\n",
      "('TATA', 'AshokLeyland', 'Benz', 'mitsubishi')\n"
     ]
    }
   ],
   "source": [
    "brand = (\"TATA\",\"AshokLeyland\",\"Benz\")\n",
    "print(brand)\n",
    "\n",
    "brand_list = list(brand)\n",
    "brand_list.append(\"mitsubishi\")\n",
    "brand = tuple(brand_list)\n",
    "\n",
    "print(brand)\n",
    "\n"
   ]
  },
  {
   "cell_type": "code",
   "execution_count": null,
   "id": "42a64b20",
   "metadata": {},
   "outputs": [],
   "source": []
  }
 ],
 "metadata": {
  "kernelspec": {
   "display_name": "Python 3",
   "language": "python",
   "name": "python3"
  },
  "language_info": {
   "codemirror_mode": {
    "name": "ipython",
    "version": 3
   },
   "file_extension": ".py",
   "mimetype": "text/x-python",
   "name": "python",
   "nbconvert_exporter": "python",
   "pygments_lexer": "ipython3",
   "version": "3.10.0"
  }
 },
 "nbformat": 4,
 "nbformat_minor": 5
}
