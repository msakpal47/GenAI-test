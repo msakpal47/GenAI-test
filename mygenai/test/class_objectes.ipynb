{
 "cells": [
  {
   "cell_type": "code",
   "execution_count": 3,
   "id": "9b139d2d",
   "metadata": {},
   "outputs": [
    {
     "name": "stdout",
     "output_type": "stream",
     "text": [
      "<class '__main__.car'>\n"
     ]
    }
   ],
   "source": [
    "# classes and objects]\n",
    "\n",
    "# object orianted programming\n",
    "\n",
    "\n",
    "class car:\n",
    "    pass\n",
    "\n",
    "bmw = car()\n",
    "audi = car()\n",
    "premier = car()\n",
    "\n",
    "\n",
    "print(type(bmw))"
   ]
  },
  {
   "cell_type": "code",
   "execution_count": 5,
   "id": "581a3e49",
   "metadata": {},
   "outputs": [
    {
     "name": "stdout",
     "output_type": "stream",
     "text": [
      "<__main__.car object at 0x00000176796CC370>\n",
      "<__main__.car object at 0x00000176796CCB80>\n"
     ]
    }
   ],
   "source": [
    "print(audi)\n",
    "print(bmw)"
   ]
  },
  {
   "cell_type": "code",
   "execution_count": 6,
   "id": "a376cb2c",
   "metadata": {},
   "outputs": [
    {
     "name": "stdout",
     "output_type": "stream",
     "text": [
      "4\n"
     ]
    }
   ],
   "source": [
    "audi.doar = 4\n",
    "print(audi.doar)"
   ]
  },
  {
   "cell_type": "code",
   "execution_count": 7,
   "id": "ccee6828",
   "metadata": {},
   "outputs": [
    {
     "name": "stdout",
     "output_type": "stream",
     "text": [
      "<__main__.car object at 0x0000017679688700>\n"
     ]
    }
   ],
   "source": [
    "audi = car()\n",
    "audi.doar = 4 \n",
    "print(audi)"
   ]
  },
  {
   "cell_type": "code",
   "execution_count": 8,
   "id": "2e9dc178",
   "metadata": {},
   "outputs": [
    {
     "data": {
      "text/plain": [
       "['In',\n",
       " 'Out',\n",
       " '_',\n",
       " '_2',\n",
       " '__',\n",
       " '___',\n",
       " '__builtin__',\n",
       " '__builtins__',\n",
       " '__doc__',\n",
       " '__loader__',\n",
       " '__name__',\n",
       " '__package__',\n",
       " '__spec__',\n",
       " '__vsc_ipynb_file__',\n",
       " '_dh',\n",
       " '_i',\n",
       " '_i1',\n",
       " '_i2',\n",
       " '_i3',\n",
       " '_i4',\n",
       " '_i5',\n",
       " '_i6',\n",
       " '_i7',\n",
       " '_i8',\n",
       " '_ih',\n",
       " '_ii',\n",
       " '_iii',\n",
       " '_oh',\n",
       " 'audi',\n",
       " 'bmw',\n",
       " 'car',\n",
       " 'exit',\n",
       " 'get_ipython',\n",
       " 'open',\n",
       " 'premier',\n",
       " 'quit']"
      ]
     },
     "execution_count": 8,
     "metadata": {},
     "output_type": "execute_result"
    }
   ],
   "source": [
    "dir()"
   ]
  },
  {
   "cell_type": "code",
   "execution_count": 14,
   "id": "da2e31f9",
   "metadata": {},
   "outputs": [
    {
     "name": "stdout",
     "output_type": "stream",
     "text": [
      "<__main__.Dog object at 0x00000176794E2C80>\n",
      "<class '__main__.Dog'>\n",
      "ami\n",
      "3\n"
     ]
    }
   ],
   "source": [
    "# instance  veriable and methods\n",
    "\n",
    "# create class\n",
    "\n",
    "class Dog():\n",
    "    \n",
    "    def __init__(self,name,age):\n",
    "        self.name = name\n",
    "        self.age = age\n",
    "        \n",
    "\n",
    "Dog2 = Dog(\"ami\",3)\n",
    "print(Dog2)\n",
    "print(Dog)\n",
    "print(Dog2.name)\n",
    "print(Dog2.age)\n"
   ]
  },
  {
   "cell_type": "code",
   "execution_count": 17,
   "id": "69fb8665",
   "metadata": {},
   "outputs": [
    {
     "name": "stdout",
     "output_type": "stream",
     "text": [
      "lucy\n",
      "5\n"
     ]
    }
   ],
   "source": [
    "Dog3 = Dog(\"lucy\",5)\n",
    "print(Dog3.name)\n",
    "print(Dog3.age)"
   ]
  },
  {
   "cell_type": "code",
   "execution_count": 43,
   "id": "706dfe64",
   "metadata": {},
   "outputs": [
    {
     "name": "stdout",
     "output_type": "stream",
     "text": [
      "chucky is meowing very harshly\n",
      "chusy is meowing very harshly\n"
     ]
    }
   ],
   "source": [
    "# Define a class with instance method\n",
    "class Cat:\n",
    "    \n",
    "    def __init__(self,name,age):\n",
    "        self.name = name\n",
    "        self.age = age\n",
    "        \n",
    "    def Meowing(self):\n",
    "        print(f\"{self.name} is meowing very harshly\")\n",
    "        \n",
    "cat4 = Cat(\"chucky\",7)\n",
    "\n",
    "cat4.Meowing()\n",
    "        \n",
    "        \n",
    "        \n",
    "cat8 =Cat(\"chusy\",5)\n",
    "\n",
    "cat8.Meowing()\n",
    "\n"
   ]
  },
  {
   "cell_type": "code",
   "execution_count": 46,
   "id": "229200e1",
   "metadata": {},
   "outputs": [],
   "source": [
    "# modelling bank account\n",
    "\n",
    "# define  a class for bank account\n",
    "\n",
    "class BankAccount:\n",
    "    \n",
    "    def __init__(self,account_holder_name, balance = 0):\n",
    "        self.account_holder_name = account_holder_name\n",
    "        self.balance = balance\n",
    "        \n",
    "    def deposite(self,amount):\n",
    "        self.balance =+ amount\n",
    "        print(f\"{amount} is deposited. Now Your New balance is {self.balance}\")\n",
    "        \n",
    "    def withdraw(self,amount):\n",
    "        if amount > self.balance:\n",
    "            print(f\"Insufficiant Balance\")\n",
    "        else:\n",
    "            self.balance -= amount\n",
    "            print(f\"{amount} is withdraw. now new balance is {self.balance}\")\n",
    "            \n",
    "    def get_balance(self):\n",
    "        return self.balance\n",
    "    \n",
    "    \n",
    "    \n",
    "        "
   ]
  },
  {
   "cell_type": "code",
   "execution_count": 60,
   "id": "99da47fd",
   "metadata": {},
   "outputs": [],
   "source": [
    "class SydicateBank:\n",
    "    \n",
    "    def __init__(self,holder_name,balance = 0):\n",
    "        self.holder_name = holder_name\n",
    "        self.balance = balance\n",
    "        \n",
    "    def deposite (self,amount):\n",
    "        self.balance += amount\n",
    "        print(f\"{amount} deposited. New balance: {self.balance}\")\n",
    "        \n",
    "    def withdraw (self,amount):\n",
    "        if amount > self.balance:\n",
    "            print(\"Insufficient balance.\")\n",
    "        else:\n",
    "            self.balance -= amount\n",
    "            print(f\"{amount} withdrawn. New balance: {self.balance}\")\n",
    "                \n",
    "    def get_balance(self):\n",
    "        return self.balance\n",
    "            \n",
    "                \n",
    "            \n",
    "            \n",
    "\n",
    "        \n",
    "\n",
    "            \n",
    "\n",
    "            \n",
    "\n",
    "        \n",
    "        \n",
    "\n",
    "\n",
    "            \n"
   ]
  },
  {
   "cell_type": "code",
   "execution_count": 67,
   "id": "891cd366",
   "metadata": {},
   "outputs": [],
   "source": [
    "account =SydicateBank('mongal',50)\n",
    "\n"
   ]
  },
  {
   "cell_type": "code",
   "execution_count": 68,
   "id": "9003280d",
   "metadata": {},
   "outputs": [
    {
     "name": "stdout",
     "output_type": "stream",
     "text": [
      "10 withdrawn. New balance: 40\n"
     ]
    }
   ],
   "source": [
    "account.withdraw(10)"
   ]
  },
  {
   "cell_type": "code",
   "execution_count": 69,
   "id": "3351ff77",
   "metadata": {},
   "outputs": [
    {
     "name": "stdout",
     "output_type": "stream",
     "text": [
      "100 deposited. New balance: 140\n"
     ]
    }
   ],
   "source": [
    "account.deposite(100)"
   ]
  },
  {
   "cell_type": "code",
   "execution_count": null,
   "id": "0681c89c",
   "metadata": {},
   "outputs": [
    {
     "data": {
      "text/plain": [
       "140"
      ]
     },
     "execution_count": 71,
     "metadata": {},
     "output_type": "execute_result"
    },
    {
     "ename": "",
     "evalue": "",
     "output_type": "error",
     "traceback": [
      "\u001b[1;31mThe Kernel crashed while executing code in the current cell or a previous cell. \n",
      "\u001b[1;31mPlease review the code in the cell(s) to identify a possible cause of the failure. \n",
      "\u001b[1;31mClick <a href='https://aka.ms/vscodeJupyterKernelCrash'>here</a> for more info. \n",
      "\u001b[1;31mView Jupyter <a href='command:jupyter.viewOutput'>log</a> for further details."
     ]
    }
   ],
   "source": [
    "account.get_balance()"
   ]
  },
  {
   "cell_type": "code",
   "execution_count": null,
   "id": "77259849",
   "metadata": {},
   "outputs": [],
   "source": []
  }
 ],
 "metadata": {
  "kernelspec": {
   "display_name": "Python 3",
   "language": "python",
   "name": "python3"
  },
  "language_info": {
   "codemirror_mode": {
    "name": "ipython",
    "version": 3
   },
   "file_extension": ".py",
   "mimetype": "text/x-python",
   "name": "python",
   "nbconvert_exporter": "python",
   "pygments_lexer": "ipython3",
   "version": "3.10.0"
  }
 },
 "nbformat": 4,
 "nbformat_minor": 5
}
