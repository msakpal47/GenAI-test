{
 "cells": [
  {
   "cell_type": "code",
   "execution_count": 13,
   "id": "773eb19c",
   "metadata": {},
   "outputs": [
    {
     "name": "stdout",
     "output_type": "stream",
     "text": [
      "This is mine To_do_list\n",
      "['take warm water in the morning', ' go for workout', 'after workout take some ghee', 'take bath and wash', ' go to office']\n",
      "['take warm water in the morning', ' go for workout', 'after workout take some ghee', 'take bath and wash', ' go to office']\n",
      "['take warm water in the morning', ' go for workout', 'after workout take some ghee', 'take bath and wash', ' go to office']\n",
      "['take warm water in the morning', ' go for workout', 'after workout take some ghee', 'take bath and wash', ' go to office']\n",
      "['take warm water in the morning', ' go for workout', 'after workout take some ghee', 'take bath and wash', ' go to office']\n",
      "\n",
      "This is mine updated To_do_list\n",
      "['take warm water in the morning', ' go for workout', 'take bath and wash', ' go to office']\n",
      "['take warm water in the morning', ' go for workout', 'take bath and wash', ' go to office']\n",
      "['take warm water in the morning', ' go for workout', 'take bath and wash', ' go to office']\n",
      "['take warm water in the morning', ' go for workout', 'take bath and wash', ' go to office']\n"
     ]
    }
   ],
   "source": [
    "# managed to do list:\n",
    "\n",
    "To_do_list = []\n",
    "\n",
    "\n",
    "To_do_list.append ('take warm water in the morning')\n",
    "To_do_list.append (' go for workout')\n",
    "To_do_list.append ('after workout take some ghee')\n",
    "To_do_list.append ('take bath and wash')\n",
    "To_do_list.append (' go to office')\n",
    "\n",
    "print(\"This is mine To_do_list\")\n",
    "for task in To_do_list:\n",
    "    print(To_do_list)\n",
    "    \n",
    "    \n",
    "To_do_list.remove ('after workout take some ghee')\n",
    "\n",
    "print(\"\\nThis is mine updated To_do_list\")\n",
    "for task in To_do_list:\n",
    "    print(f\"{To_do_list}\")\n",
    "    \n",
    "\n"
   ]
  },
  {
   "cell_type": "code",
   "execution_count": 5,
   "id": "82b261e3",
   "metadata": {},
   "outputs": [
    {
     "name": "stdout",
     "output_type": "stream",
     "text": [
      "This is my To_do_list\n",
      "['take warm water in the morning', ' go for workout', 'after workout take some ghee', 'take bath and wash', ' go to office']\n",
      "['take warm water in the morning', ' go for workout', 'after workout take some ghee', 'take bath and wash', ' go to office']\n",
      "['take warm water in the morning', ' go for workout', 'after workout take some ghee', 'take bath and wash', ' go to office']\n",
      "['take warm water in the morning', ' go for workout', 'after workout take some ghee', 'take bath and wash', ' go to office']\n",
      "['take warm water in the morning', ' go for workout', 'after workout take some ghee', 'take bath and wash', ' go to office']\n",
      "\n",
      "This is my updated To_do_list\n",
      "['take warm water in the morning', ' go for workout', 'take bath and wash', ' go to office']\n",
      "['take warm water in the morning', ' go for workout', 'take bath and wash', ' go to office']\n",
      "['take warm water in the morning', ' go for workout', 'take bath and wash', ' go to office']\n",
      "['take warm water in the morning', ' go for workout', 'take bath and wash', ' go to office']\n"
     ]
    }
   ],
   "source": [
    "To_do_list = []\n",
    "\n",
    "To_do_list.append ('take warm water in the morning')\n",
    "To_do_list.append (' go for workout')\n",
    "To_do_list.append ('after workout take some ghee')\n",
    "To_do_list.append ('take bath and wash')\n",
    "To_do_list.append (' go to office')\n",
    "\n",
    "\n",
    "print('This is my To_do_list')\n",
    "for task in To_do_list:\n",
    "    print(To_do_list)\n",
    "\n",
    "To_do_list.remove ('after workout take some ghee')\n",
    "\n",
    "\n",
    "print('\\nThis is my updated To_do_list')\n",
    "for task in To_do_list:\n",
    "    print(To_do_list)\n",
    "\n",
    "\n",
    "\n",
    "\n"
   ]
  },
  {
   "cell_type": "code",
   "execution_count": 11,
   "id": "cad3b631",
   "metadata": {},
   "outputs": [
    {
     "name": "stdout",
     "output_type": "stream",
     "text": [
      "grades: [1, 2, 3, 4, 5, 7]\n",
      "average_gardes: 3.67\n"
     ]
    }
   ],
   "source": [
    "# organizing student grades\n",
    "# create a list to store and calculate average grade for students\n",
    "# ✅ Basic Version – Using a List of Grades for One Student:\n",
    "\n",
    "grades = [1,2,3,4,5,7]\n",
    "\n",
    "average = sum(grades) / len(grades)\n",
    "\n",
    "print(\"grades:\", grades)\n",
    "print(\"average_gardes:\", round(average,2))\n"
   ]
  },
  {
   "cell_type": "code",
   "execution_count": 12,
   "id": "bc39d8b4",
   "metadata": {},
   "outputs": [
    {
     "name": "stdout",
     "output_type": "stream",
     "text": [
      "monish average grades: 88.0\n",
      "sanju average grades: 66.0\n",
      "rajendra average grades: 80.33\n"
     ]
    }
   ],
   "source": [
    "students = {\n",
    "    \"monish\":[77,88,99],\n",
    "    \"sanju\" :[44,66,88],\n",
    "    \"rajendra\": [66,88,87]\n",
    "}\n",
    "\n",
    "for name, grades in students.items():\n",
    "    avg = sum(grades) /len(grades)\n",
    "    print(f\"{name} average grades: {round(avg,2)}\")"
   ]
  },
  {
   "cell_type": "code",
   "execution_count": 22,
   "id": "6e53589e",
   "metadata": {},
   "outputs": [
    {
     "name": "stdout",
     "output_type": "stream",
     "text": [
      "\n",
      " inventory details\n",
      "- Book\n",
      "- Pencil\n",
      "- milk\n",
      "- banana\n",
      "- tea\n",
      "\n",
      " inventory has been added\n",
      "- Book\n",
      "- Pencil\n",
      "- milk\n",
      "- banana\n",
      "- tea\n",
      "- makkhan\n",
      "\n",
      " inventory updated records\n",
      "- Book\n",
      "- milk\n",
      "- banana\n",
      "- tea\n",
      "- makkhan\n"
     ]
    }
   ],
   "source": [
    "# managing an inventory\n",
    "# use a list inventory items in a store\n",
    "\n",
    "inventory = [\"Book\", \"Pencil\",\"milk\",\"banana\",\"tea\"]\n",
    "\n",
    "print(\"\\n inventory details\")\n",
    "for item in inventory:\n",
    "    print(\"-\",item)\n",
    "    \n",
    "    \n",
    "inventory.append(\"makkhan\")\n",
    "\n",
    "print(\"\\n inventory has been added\")\n",
    "for item in inventory:\n",
    "    print (\"-\", item)\n",
    "\n",
    "\n",
    "inventory.remove(\"Pencil\")\n",
    "\n",
    "print(\"\\n inventory updated records\")\n",
    "for item in inventory:\n",
    "    print(\"-\",item)"
   ]
  },
  {
   "cell_type": "code",
   "execution_count": 23,
   "id": "5139cf82",
   "metadata": {},
   "outputs": [
    {
     "name": "stdout",
     "output_type": "stream",
     "text": [
      "📋 User Feedback:\n",
      "- Great service!\n",
      "- Could improve delivery time.\n",
      "- Very satisfied with the product.\n",
      "- Support team was helpful.\n",
      "- Product quality is excellent.\n",
      "\n",
      "✅ Positive feedback count: 4 out of 5\n"
     ]
    }
   ],
   "source": [
    "# collecting user feedback\n",
    "# use a list to collect and analyzer user feedback\n",
    "\n",
    "# Step 1: Create an empty list to store feedback\n",
    "feedback_list = []\n",
    "\n",
    "# Step 2: Collect feedback (you can loop or manually add for now)\n",
    "feedback_list.append(\"Great service!\")\n",
    "feedback_list.append(\"Could improve delivery time.\")\n",
    "feedback_list.append(\"Very satisfied with the product.\")\n",
    "feedback_list.append(\"Support team was helpful.\")\n",
    "feedback_list.append(\"Product quality is excellent.\")\n",
    "\n",
    "# Step 3: Display all feedback\n",
    "print(\"📋 User Feedback:\")\n",
    "for feedback in feedback_list:\n",
    "    print(\"-\", feedback)\n",
    "\n",
    "# Step 4: Analyze feedback (e.g., count positive words)\n",
    "positive_keywords = [\"great\", \"satisfied\", \"helpful\", \"excellent\", \"good\"]\n",
    "\n",
    "positive_count = 0\n",
    "for feedback in feedback_list:\n",
    "    if any(word.lower() in feedback.lower() for word in positive_keywords):\n",
    "        positive_count += 1\n",
    "\n",
    "print(f\"\\n✅ Positive feedback count: {positive_count} out of {len(feedback_list)}\")\n"
   ]
  }
 ],
 "metadata": {
  "kernelspec": {
   "display_name": "Python 3",
   "language": "python",
   "name": "python3"
  },
  "language_info": {
   "codemirror_mode": {
    "name": "ipython",
    "version": 3
   },
   "file_extension": ".py",
   "mimetype": "text/x-python",
   "name": "python",
   "nbconvert_exporter": "python",
   "pygments_lexer": "ipython3",
   "version": "3.10.0"
  }
 },
 "nbformat": 4,
 "nbformat_minor": 5
}
