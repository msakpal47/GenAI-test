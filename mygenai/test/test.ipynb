{
 "cells": [
  {
   "cell_type": "code",
   "execution_count": null,
   "id": "5841027c",
   "metadata": {},
   "outputs": [
    {
     "name": "stdout",
     "output_type": "stream",
     "text": [
      "monish\n",
      "dicosta\n"
     ]
    }
   ],
   "source": [
    "\n",
    "## Basic Syntax Rules In Python\n",
    "## Case sensitivity- Python is case sensitive\n",
    "\n",
    "name = \"monish\"\n",
    "Name = \"dicosta\"\n",
    "\n",
    "print(name)\n",
    "print(Name)"
   ]
  },
  {
   "cell_type": "code",
   "execution_count": 3,
   "id": "bdf22fbb",
   "metadata": {},
   "outputs": [
    {
     "name": "stdout",
     "output_type": "stream",
     "text": [
      "35\n",
      "35\n"
     ]
    }
   ],
   "source": [
    "Age = 35\n",
    "\n",
    "if Age > 30:\n",
    "    print(Age)\n",
    "    \n",
    "print(Age)"
   ]
  },
  {
   "cell_type": "code",
   "execution_count": 9,
   "id": "316adf27",
   "metadata": {},
   "outputs": [
    {
     "name": "stdout",
     "output_type": "stream",
     "text": [
      "Andheri35\n"
     ]
    }
   ],
   "source": [
    "result = \"Andheri\" + str(35)\n",
    "print(result)"
   ]
  },
  {
   "cell_type": "code",
   "execution_count": 11,
   "id": "d1329df6",
   "metadata": {},
   "outputs": [
    {
     "name": "stdout",
     "output_type": "stream",
     "text": [
      "Andheri 35\n"
     ]
    }
   ],
   "source": [
    "result =f\"Andheri {35}\"\n",
    "print(result)"
   ]
  },
  {
   "cell_type": "code",
   "execution_count": 5,
   "id": "38c9e04f",
   "metadata": {},
   "outputs": [
    {
     "name": "stdout",
     "output_type": "stream",
     "text": [
      "30\n",
      "30\n"
     ]
    }
   ],
   "source": [
    "## Indentation\n",
    "## Python uses indentation to define blocks of code. Consistent use of spaces (commonly 4) or a tab is required.\n",
    "\n",
    "Age = 30\n",
    "\n",
    "if Age > 20:\n",
    "    \n",
    "    print(Age)\n",
    "    \n",
    "print(Age)\n",
    "    "
   ]
  },
  {
   "cell_type": "code",
   "execution_count": 9,
   "id": "35f24ac1",
   "metadata": {},
   "outputs": [
    {
     "name": "stdout",
     "output_type": "stream",
     "text": [
      "30\n"
     ]
    }
   ],
   "source": [
    "Age = 30\n",
    "\n",
    "if Age < 29:\n",
    "    print(Age)\n",
    "    \n",
    "print(Age)"
   ]
  },
  {
   "cell_type": "code",
   "execution_count": 10,
   "id": "baa828f7",
   "metadata": {},
   "outputs": [
    {
     "name": "stdout",
     "output_type": "stream",
     "text": [
      "Hello tison\n"
     ]
    }
   ],
   "source": [
    "## This is a single line comment\n",
    "\n",
    "print(\"Hello tison\")"
   ]
  },
  {
   "cell_type": "code",
   "execution_count": 11,
   "id": "e7c81a10",
   "metadata": {},
   "outputs": [
    {
     "name": "stdout",
     "output_type": "stream",
     "text": [
      "Andheri West, Vijay nagar, near marolpolice quarter, marol maroshi, mumbai\n"
     ]
    }
   ],
   "source": [
    "## Line Continuation\n",
    "##Use a backslash (\\) to continue a statement to the next line\n",
    "\n",
    "\n",
    "Address = \"Andheri West, Vijay nagar, near marol\\\n",
    "police quarter, marol maroshi, mumbai\"\n",
    "\n",
    "print(Address)"
   ]
  },
  {
   "cell_type": "code",
   "execution_count": 13,
   "id": "88eb5026",
   "metadata": {},
   "outputs": [
    {
     "name": "stdout",
     "output_type": "stream",
     "text": [
      "Andheri West, Vijay nagar, near marol/police quarter, marol maroshi, mumbai\n"
     ]
    }
   ],
   "source": [
    "\n",
    "Address = \"Andheri West, Vijay nagar, near marol/police quarter, marol maroshi, mumbai\"\n",
    "print(Address)"
   ]
  },
  {
   "cell_type": "code",
   "execution_count": 16,
   "id": "c48c7f1f",
   "metadata": {},
   "outputs": [
    {
     "name": "stdout",
     "output_type": "stream",
     "text": [
      "15\n"
     ]
    }
   ],
   "source": [
    "A=5\n",
    "B=10\n",
    "c = A+B\n",
    "\n",
    "print(c)"
   ]
  },
  {
   "cell_type": "code",
   "execution_count": 18,
   "id": "670cff91",
   "metadata": {},
   "outputs": [
    {
     "name": "stdout",
     "output_type": "stream",
     "text": [
      "<class 'int'>\n"
     ]
    },
    {
     "data": {
      "text/plain": [
       "str"
      ]
     },
     "execution_count": 18,
     "metadata": {},
     "output_type": "execute_result"
    }
   ],
   "source": [
    "Age = 15\n",
    "\n",
    "name = \"sundar\"\n",
    "\n",
    "\n",
    "print(type(Age))\n",
    "type(name)"
   ]
  },
  {
   "cell_type": "code",
   "execution_count": 19,
   "id": "9fc7a30d",
   "metadata": {},
   "outputs": [
    {
     "name": "stdout",
     "output_type": "stream",
     "text": [
      "Correct Indetation\n",
      "This Will Print\n",
      "Outside the if block\n"
     ]
    }
   ],
   "source": [
    "if True:\n",
    "    print(\"Correct Indetation\")\n",
    "    if False:\n",
    "        print(\"This out print\")\n",
    "    print(\"This Will Print\")\n",
    "print(\"Outside the if block\")"
   ]
  }
 ],
 "metadata": {
  "kernelspec": {
   "display_name": "Python 3",
   "language": "python",
   "name": "python3"
  },
  "language_info": {
   "codemirror_mode": {
    "name": "ipython",
    "version": 3
   },
   "file_extension": ".py",
   "mimetype": "text/x-python",
   "name": "python",
   "nbconvert_exporter": "python",
   "pygments_lexer": "ipython3",
   "version": "3.10.0"
  }
 },
 "nbformat": 4,
 "nbformat_minor": 5
}
