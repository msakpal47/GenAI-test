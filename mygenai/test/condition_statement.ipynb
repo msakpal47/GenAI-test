{
 "cells": [
  {
   "cell_type": "code",
   "execution_count": 1,
   "id": "d7bfcdb7",
   "metadata": {},
   "outputs": [
    {
     "name": "stdout",
     "output_type": "stream",
     "text": [
      "35\n",
      "35\n"
     ]
    }
   ],
   "source": [
    "## if statemnt\n",
    "\n",
    "Age = 35\n",
    "\n",
    "if Age > 25 :\n",
    "    print(Age)\n",
    "print(Age)"
   ]
  },
  {
   "cell_type": "code",
   "execution_count": 11,
   "id": "c2c867c5",
   "metadata": {},
   "outputs": [
    {
     "name": "stdout",
     "output_type": "stream",
     "text": [
      "you are child\n"
     ]
    }
   ],
   "source": [
    "Age = int(input(\"Please enter desire Age\"))\n",
    "\n",
    "if Age > 20 and Age < 30:\n",
    "    print(\"you are younger\")\n",
    "elif Age < 15 and Age < 20:\n",
    "    print(\"you are child\")\n",
    "else:\n",
    "    print(\"you are old\")"
   ]
  },
  {
   "cell_type": "code",
   "execution_count": null,
   "id": "a5298af1",
   "metadata": {},
   "outputs": [],
   "source": [
    "# nested conditional statement\n",
    "\n"
   ]
  }
 ],
 "metadata": {
  "kernelspec": {
   "display_name": "Python 3",
   "language": "python",
   "name": "python3"
  },
  "language_info": {
   "codemirror_mode": {
    "name": "ipython",
    "version": 3
   },
   "file_extension": ".py",
   "mimetype": "text/x-python",
   "name": "python",
   "nbconvert_exporter": "python",
   "pygments_lexer": "ipython3",
   "version": "3.10.0"
  }
 },
 "nbformat": 4,
 "nbformat_minor": 5
}
