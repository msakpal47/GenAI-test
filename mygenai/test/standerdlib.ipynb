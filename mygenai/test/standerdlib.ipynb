{
 "cells": [
  {
   "cell_type": "code",
   "execution_count": 3,
   "id": "8ea0809c",
   "metadata": {},
   "outputs": [
    {
     "name": "stdout",
     "output_type": "stream",
     "text": [
      "array('i', [1, 2, 3, 4, 5, 6, 7, 8])\n"
     ]
    }
   ],
   "source": [
    "# standard library array\n",
    "\n",
    "import array\n",
    "arr = array.array(\"i\",[1,2,3,4,5,6,7,8])\n",
    "print(arr)\n"
   ]
  },
  {
   "cell_type": "code",
   "execution_count": 9,
   "id": "6a0f7e6c",
   "metadata": {},
   "outputs": [
    {
     "name": "stdout",
     "output_type": "stream",
     "text": [
      "4.69041575982343\n",
      "3.141592653589793\n"
     ]
    }
   ],
   "source": [
    "import math\n",
    "print(math.sqrt(22))\n",
    "print(math.pi)"
   ]
  },
  {
   "cell_type": "code",
   "execution_count": 21,
   "id": "140358b9",
   "metadata": {},
   "outputs": [
    {
     "name": "stdout",
     "output_type": "stream",
     "text": [
      "19\n",
      "Apple\n",
      "0.6261508594518856\n"
     ]
    }
   ],
   "source": [
    "# random\n",
    "\n",
    "import random\n",
    "print(random.randint(1,20))\n",
    "print(random.choice([\"Apple\",\"Banana\",\"cherry\",\"Kiwi\"]))\n",
    "print(random.random())"
   ]
  },
  {
   "cell_type": "code",
   "execution_count": 22,
   "id": "992b77c6",
   "metadata": {},
   "outputs": [
    {
     "name": "stdout",
     "output_type": "stream",
     "text": [
      "c:\\Users\\FINRISE\\Desktop\\Django\\mygenai\\test\n"
     ]
    }
   ],
   "source": [
    "# file and directory access\n",
    "\n",
    "import os\n",
    "print(os.getcwd())"
   ]
  },
  {
   "cell_type": "code",
   "execution_count": null,
   "id": "e27ba7aa",
   "metadata": {},
   "outputs": [
    {
     "ename": "FileExistsError",
     "evalue": "[WinError 183] Cannot create a file when that file already exists: 'ganesha'",
     "output_type": "error",
     "traceback": [
      "\u001b[1;31m---------------------------------------------------------------------------\u001b[0m",
      "\u001b[1;31mFileExistsError\u001b[0m                           Traceback (most recent call last)",
      "Cell \u001b[1;32mIn[24], line 2\u001b[0m\n\u001b[0;32m      1\u001b[0m \u001b[38;5;66;03m# create a folder\u001b[39;00m\n\u001b[1;32m----> 2\u001b[0m \u001b[43mos\u001b[49m\u001b[38;5;241;43m.\u001b[39;49m\u001b[43mmakedirs\u001b[49m\u001b[43m(\u001b[49m\u001b[38;5;124;43m\"\u001b[39;49m\u001b[38;5;124;43mganesha\u001b[39;49m\u001b[38;5;124;43m\"\u001b[39;49m\u001b[43m)\u001b[49m\n\u001b[0;32m      3\u001b[0m os\u001b[38;5;241m.\u001b[39mremovedirs(\u001b[38;5;124m\"\u001b[39m\u001b[38;5;124mganesha\u001b[39m\u001b[38;5;124m\"\u001b[39m)\n",
      "File \u001b[1;32mc:\\Users\\FINRISE\\AppData\\Local\\Programs\\Python\\Python310\\lib\\os.py:225\u001b[0m, in \u001b[0;36mmakedirs\u001b[1;34m(name, mode, exist_ok)\u001b[0m\n\u001b[0;32m    223\u001b[0m         \u001b[38;5;28;01mreturn\u001b[39;00m\n\u001b[0;32m    224\u001b[0m \u001b[38;5;28;01mtry\u001b[39;00m:\n\u001b[1;32m--> 225\u001b[0m     \u001b[43mmkdir\u001b[49m\u001b[43m(\u001b[49m\u001b[43mname\u001b[49m\u001b[43m,\u001b[49m\u001b[43m \u001b[49m\u001b[43mmode\u001b[49m\u001b[43m)\u001b[49m\n\u001b[0;32m    226\u001b[0m \u001b[38;5;28;01mexcept\u001b[39;00m \u001b[38;5;167;01mOSError\u001b[39;00m:\n\u001b[0;32m    227\u001b[0m     \u001b[38;5;66;03m# Cannot rely on checking for EEXIST, since the operating system\u001b[39;00m\n\u001b[0;32m    228\u001b[0m     \u001b[38;5;66;03m# could give priority to other errors like EACCES or EROFS\u001b[39;00m\n\u001b[0;32m    229\u001b[0m     \u001b[38;5;28;01mif\u001b[39;00m \u001b[38;5;129;01mnot\u001b[39;00m exist_ok \u001b[38;5;129;01mor\u001b[39;00m \u001b[38;5;129;01mnot\u001b[39;00m path\u001b[38;5;241m.\u001b[39misdir(name):\n",
      "\u001b[1;31mFileExistsError\u001b[0m: [WinError 183] Cannot create a file when that file already exists: 'ganesha'"
     ]
    }
   ],
   "source": [
    "# create a folder\n",
    "os.makedirs(\"ganesha\")\n"
   ]
  },
  {
   "cell_type": "code",
   "execution_count": 25,
   "id": "7ebe8ff8",
   "metadata": {},
   "outputs": [],
   "source": [
    "os.removedirs(\"ganesha\")"
   ]
  },
  {
   "cell_type": "code",
   "execution_count": 28,
   "id": "062e479e",
   "metadata": {},
   "outputs": [
    {
     "name": "stdout",
     "output_type": "stream",
     "text": [
      "In the late 1500s, Siddis of Janjira built the Belapur Killa located atop a small hill near the mouth of the Panvel Creek. In 1682, the fort was captured by the Portuguese, who had managed to annex the regions controlled by the Siddis.\n",
      "\n",
      "In 1733, the Marathas, led by Chimaji Appa, wrested control of the fort from the Portuguese. Appa had made a vow that if it were to be successfully recaptured from the Portuguese, he would place a garland of beli leaves in a nearby Amruthaishwar temple, and after the victory the fort was christened as Belapur Fort. The Marathas ruled the area until 23 June 1817, when it was captured by Captain Charles Gray of the British East India Company. The British partially destroyed the fort under their policy of razing any Maratha stronghold in the area.\n",
      "\n",
      "Navi Mumbaiâ€™s journey began in the early 1970s when the Maharashtra government recognized the need for an alternative urban area to relieve the growing pressure on Mumbai, which was then struggling with issues like overcrowding, inadequate housing, and strained infrastructure.\n",
      "destination.txt r\n"
     ]
    }
   ],
   "source": [
    "# highe level operation\n",
    "\n",
    "import shutil\n",
    "shutil.copy(\"source.txt\",\"destnation.txt\")\n",
    "\n",
    "with open(\"destnation.txt\",\"r\") as file:\n",
    "   content = file.read()\n",
    "   \n",
    "print(content)\n",
    "print(\"destination.txt\",\"r\")"
   ]
  },
  {
   "cell_type": "code",
   "execution_count": 43,
   "id": "978ac24c",
   "metadata": {},
   "outputs": [
    {
     "name": "stdout",
     "output_type": "stream",
     "text": [
      "{\"name\": \"monish\", \"age\": 12, \"location\": \"mumbai\"}\n",
      "<class 'str'>\n",
      "{'name': 'monish', 'age': 12, 'location': 'mumbai'}\n",
      "<class 'dict'>\n",
      "{'name': 'monish', 'age': 12, 'location': 'mumbai'}\n",
      "<class 'dict'>\n"
     ]
    }
   ],
   "source": [
    "# data serializetion\n",
    "\n",
    "import json\n",
    "data = {\"name\":\"monish\",\"age\":12,\"location\":\"mumbai\"}\n",
    "\n",
    "# convert file into string\n",
    "\n",
    "json_str = json.dumps(data)\n",
    "print(json_str)\n",
    "print(type(json_str))\n",
    "\n",
    "with open(\"data.json\",\"w\") as file:\n",
    "    json.dump(data,file)\n",
    "\n",
    "# convert file into back version\n",
    "\n",
    "pasted_json = json.loads(json_str)\n",
    "print(pasted_json)\n",
    "print(type(pasted_json))\n",
    "\n",
    "with open(\"data.json\",\"r\") as file:\n",
    "    loaded_data = json.load(file)\n",
    "    \n",
    "print(loaded_data)\n",
    "print(type(loaded_data))"
   ]
  },
  {
   "cell_type": "code",
   "execution_count": 47,
   "id": "97fd2813",
   "metadata": {},
   "outputs": [
    {
     "name": "stdout",
     "output_type": "stream",
     "text": [
      "['name', 'age', 'location']\n",
      "['monish', '27', 'kharghar']\n"
     ]
    }
   ],
   "source": [
    "# working with csv file\n",
    "\n",
    "import csv\n",
    "\n",
    "with open(\"exmp.csv\", mode=\"w\",newline= \"\") as file:\n",
    "    writer = csv.writer(file)\n",
    "    writer.writerow([\"name\",\"age\",\"location\"])\n",
    "    writer.writerow([\"monish\",27,\"kharghar\"])\n",
    "     \n",
    "      \n",
    "with open(\"exmp.csv\",mode= \"r\") as file:\n",
    "    reader = csv.reader(file)\n",
    "    for row in reader:\n",
    "        print(row)\n"
   ]
  },
  {
   "cell_type": "code",
   "execution_count": 52,
   "id": "b724c674",
   "metadata": {},
   "outputs": [
    {
     "name": "stdout",
     "output_type": "stream",
     "text": [
      "['name', 'age', 'location']\n",
      "['monish', '25']\n"
     ]
    }
   ],
   "source": [
    "import csv\n",
    "\n",
    "with open(\"exmp.csv\",mode=\"w\",newline=\"\") as file:\n",
    "    writer = csv.writer(file)\n",
    "    writer.writerow(['name','age','location'])\n",
    "    writer.writerow(['monish','25'])\n",
    "    \n",
    "with open(\"exmp.csv\",mode=\"r\") as file:\n",
    "    readers = csv.reader(file)\n",
    "    for row in readers:\n",
    "        print(row)"
   ]
  },
  {
   "cell_type": "code",
   "execution_count": 61,
   "id": "92a1fb70",
   "metadata": {},
   "outputs": [
    {
     "name": "stdout",
     "output_type": "stream",
     "text": [
      "2025-06-30 14:43:21.801360\n",
      "2025-06-29 14:43:21.801360\n"
     ]
    }
   ],
   "source": [
    "# date and time\n",
    "\n",
    "from datetime import datetime,timedelta\n",
    "\n",
    "now = datetime.now()\n",
    "print(now)\n",
    "\n",
    "# yesterday date\n",
    "\n",
    "yesterday_date = now -timedelta(days= 1)\n",
    "print(yesterday_date)"
   ]
  },
  {
   "cell_type": "code",
   "execution_count": 65,
   "id": "0acf9dc5",
   "metadata": {},
   "outputs": [
    {
     "name": "stdout",
     "output_type": "stream",
     "text": [
      "1751276208.653433\n",
      "1751276248.656203\n"
     ]
    }
   ],
   "source": [
    "# time\n",
    "\n",
    "import time\n",
    "\n",
    "print(time.time())\n",
    "\n",
    "time.sleep(40)\n",
    "\n",
    "print(time.time())"
   ]
  },
  {
   "cell_type": "code",
   "execution_count": 68,
   "id": "2bbc1b82",
   "metadata": {},
   "outputs": [
    {
     "name": "stdout",
     "output_type": "stream",
     "text": [
      "100\n"
     ]
    }
   ],
   "source": [
    "# reqular expresion\n",
    "\n",
    "import re\n",
    "pattern = r\"\\d+\"\n",
    "text = \"huge fan is 100% followers\"\n",
    "match = re.search(pattern,text)\n",
    "\n",
    "print(match.group())\n"
   ]
  }
 ],
 "metadata": {
  "kernelspec": {
   "display_name": "Python 3",
   "language": "python",
   "name": "python3"
  },
  "language_info": {
   "codemirror_mode": {
    "name": "ipython",
    "version": 3
   },
   "file_extension": ".py",
   "mimetype": "text/x-python",
   "name": "python",
   "nbconvert_exporter": "python",
   "pygments_lexer": "ipython3",
   "version": "3.10.0"
  }
 },
 "nbformat": 4,
 "nbformat_minor": 5
}
