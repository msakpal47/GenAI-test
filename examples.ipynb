{
 "cells": [
  {
   "cell_type": "code",
   "execution_count": null,
   "id": "b039aaa0",
   "metadata": {},
   "outputs": [
    {
     "name": "stdout",
     "output_type": "stream",
     "text": [
      "71.6\n",
      "-9.444444444444445\n"
     ]
    }
   ],
   "source": [
    "#make tempreture converter function in python\n",
    "\n",
    "def convert_tempreture(temp,unit):\n",
    "    if unit == \"C\":\n",
    "        return temp *9/5 + 32\n",
    "    elif unit == \"F\":\n",
    "        return (temp -32) *5/9\n",
    "    else:\n",
    "        return None\n",
    "    \n",
    "print(convert_tempreture(22,\"C\"))\n",
    "print(convert_tempreture(15,\"F\"))"
   ]
  },
  {
   "cell_type": "code",
   "execution_count": 3,
   "id": "21f47fc7",
   "metadata": {},
   "outputs": [
    {
     "name": "stdout",
     "output_type": "stream",
     "text": [
      "False\n",
      "True\n"
     ]
    }
   ],
   "source": [
    "# Password Strength Checker\n",
    "\n",
    "def is_strong_password(password):\n",
    "    \n",
    "    if len(password) < 8:\n",
    "        return False\n",
    "    if not any (char.isdigit() for char in password):\n",
    "        return False\n",
    "    if not any (char.islower() for char in password):\n",
    "        return False\n",
    "    if not any (char.isupper() for char in password):\n",
    "        return False\n",
    "    if not any(char in \"!@#$%^&*()_+\" for char in password):\n",
    "        return False\n",
    "    return True\n",
    "\n",
    "print(is_strong_password(\"Password\"))\n",
    "print(is_strong_password('St1234!@#$'))"
   ]
  },
  {
   "cell_type": "code",
   "execution_count": 12,
   "id": "2769a118",
   "metadata": {},
   "outputs": [
    {
     "name": "stdout",
     "output_type": "stream",
     "text": [
      "28.8\n"
     ]
    }
   ],
   "source": [
    "# calculate the total number of items in a shopping cart\n",
    "\n",
    "def calculate_total_number(cart):\n",
    "    total_cost = 0\n",
    "    for item in cart:\n",
    "        total_cost += item['price']* item['quantity']\n",
    "    return total_cost\n",
    "\n",
    "cost = [\n",
    "    {'name': 'apple', 'price': 0.5, 'quantity': 4},\n",
    "    {'name': 'Mango', 'price': 0.2, 'quantity': 6},\n",
    "    {'name': 'banana', 'price': 0.7, 'quantity': 6},\n",
    "    {'name': 'kiwi', 'price': 0.8, 'quantity': 8},\n",
    "    {'name': 'beet', 'price': 1.5, 'quantity': 10},\n",
    "]  \n",
    "\n",
    "total_cost = calculate_total_number(cost)\n",
    "print(total_cost)"
   ]
  },
  {
   "cell_type": "code",
   "execution_count": 16,
   "id": "123795b3",
   "metadata": {},
   "outputs": [
    {
     "name": "stdout",
     "output_type": "stream",
     "text": [
      "28.8\n"
     ]
    }
   ],
   "source": [
    "# calculate the total number of items in a shopping cart\n",
    "\n",
    "def calculate_total_number(cart):\n",
    "    total_cost = 0\n",
    "    for item in cart:\n",
    "        total_cost += item['price']*item['quantity']\n",
    "    return total_cost\n",
    "\n",
    "cost = [\n",
    "    {'name': 'apple', 'price': 0.5, 'quantity': 4},\n",
    "    {'name': 'Mango', 'price': 0.2, 'quantity': 6},\n",
    "    {'name': 'banana', 'price': 0.7, 'quantity': 6},\n",
    "    {'name': 'kiwi', 'price': 0.8, 'quantity': 8},\n",
    "    {'name': 'beet', 'price': 1.5, 'quantity': 10},\n",
    "    \n",
    "]\n",
    "\n",
    "#total_cost = calculate_total_number(cost)\n",
    "#print(total_cost)\n",
    "\n",
    "\n",
    "total_cost = calculate_total_number(cost)\n",
    "print(total_cost)"
   ]
  },
  {
   "cell_type": "code",
   "execution_count": 30,
   "id": "01b0836d",
   "metadata": {},
   "outputs": [
    {
     "name": "stdout",
     "output_type": "stream",
     "text": [
      "True\n",
      "True\n"
     ]
    }
   ],
   "source": [
    "# check if string is palindrome\n",
    "\n",
    "def is_palindrome(s):\n",
    "    s=s.lower().replace(\"\",\"\")\n",
    "    return s==s[::-1]\n",
    "\n",
    "print(is_palindrome('oyo'))\n",
    "print(is_palindrome('peep'))"
   ]
  },
  {
   "cell_type": "code",
   "execution_count": 5,
   "id": "2bb2f4d3",
   "metadata": {},
   "outputs": [
    {
     "name": "stdout",
     "output_type": "stream",
     "text": [
      "479001600\n"
     ]
    }
   ],
   "source": [
    "# calculate the factorials of a number using recursive\n",
    "\n",
    "def factorial(n):\n",
    "    if n == 0:\n",
    "        return 1\n",
    "    else:\n",
    "        return n * factorial(n-1)\n",
    "\n",
    "print(factorial(12))"
   ]
  },
  {
   "cell_type": "code",
   "execution_count": 12,
   "id": "92e2affd",
   "metadata": {},
   "outputs": [
    {
     "name": "stdout",
     "output_type": "stream",
     "text": [
      "{'mumbai': 3, 'the': 6, 'bustling': 1, 'heart': 1, 'of': 7, 'maharashtra': 1, 'thrives': 1, 'on': 3, 'its': 2, 'lifeline': 2, '—': 2, 'public': 1, 'transport': 3, 'among': 1, 'all': 1, 'modes': 1, 'mumbai’s': 2, 'best': 8, 'buses': 13, 'stand': 1, 'tall': 1, 'as': 1, 'a': 7, 'symbol': 1, 'reliability': 2, 'brihanmumbai': 1, 'electric': 2, 'supply': 1, 'and': 17, '(best)': 1, 'undertaking': 1, 'runs': 2, 'these': 3, 'they': 3, 'serve': 1, 'millions': 1, 'commuters': 1, 'daily': 1, 'connecting': 1, 'distant': 1, 'suburbs': 1, 'to': 9, 'city': 1, 'centers': 1, 'are': 5, 'known': 1, 'for': 4, 'their': 1, 'punctuality': 1, 'affordability': 1, 'from': 3, 'air-conditioned': 1, 'rides': 1, 'ordinary': 1, 'red': 2, 'suit': 1, 'every': 2, 'budget': 1, 'iconic': 1, 'double-decker': 1, 'charm': 1, 'reminiscent': 1, 'london’s': 1, 'streets': 1, 'not': 2, 'only': 1, 'offer': 1, 'convenience': 1, 'but': 1, 'also': 3, 'scenic': 1, 'view': 1, \"mumbai's\": 1, 'skyline': 1, 'reach': 1, 'areas': 3, 'where': 1, 'trains': 1, 'don’t': 1, 'making': 1, 'them': 1, 'indispensable': 1, 'operate': 1, 'fixed': 1, 'routes': 2, 'with': 2, 'clear': 1, 'bus': 3, 'numbers': 1, 'regular': 1, 'schedules': 1, 'introduction': 1, 'chalo': 1, 'app': 1, 'has': 2, 'made': 1, 'real-time': 1, 'tracking': 1, 'easier': 1, 'passengers': 1, 'one': 1, 'can': 1, 'now': 1, 'plan': 1, 'check': 1, 'etas': 1, 'even': 1, 'recharge': 1, 'passes': 1, 'digitally': 1, 'have': 2, 'been': 1, 'added': 1, 'promoting': 1, 'greener': 1, 'e-buses': 1, 'quieter': 1, 'cleaner': 1, 'environmentally': 1, 'friendly': 1, 'fleet': 1, 'includes': 1, 'both': 1, 'long-route': 1, 'feeder': 1, 'last-mile': 1, 'connectivity': 1, 'night': 1, 'cater': 1, 'shift': 1, 'workers': 1, 'late-night': 1, 'travelers': 1, 'senior': 1, 'citizens': 1, 'students': 1, 'women': 1, 'often': 1, 'benefit': 1, 'subsidized': 1, 'fares': 1, 'safety': 1, 'measures': 1, 'cctv-equipped': 1, 'ensure': 1, 'secure': 1, 'journeys': 1, 'dedicated': 1, 'lanes': 1, 'in': 1, 'some': 1, 'improved': 1, 'speed': 1, 'despite': 1, 'traffic': 1, 'maintains': 1, 'consistent': 1, 'service': 1, 'quality': 1, 'connect': 1, 'historic': 1, 'sites': 1, 'corporate': 1, 'hubs': 1, 'residential': 1, 'alike': 1, 'colaba': 1, 'borivali': 1, 'dadar': 1, 'navi': 1, 'you': 1, 'covered': 1, 'drivers': 1, 'conductors': 1, 'trained': 1, 'courteous': 1, 'adding': 1, 'commuter': 1, 'comfort': 1, 'during': 1, 'festivals': 1, 'or': 1, 'emergencies': 1, 'extra': 1, 'deployed': 1, 'meet': 1, 'demand': 1, 'each': 1, 'passing': 1, 'year': 1, 'is': 1, 'becoming': 1, 'more': 1, 'tech-savvy': 1, 'efficient': 1, 'it': 2, 'remains': 1, 'mumbaikars': 1, 'who': 1, 'depend': 1, 'day': 1, 'affordable': 1, 'accessible': 1, 'evolving': 1, 'truly': 1, 'lives': 1, 'up': 1, 'name': 1, 'it’s': 1, 'just': 1, 'service;': 1, \"it's\": 1, 'part': 1, 'identity': 1, 'soul': 1}\n"
     ]
    }
   ],
   "source": [
    "# a function to read a file and count the frequency of each words\n",
    "\n",
    "def count_word_frequency(file_path):\n",
    "    word_count = {}\n",
    "    with open (file_path, \"r\", encoding=\"utf-8\") as file:\n",
    "        for line in file:\n",
    "            words = line.split()\n",
    "            for word in words:\n",
    "                word = word.lower().strip(',.!@#$%*&6'\"\")\n",
    "                if word:\n",
    "                    word_count[word] = word_count.get(word, 0)+1\n",
    "    return word_count\n",
    "\n",
    "filepath = r'C:\\Users\\FINRISE\\Desktop\\Django\\mygenai\\test\\sample.txt'\n",
    "word_frequency = count_word_frequency(file_path)\n",
    "\n",
    "\n",
    "print(word_frequency)"
   ]
  },
  {
   "cell_type": "code",
   "execution_count": 10,
   "id": "881660ee",
   "metadata": {},
   "outputs": [
    {
     "name": "stdout",
     "output_type": "stream",
     "text": [
      "{'mumbai': 3, 'the': 6, 'bustling': 1, 'heart': 1, 'of': 7, 'maharashtra': 1, 'thrives': 1, 'on': 3, 'its': 2, 'lifeline': 2, '—': 2, 'public': 1, 'transport': 3, 'among': 1, 'all': 1, 'modes': 1, 'mumbai’s': 2, 'best': 9, 'buses': 13, 'stand': 1, 'tall': 1, 'as': 1, 'a': 7, 'symbol': 1, 'reliability': 2, 'brihanmumbai': 1, 'electric': 2, 'supply': 1, 'and': 17, 'undertaking': 1, 'runs': 2, 'these': 3, 'they': 3, 'serve': 1, 'millions': 1, 'commuters': 1, 'daily': 1, 'connecting': 1, 'distant': 1, 'suburbs': 1, 'to': 9, 'city': 1, 'centers': 1, 'are': 5, 'known': 1, 'for': 4, 'their': 1, 'punctuality': 1, 'affordability': 1, 'from': 3, 'air-conditioned': 1, 'rides': 1, 'ordinary': 1, 'red': 2, 'suit': 1, 'every': 2, 'budget': 1, 'iconic': 1, 'double-decker': 1, 'charm': 1, 'reminiscent': 1, 'london’s': 1, 'streets': 1, 'not': 2, 'only': 1, 'offer': 1, 'convenience': 1, 'but': 1, 'also': 3, 'scenic': 1, 'view': 1, \"mumbai's\": 1, 'skyline': 1, 'reach': 1, 'areas': 3, 'where': 1, 'trains': 1, 'don’t': 1, 'making': 1, 'them': 1, 'indispensable': 1, 'operate': 1, 'fixed': 1, 'routes': 2, 'with': 2, 'clear': 1, 'bus': 3, 'numbers': 1, 'regular': 1, 'schedules': 1, 'introduction': 1, 'chalo': 1, 'app': 1, 'has': 2, 'made': 1, 'real-time': 1, 'tracking': 1, 'easier': 1, 'passengers': 1, 'one': 1, 'can': 1, 'now': 1, 'plan': 1, 'check': 1, 'etas': 1, 'even': 1, 'recharge': 1, 'passes': 1, 'digitally': 1, 'have': 2, 'been': 1, 'added': 1, 'promoting': 1, 'greener': 1, 'e-buses': 1, 'quieter': 1, 'cleaner': 1, 'environmentally': 1, 'friendly': 1, 'fleet': 1, 'includes': 1, 'both': 1, 'long-route': 1, 'feeder': 1, 'last-mile': 1, 'connectivity': 1, 'night': 1, 'cater': 1, 'shift': 1, 'workers': 1, 'late-night': 1, 'travelers': 1, 'senior': 1, 'citizens': 1, 'students': 1, 'women': 1, 'often': 1, 'benefit': 1, 'subsidized': 1, 'fares': 1, 'safety': 1, 'measures': 1, 'cctv-equipped': 1, 'ensure': 1, 'secure': 1, 'journeys': 1, 'dedicated': 1, 'lanes': 1, 'in': 1, 'some': 1, 'improved': 1, 'speed': 1, 'despite': 1, 'traffic': 1, 'maintains': 1, 'consistent': 1, 'service': 1, 'quality': 1, 'connect': 1, 'historic': 1, 'sites': 1, 'corporate': 1, 'hubs': 1, 'residential': 1, 'alike': 1, 'colaba': 1, 'borivali': 1, 'dadar': 1, 'navi': 1, 'you': 1, 'covered': 1, 'drivers': 1, 'conductors': 1, 'trained': 1, 'courteous': 1, 'adding': 1, 'commuter': 1, 'comfort': 1, 'during': 1, 'festivals': 1, 'or': 1, 'emergencies': 1, 'extra': 1, 'deployed': 1, 'meet': 1, 'demand': 1, 'each': 1, 'passing': 1, 'year': 1, 'is': 1, 'becoming': 1, 'more': 1, 'tech-savvy': 1, 'efficient': 1, 'it': 2, 'remains': 1, 'mumbaikars': 1, 'who': 1, 'depend': 1, 'day': 1, 'affordable': 1, 'accessible': 1, 'evolving': 1, 'truly': 1, 'lives': 1, 'up': 1, 'name': 1, 'it’s': 1, 'just': 1, 'service;': 1, \"it's\": 1, 'part': 1, 'identity': 1, 'soul': 1}\n"
     ]
    }
   ],
   "source": [
    "def count_word_frequency(file_path):\n",
    "    word_count = {}\n",
    "    with open(file_path, \"r\", encoding=\"utf-8\") as file:\n",
    "        for line in file:\n",
    "            words = line.split()\n",
    "            for word in words:\n",
    "                word = word.lower().strip(',.!@#$%*&()\"\\'')  # cleaned up strip characters\n",
    "                if word:  # skip empty strings\n",
    "                    word_count[word] = word_count.get(word, 0) + 1\n",
    "    return word_count\n",
    "\n",
    "# File path\n",
    "file_path = r'C:\\Users\\FINRISE\\Desktop\\Django\\mygenai\\test\\sample.txt'\n",
    "word_frequency = count_word_frequency(file_path)\n",
    "\n",
    "# Print result\n",
    "print(word_frequency)\n"
   ]
  },
  {
   "cell_type": "code",
   "execution_count": 16,
   "id": "efc9e90c",
   "metadata": {},
   "outputs": [
    {
     "name": "stdout",
     "output_type": "stream",
     "text": [
      "False\n",
      "True\n"
     ]
    }
   ],
   "source": [
    "# validate email address\n",
    "\n",
    "import re\n",
    "\n",
    "def is_valid_email(email):\n",
    "    pattern = r'^[\\w\\.-]+@[\\w\\.-]+\\.\\w+$'\n",
    "    return re.match(pattern, email) is not None\n",
    "\n",
    "print(is_valid_email('Monish.Sakpalgamil.com'))\n",
    "print(is_valid_email('Monish.Sakpal23@gamil.com'))"
   ]
  }
 ],
 "metadata": {
  "kernelspec": {
   "display_name": "Python 3",
   "language": "python",
   "name": "python3"
  },
  "language_info": {
   "codemirror_mode": {
    "name": "ipython",
    "version": 3
   },
   "file_extension": ".py",
   "mimetype": "text/x-python",
   "name": "python",
   "nbconvert_exporter": "python",
   "pygments_lexer": "ipython3",
   "version": "3.10.0"
  }
 },
 "nbformat": 4,
 "nbformat_minor": 5
}
