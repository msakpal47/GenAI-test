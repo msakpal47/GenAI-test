{
 "cells": [
  {
   "cell_type": "code",
   "execution_count": null,
   "id": "1a783141",
   "metadata": {},
   "outputs": [],
   "source": [
    "# polymorphism \n",
    "\n",
    "# multiple form \n",
    "# over ridding and interfaces\n",
    "\n",
    "\n"
   ]
  },
  {
   "cell_type": "code",
   "execution_count": 20,
   "id": "e114477b",
   "metadata": {},
   "outputs": [
    {
     "name": "stdout",
     "output_type": "stream",
     "text": [
      "Woof!\n",
      "Meow!\n",
      "Woof!\n",
      "Meow!\n"
     ]
    }
   ],
   "source": [
    "\n",
    "# Base class\n",
    "\n",
    "class Animal:\n",
    "    \n",
    "    def speak(self):\n",
    "        return \"Sound of animal!\"\n",
    "    \n",
    "\n",
    "# derived Object 1\n",
    "\n",
    "class Dog(Animal):\n",
    "    \n",
    "    def speak(self):\n",
    "        return \"Woof!\"\n",
    "\n",
    "\n",
    "# derived Object 2\n",
    "\n",
    "class Cat(Animal):\n",
    "    \n",
    "    def speak(self):\n",
    "        return \"Meow!\"\n",
    "    \n",
    "    \n",
    "# function that demostrates Polymorphisum\n",
    "def Animal_speak(Animal):\n",
    "    print(Animal.speak())\n",
    "\n",
    "# object call\n",
    "\n",
    "Dog = Dog()\n",
    "Cat = Cat()    \n",
    "\n",
    "print(Dog.speak())\n",
    "print(Cat.speak())\n",
    "\n",
    "# this method overide\n",
    "\n",
    "Animal_speak(Dog)\n",
    "Animal_speak(Cat)\n"
   ]
  },
  {
   "cell_type": "code",
   "execution_count": null,
   "id": "20564136",
   "metadata": {},
   "outputs": [
    {
     "name": "stdout",
     "output_type": "stream",
     "text": [
      "Round Area: 78.5\n",
      "Rectangle Area: 24\n"
     ]
    }
   ],
   "source": [
    "### Polymorphisum by function and method\n",
    "#✅ Python Code – Polymorphism using Function & Method\n",
    "\n",
    "\n",
    "# Base class\n",
    "\n",
    "class shape:\n",
    "    def area (self):\n",
    "        return \"Area is not define for generic shape\"\n",
    "    \n",
    "# derived class 1\n",
    "\n",
    "class Round(shape):\n",
    "    def __init__(self,Radius):\n",
    "        self.Radius = Radius\n",
    "        \n",
    "    # over ride method    \n",
    "    def area(self):\n",
    "        return 3.14 *self.Radius * self.Radius\n",
    "    \n",
    "# derived class 2\n",
    "class Rectangle(shape):\n",
    "    def __init__(self,length,width):\n",
    "        self.length = length\n",
    "        self.width = width\n",
    "        \n",
    "    # over rid methos\n",
    "    def area(self):\n",
    "        return self.length * self.width\n",
    "    \n",
    "    \n",
    "# polymorphisum function\n",
    "\n",
    "def print_area(shape):\n",
    "    print(f\"{shape.__class__.__name__} Area:\",shape.area())\n",
    "          \n",
    "          \n",
    "# object creation and call\n",
    "\n",
    "circle = Round(5)\n",
    "rect = Rectangle(4,6)\n",
    "\n",
    "print_area(circle)\n",
    "print_area(rect)\n",
    "        "
   ]
  },
  {
   "cell_type": "code",
   "execution_count": 34,
   "id": "87d88ae8",
   "metadata": {},
   "outputs": [
    {
     "name": "stdout",
     "output_type": "stream",
     "text": [
      "Round Area: 78.5\n",
      "Rectangle Area: 24\n"
     ]
    }
   ],
   "source": [
    "# Base class\n",
    "class Shape:\n",
    "    def Area(self):\n",
    "        return \"Area is not defined for generic shape\"\n",
    "\n",
    "# Derived class 1\n",
    "class Round(Shape):\n",
    "    def __init__(self, Radius):\n",
    "        self.Radius = Radius\n",
    "\n",
    "    # Overridden method\n",
    "    def Area(self):\n",
    "        return 3.14 * self.Radius * self.Radius\n",
    "\n",
    "# Derived class 2\n",
    "class Rectangle(Shape):\n",
    "    def __init__(self, length, width):\n",
    "        self.length = length\n",
    "        self.width = width\n",
    "\n",
    "    # Overridden method\n",
    "    def Area(self):\n",
    "        return self.length * self.width\n",
    "\n",
    "# Polymorphism function (defined globally, not inside any class)\n",
    "def print_area(shape):\n",
    "    print(f\"{shape.__class__.__name__} Area:\", shape.Area())\n",
    "\n",
    "# Object creation\n",
    "circle = Round(5)\n",
    "rect = Rectangle(4, 6)\n",
    "\n",
    "# Object calls\n",
    "print_area(circle) \n",
    "print_area(rect)    \n",
    "\n"
   ]
  },
  {
   "cell_type": "code",
   "execution_count": null,
   "id": "e9d4d95d",
   "metadata": {},
   "outputs": [
    {
     "name": "stdout",
     "output_type": "stream",
     "text": [
      "Car engine has been start\n",
      "MotorByce engine has been start\n"
     ]
    }
   ],
   "source": [
    "# polymorphisum with abstract base class\n",
    "\n",
    "from abc import ABC,abstractmethod\n",
    "\n",
    "# Define an Abstract class\n",
    "\n",
    "class vehicle (ABC):\n",
    "    @abstractmethod\n",
    "    def start_engine(self):\n",
    "        pass\n",
    "    \n",
    "# derived class 1\n",
    "class Car(vehicle):\n",
    "    def start_engine(self):\n",
    "        return \"Car engine has been start\"\n",
    "    \n",
    "# derived Class 2\n",
    "\n",
    "class MotorByce(vehicle):\n",
    "    def start_engine(self):\n",
    "        return \"MotorByce engine has been start\"\n",
    "    \n",
    "# Polymorphisum function\n",
    "\n",
    "def start_vehicle(vehicle):\n",
    "    print(vehicle.start_engine())\n",
    "    \n",
    "# create object of car and motorbyce\n",
    "\n",
    "MotorByce = MotorByce()\n",
    "Car = Car()\n",
    "\n",
    "# Use polymorphism\n",
    "\n",
    "start_vehicle(Car)\n",
    "start_vehicle(MotorByce)\n",
    "\n",
    "\n",
    "    "
   ]
  },
  {
   "cell_type": "code",
   "execution_count": 14,
   "id": "8bb0831f",
   "metadata": {},
   "outputs": [
    {
     "name": "stdout",
     "output_type": "stream",
     "text": [
      "The bus engine has a grating sound and seems to be making a loud noise and start\n",
      "The car engine starts effortlessly and makes a smooth, quiet sound.\n"
     ]
    }
   ],
   "source": [
    "# polymorphisum with abstract base class\n",
    "\n",
    "from abc import ABC, abstractmethod\n",
    "\n",
    "# Define an Abstract class\n",
    "class Vehicle:\n",
    "    @abstractmethod\n",
    "    def start_engine(self):\n",
    "        pass\n",
    "\n",
    "# derived class 1\n",
    "\n",
    "class Bus(vehicle):\n",
    "    \n",
    "    def start_engine(self):\n",
    "        return \"The bus engine has a grating sound and seems to be making a loud noise and start\"\n",
    "\n",
    "# derived Class 2\n",
    "class Car(vehicle):\n",
    "    def start_engine(self):\n",
    "        return \"The car engine starts effortlessly and makes a smooth, quiet sound.\"\n",
    "\n",
    "# Polymorphisum function\n",
    "\n",
    "def start_vehicle(vehicle):\n",
    "    return (vehicle.start_engine())\n",
    "\n",
    "\n",
    "# create object of car and motorbyce\n",
    "\n",
    "Bus = Bus()\n",
    "Car = Car()\n",
    "\n",
    "# Use polymorphism\n",
    "\n",
    "print(start_vehicle(Bus))\n",
    "print(start_vehicle(Car))\n",
    "\n",
    "\n"
   ]
  },
  {
   "cell_type": "code",
   "execution_count": 25,
   "id": "ba66e79b",
   "metadata": {},
   "outputs": [
    {
     "name": "stdout",
     "output_type": "stream",
     "text": [
      "Although the diesel engine needs frequent maintenance and has a slow pickup, it delivers good overall speed.\n",
      "Electric trains are energy-efficient, have rapid pickup, and provide a quieter, low-maintenance operation compared to diesel engines.\n"
     ]
    }
   ],
   "source": [
    "# polymorphisum with abstract base class\n",
    "\n",
    "from abc import ABC, abstractmethod\n",
    "\n",
    "# Define an Abstract class\n",
    "\n",
    "class Trains(ABC):\n",
    "    @abstractmethod\n",
    "    def Working_performace(self):\n",
    "        pass\n",
    "\n",
    "# derived class 1\n",
    "class Diseal_Train(Trains):\n",
    "    def Working_performace(self):\n",
    "        return  \"Although the diesel engine needs frequent maintenance and has a slow pickup, it delivers good overall speed.\"\n",
    "\n",
    "\n",
    "# derived Class 2\n",
    "class Electrice_Train(Trains):\n",
    "    def Working_performace(self):\n",
    "        return \"Electric trains are energy-efficient, have rapid pickup, and provide a quieter, low-maintenance operation compared to diesel engines.\"\n",
    "\n",
    "# Polymorphisum function\n",
    "def Trains_Performance(Trains):\n",
    "    return(Trains.Working_performace())\n",
    "\n",
    "# create object of car and motorbyce\n",
    "Diseal_Train = Diseal_Train()\n",
    "\n",
    "Electrice_Train = Electrice_Train()\n",
    "\n",
    "\n",
    "# Use polymorphism\n",
    "\n",
    "print(Trains_Performance(Diseal_Train))\n",
    "print(Trains_Performance(Electrice_Train))\n"
   ]
  }
 ],
 "metadata": {
  "kernelspec": {
   "display_name": "Python 3",
   "language": "python",
   "name": "python3"
  },
  "language_info": {
   "codemirror_mode": {
    "name": "ipython",
    "version": 3
   },
   "file_extension": ".py",
   "mimetype": "text/x-python",
   "name": "python",
   "nbconvert_exporter": "python",
   "pygments_lexer": "ipython3",
   "version": "3.10.0"
  }
 },
 "nbformat": 4,
 "nbformat_minor": 5
}
