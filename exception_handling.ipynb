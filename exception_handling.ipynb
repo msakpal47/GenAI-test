{
 "cells": [
  {
   "cell_type": "code",
   "execution_count": 2,
   "id": "d6575793",
   "metadata": {},
   "outputs": [
    {
     "name": "stdout",
     "output_type": "stream",
     "text": [
      "Variable is not Assign \n"
     ]
    }
   ],
   "source": [
    "# exception handling\n",
    "\n",
    "try:\n",
    "    a=b\n",
    "except:\n",
    "    print(\"Variable is not Assign \")\n"
   ]
  },
  {
   "cell_type": "code",
   "execution_count": 7,
   "id": "b0591aad",
   "metadata": {},
   "outputs": [
    {
     "name": "stdout",
     "output_type": "stream",
     "text": [
      "variable is not assign\n",
      "Error name 'b' is not defined\n"
     ]
    }
   ],
   "source": [
    "try:\n",
    "    a = b\n",
    "except Exception as e :\n",
    "    print('variable is not assign')\n",
    "    print(\"Error\",e)"
   ]
  },
  {
   "cell_type": "code",
   "execution_count": 5,
   "id": "7c704394",
   "metadata": {},
   "outputs": [
    {
     "name": "stdout",
     "output_type": "stream",
     "text": [
      "Variable is not assigned.\n",
      "Error: name 'b' is not defined\n"
     ]
    }
   ],
   "source": [
    "try:\n",
    "    a = b  # 'b' is not defined\n",
    "except Exception as e:\n",
    "    print(\"Variable is not assigned.\")\n",
    "    print(\"Error:\", e)\n"
   ]
  },
  {
   "cell_type": "code",
   "execution_count": 8,
   "id": "b4462d4c",
   "metadata": {},
   "outputs": [
    {
     "name": "stdout",
     "output_type": "stream",
     "text": [
      "varibale not define\n",
      "Error: name 'y' is not defined\n"
     ]
    }
   ],
   "source": [
    "try:\n",
    "    x=y\n",
    "except Exception as z:\n",
    "    print(\"varibale not define\")\n",
    "    print(\"Error:\",z)"
   ]
  },
  {
   "cell_type": "code",
   "execution_count": 9,
   "id": "d7e9a79e",
   "metadata": {},
   "outputs": [
    {
     "name": "stdout",
     "output_type": "stream",
     "text": [
      "An exception occurred:\n",
      "--------------------------------------------------\n",
      "\n"
     ]
    },
    {
     "name": "stderr",
     "output_type": "stream",
     "text": [
      "Traceback (most recent call last):\n",
      "  File \"C:\\Users\\FINRISE\\AppData\\Local\\Temp\\ipykernel_25060\\1001913377.py\", line 8, in <module>\n",
      "    x = y  # 'y' is not defined\n",
      "NameError: name 'y' is not defined\n"
     ]
    },
    {
     "name": "stdout",
     "output_type": "stream",
     "text": [
      "--------------------------------------------------\n"
     ]
    }
   ],
   "source": [
    "import traceback\n",
    "from colorama import init, Fore, Style\n",
    "\n",
    "# Initialize colorama\n",
    "init(autoreset=True)\n",
    "\n",
    "try:\n",
    "    x = y  # 'y' is not defined\n",
    "except Exception as z:\n",
    "    print(Fore.RED + Style.BRIGHT + \"An exception occurred:\")\n",
    "    print(Fore.YELLOW + Style.DIM + \"-\" * 50)\n",
    "    print(Fore.RED)\n",
    "    traceback.print_exc()\n",
    "    print(Fore.YELLOW + Style.DIM + \"-\" * 50)\n"
   ]
  },
  {
   "cell_type": "code",
   "execution_count": 24,
   "id": "d25ff961",
   "metadata": {},
   "outputs": [
    {
     "name": "stdout",
     "output_type": "stream",
     "text": [
      "result: 5.0\n"
     ]
    }
   ],
   "source": [
    "try:\n",
    "    num = int(input(\"Please enter desire value\"))\n",
    "    result = 10 / num\n",
    "except ValueError :\n",
    "    print(\"please enter desire value\")\n",
    "    result = None\n",
    "except ZeroDivisionError:\n",
    "    print(\"please enter a denominator greater then 0\")\n",
    "except Exception as ex:\n",
    "    print(ex)\n",
    "    \n",
    "if result is not None:\n",
    "    print(\"result:\",result)"
   ]
  },
  {
   "cell_type": "code",
   "execution_count": 27,
   "id": "c6c0879b",
   "metadata": {},
   "outputs": [
    {
     "name": "stdout",
     "output_type": "stream",
     "text": [
      "The Result '5.0'\n"
     ]
    }
   ],
   "source": [
    "# try except and else block\n",
    "\n",
    "try:\n",
    "    num = int(input(\"Please enter desire value\"))\n",
    "    result = 10 / num\n",
    "except ValueError :\n",
    "    print(\"please enter desire value\")\n",
    "    result = None\n",
    "except ZeroDivisionError:\n",
    "    print(\"please enter a denominator greater then 0\")\n",
    "except Exception as ex:\n",
    "    print(ex)\n",
    "    \n",
    "else:\n",
    "    print(f\"The Result '{result}'\")"
   ]
  },
  {
   "cell_type": "code",
   "execution_count": 30,
   "id": "af683294",
   "metadata": {},
   "outputs": [
    {
     "name": "stdout",
     "output_type": "stream",
     "text": [
      "The Result is'5.0'\n",
      "Process has been complete\n"
     ]
    }
   ],
   "source": [
    "# try except else finally block\n",
    "\n",
    "try:\n",
    "    num = int(input(\"Please enter desire value\"))\n",
    "    result = 10 / num\n",
    "except ValueError :\n",
    "    print(\"please enter desire value\")\n",
    "    result = None\n",
    "except ZeroDivisionError:\n",
    "    print(\"please enter a denominator greater then 0\")\n",
    "except Exception as ex:\n",
    "    print(ex)\n",
    "    \n",
    "else:\n",
    "    print(f\"The Result is'{result}'\")\n",
    "    \n",
    "finally:\n",
    "    print(\"Process has been complete\")"
   ]
  },
  {
   "cell_type": "code",
   "execution_count": 40,
   "id": "d7f0839f",
   "metadata": {},
   "outputs": [
    {
     "name": "stdout",
     "output_type": "stream",
     "text": [
      "file does not exist\n"
     ]
    }
   ],
   "source": [
    "# file handling and exception handling\n",
    "try:\n",
    "    file = open(\"example.txt\",\"r\")\n",
    "    content = file.read()\n",
    "    print(content) \n",
    "\n",
    "except FileNotFoundError:\n",
    "    print(\"file does not exist\")\n",
    "    \n",
    "finally:\n",
    "    if \"file\" in locals() and not file.closed:\n",
    "        file.close()\n",
    "        print(\"file is closed\")\n",
    "\n"
   ]
  },
  {
   "cell_type": "code",
   "execution_count": null,
   "id": "ca71b5ab",
   "metadata": {},
   "outputs": [
    {
     "name": "stdout",
     "output_type": "stream",
     "text": [
      "\n",
      "Mumbai, the bustling heart of Maharashtra, thrives on its lifeline â€” public transport.\n",
      "Among all transport modes, Mumbaiâ€™s BEST buses stand tall as a symbol of reliability.\n",
      "The Brihanmumbai Electric Supply and Transport (BEST) undertaking runs these buses.\n",
      "They serve millions of commuters daily, connecting distant suburbs to city centers.\n",
      "\n",
      "BEST buses are known for their punctuality and affordability.\n",
      "From air-conditioned rides to ordinary red buses, they suit every budget.\n",
      "The iconic red double-decker buses are a charm, reminiscent of Londonâ€™s streets.\n",
      "These buses not only offer convenience but also a scenic view of Mumbai's skyline.\n",
      "\n",
      "BEST buses reach areas where trains donâ€™t, making them indispensable.\n",
      "They operate on fixed routes with clear bus numbers and regular schedules.\n",
      "The introduction of Chalo App has made real-time tracking easier for passengers.\n",
      "One can now plan routes, check ETAs, and even recharge passes digitally.\n",
      "\n",
      "Electric buses have also been added, promoting a greener Mumbai.\n",
      "These e-buses are quieter, cleaner, and environmentally friendly.\n",
      "The fleet includes both long-route and feeder buses for last-mile connectivity.\n",
      "BEST also runs night buses to cater to shift workers and late-night travelers.\n",
      "\n",
      "Senior citizens, students, and women often benefit from subsidized fares.\n",
      "Safety measures and CCTV-equipped buses ensure secure journeys.\n",
      "Dedicated bus lanes in some areas have improved speed and reliability.\n",
      "Despite traffic, BEST maintains consistent service quality.\n",
      "\n",
      "The buses connect historic sites, corporate hubs, and residential areas alike.\n",
      "From Colaba to Borivali, and Dadar to Navi Mumbai, BEST has you covered.\n",
      "Drivers and conductors are trained and courteous, adding to commuter comfort.\n",
      "During festivals or emergencies, extra buses are deployed to meet demand.\n",
      "\n",
      "With each passing year, BEST is becoming more tech-savvy and efficient.\n",
      "It remains a lifeline for Mumbaikars who depend on it every day.\n",
      "Affordable, accessible, and evolving â€” BEST truly lives up to its name.\n",
      "Itâ€™s not just a bus service; it's a part of Mumbaiâ€™s identity and soul.\n",
      "file is closed\n"
     ]
    },
    {
     "ename": "",
     "evalue": "",
     "output_type": "error",
     "traceback": [
      "\u001b[1;31mThe Kernel crashed while executing code in the current cell or a previous cell. \n",
      "\u001b[1;31mPlease review the code in the cell(s) to identify a possible cause of the failure. \n",
      "\u001b[1;31mClick <a href='https://aka.ms/vscodeJupyterKernelCrash'>here</a> for more info. \n",
      "\u001b[1;31mView Jupyter <a href='command:jupyter.viewOutput'>log</a> for further details."
     ]
    }
   ],
   "source": [
    "try:\n",
    "    file = open(\"sample.txt\",\"r\")\n",
    "    cont = file.read()\n",
    "    print(cont)\n",
    "    \n",
    "except FileNotFoundError:\n",
    "    print(\"file is not exist\")\n",
    "\n",
    "finally:\n",
    "    if \"file\" in locals() and not file.closed:\n",
    "        file.close()\n",
    "        print(\"file is closed\")\n"
   ]
  }
 ],
 "metadata": {
  "kernelspec": {
   "display_name": "Python 3",
   "language": "python",
   "name": "python3"
  },
  "language_info": {
   "codemirror_mode": {
    "name": "ipython",
    "version": 3
   },
   "file_extension": ".py",
   "mimetype": "text/x-python",
   "name": "python",
   "nbconvert_exporter": "python",
   "pygments_lexer": "ipython3",
   "version": "3.10.0"
  }
 },
 "nbformat": 4,
 "nbformat_minor": 5
}
