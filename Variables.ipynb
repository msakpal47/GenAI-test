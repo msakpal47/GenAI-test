{
 "cells": [
  {
   "cell_type": "code",
   "execution_count": 1,
   "id": "6c9f64e8",
   "metadata": {},
   "outputs": [
    {
     "name": "stdout",
     "output_type": "stream",
     "text": [
      "Address Kharghar-gao\n",
      "name mannu fishwala\n",
      "occupation Fisher-men\n"
     ]
    }
   ],
   "source": [
    "Address = \"Kharghar-gao\"\n",
    "name = \"mannu fishwala\"\n",
    "occupation = \"Fisher-men\"\n",
    "\n",
    "print(\"Address\", Address)\n",
    "print(\"name\", name)\n",
    "print(\"occupation\", occupation)"
   ]
  },
  {
   "cell_type": "code",
   "execution_count": 11,
   "id": "a53bb89e",
   "metadata": {},
   "outputs": [
    {
     "name": "stdout",
     "output_type": "stream",
     "text": [
      "<class 'str'>\n",
      "<class 'str'>\n"
     ]
    }
   ],
   "source": [
    "name = \"Mannu\"\n",
    "Name = \"fishwala\"\n",
    "\n",
    "print(type(name))\n",
    "print(type(Name))\n",
    "\n"
   ]
  },
  {
   "cell_type": "code",
   "execution_count": 16,
   "id": "65ad2748",
   "metadata": {},
   "outputs": [
    {
     "name": "stdout",
     "output_type": "stream",
     "text": [
      "True\n",
      "<class 'bool'>\n"
     ]
    }
   ],
   "source": [
    "name = \"Mannu\"\n",
    "\n",
    "name = bool(name)\n",
    "print(name)\n",
    "print(type(name))\n"
   ]
  },
  {
   "cell_type": "code",
   "execution_count": 18,
   "id": "0bb4cba7",
   "metadata": {},
   "outputs": [
    {
     "name": "stdout",
     "output_type": "stream",
     "text": [
      "<class 'str'>\n",
      "<class 'int'>\n"
     ]
    }
   ],
   "source": [
    "pincode = '410210'\n",
    "\n",
    "print(type(pincode))\n",
    "\n",
    "pincode = int(pincode)\n",
    "print(type(pincode))"
   ]
  },
  {
   "cell_type": "code",
   "execution_count": 21,
   "id": "2a35c6bb",
   "metadata": {},
   "outputs": [
    {
     "name": "stdout",
     "output_type": "stream",
     "text": [
      "<class 'int'>\n",
      "<class 'float'>\n"
     ]
    }
   ],
   "source": [
    "height = 157\n",
    "\n",
    "print(type(height))\n",
    "\n",
    "height = float(height)\n",
    "\n",
    "print(type(height))"
   ]
  },
  {
   "cell_type": "code",
   "execution_count": 24,
   "id": "872e0cf9",
   "metadata": {},
   "outputs": [
    {
     "name": "stdout",
     "output_type": "stream",
     "text": [
      "25 <class 'int'>\n"
     ]
    }
   ],
   "source": [
    "Age = int(input(\"Please enter desire Age\"))\n",
    "print(age,type(age))"
   ]
  },
  {
   "cell_type": "code",
   "execution_count": 25,
   "id": "6abbcbbc",
   "metadata": {},
   "outputs": [
    {
     "name": "stdout",
     "output_type": "stream",
     "text": [
      "Sum 21\n",
      "diffrence -7\n",
      "product 98\n",
      "quotent 0.5\n"
     ]
    }
   ],
   "source": [
    "Num1 = int(input(\"Please enter desire number\"))\n",
    "Num2 = int(input(\"Please enter desire number\"))\n",
    "\n",
    "sum = Num1 + Num2\n",
    "diffrence = Num1 - Num2\n",
    "product = Num1 * Num2\n",
    "quotent = Num1 / Num2\n",
    "\n",
    "\n",
    "print(\"Sum\", sum)\n",
    "print(\"diffrence\", diffrence)\n",
    "print(\"product\",product)\n",
    "print(\"quotent\", quotent)"
   ]
  }
 ],
 "metadata": {
  "kernelspec": {
   "display_name": "Python 3",
   "language": "python",
   "name": "python3"
  },
  "language_info": {
   "codemirror_mode": {
    "name": "ipython",
    "version": 3
   },
   "file_extension": ".py",
   "mimetype": "text/x-python",
   "name": "python",
   "nbconvert_exporter": "python",
   "pygments_lexer": "ipython3",
   "version": "3.10.0"
  }
 },
 "nbformat": 4,
 "nbformat_minor": 5
}
